{
 "cells": [
  {
   "cell_type": "markdown",
   "metadata": {},
   "source": [
    "# Analysis Notebook for the scraper project"
   ]
  },
  {
   "cell_type": "code",
   "execution_count": 18,
   "metadata": {
    "execution": {
     "iopub.execute_input": "2020-10-18T13:46:21.900407Z",
     "iopub.status.busy": "2020-10-18T13:46:21.899405Z",
     "iopub.status.idle": "2020-10-18T13:46:21.906407Z",
     "shell.execute_reply": "2020-10-18T13:46:21.905405Z",
     "shell.execute_reply.started": "2020-10-18T13:46:21.900407Z"
    }
   },
   "outputs": [],
   "source": [
    "import pandas as pd\n",
    "import os\n",
    "import numpy as np\n",
    "from pathlib import Path\n",
    "import os\n",
    "import sys\n",
    "import re"
   ]
  },
  {
   "cell_type": "code",
   "execution_count": 19,
   "metadata": {
    "execution": {
     "iopub.execute_input": "2020-10-18T13:46:22.385433Z",
     "iopub.status.busy": "2020-10-18T13:46:22.385433Z",
     "iopub.status.idle": "2020-10-18T13:46:22.390406Z",
     "shell.execute_reply": "2020-10-18T13:46:22.389407Z",
     "shell.execute_reply.started": "2020-10-18T13:46:22.385433Z"
    }
   },
   "outputs": [],
   "source": [
    "# prevent hiding of columns\n",
    "pd.options.display.max_columns = None\n",
    "\n",
    "# prevent cropping of lng strings for display\n",
    "pd.options.display.max_colwidth = 300"
   ]
  },
  {
   "cell_type": "code",
   "execution_count": 20,
   "metadata": {
    "execution": {
     "iopub.execute_input": "2020-10-18T13:46:23.063406Z",
     "iopub.status.busy": "2020-10-18T13:46:23.062405Z",
     "iopub.status.idle": "2020-10-18T13:46:23.068414Z",
     "shell.execute_reply": "2020-10-18T13:46:23.067405Z",
     "shell.execute_reply.started": "2020-10-18T13:46:23.063406Z"
    }
   },
   "outputs": [],
   "source": [
    "# no wrapping of long strings"
   ]
  },
  {
   "cell_type": "code",
   "execution_count": 21,
   "metadata": {
    "execution": {
     "iopub.execute_input": "2020-10-18T13:46:23.392408Z",
     "iopub.status.busy": "2020-10-18T13:46:23.392408Z",
     "iopub.status.idle": "2020-10-18T13:46:23.399408Z",
     "shell.execute_reply": "2020-10-18T13:46:23.398407Z",
     "shell.execute_reply.started": "2020-10-18T13:46:23.392408Z"
    }
   },
   "outputs": [
    {
     "data": {
      "text/html": [
       "<style>\n",
       ".dataframe td {\n",
       "    white-space: nowrap;\n",
       "}\n",
       "</style>\n"
      ],
      "text/plain": [
       "<IPython.core.display.HTML object>"
      ]
     },
     "metadata": {},
     "output_type": "display_data"
    }
   ],
   "source": [
    "%%html\n",
    "<style>\n",
    ".dataframe td {\n",
    "    white-space: nowrap;\n",
    "}\n",
    "</style>"
   ]
  },
  {
   "cell_type": "code",
   "execution_count": 88,
   "metadata": {
    "execution": {
     "iopub.execute_input": "2020-10-18T22:19:48.704767Z",
     "iopub.status.busy": "2020-10-18T22:19:48.703774Z",
     "iopub.status.idle": "2020-10-18T22:19:48.740749Z",
     "shell.execute_reply": "2020-10-18T22:19:48.739775Z",
     "shell.execute_reply.started": "2020-10-18T22:19:48.704767Z"
    }
   },
   "outputs": [
    {
     "data": {
      "text/html": [
       "<div>\n",
       "<style scoped>\n",
       "    .dataframe tbody tr th:only-of-type {\n",
       "        vertical-align: middle;\n",
       "    }\n",
       "\n",
       "    .dataframe tbody tr th {\n",
       "        vertical-align: top;\n",
       "    }\n",
       "\n",
       "    .dataframe thead th {\n",
       "        text-align: right;\n",
       "    }\n",
       "</style>\n",
       "<table border=\"1\" class=\"dataframe\">\n",
       "  <thead>\n",
       "    <tr style=\"text-align: right;\">\n",
       "      <th></th>\n",
       "      <th>Unnamed: 0</th>\n",
       "      <th>index_url</th>\n",
       "      <th>alt</th>\n",
       "      <th>class</th>\n",
       "      <th>data-actions</th>\n",
       "      <th>data-advert-position</th>\n",
       "      <th>data-attr-href</th>\n",
       "      <th>data-category</th>\n",
       "      <th>data-label</th>\n",
       "      <th>data-trace</th>\n",
       "      <th>fname</th>\n",
       "      <th>href</th>\n",
       "      <th>processed</th>\n",
       "      <th>scrape_ts</th>\n",
       "    </tr>\n",
       "  </thead>\n",
       "  <tbody>\n",
       "    <tr>\n",
       "      <th>0</th>\n",
       "      <td>0</td>\n",
       "      <td>https://www.ronorp.net/zuerich/immobilien/wg-zuerich.1220/wunderschoenes-co-living-haus-mit-38-suiten-in-kloten.2042131?&amp;back_url=%2Fzuerich%2Fimmobilien%2Fwg-zuerich.1220%3Fs%3D1</td>\n",
       "      <td>Wunderschönes Co-Living Haus mit 38 Suiten in Kloten,...</td>\n",
       "      <td>[]</td>\n",
       "      <td>click</td>\n",
       "      <td>2042131_1220_cf282400a14da664718af86e91aa9d15</td>\n",
       "      <td>https://www.ronorp.net/zuerich/immobilien/wg-zuerich.1220/wunderschoenes-co-living-haus-mit-38-suiten-in-kloten.2042131?&amp;back_url=%2Fzuerich%2Fimmobilien%2Fwg-zuerich.1220%3Fs%3D1</td>\n",
       "      <td>ContentList</td>\n",
       "      <td>ContentTitle</td>\n",
       "      <td>NaN</td>\n",
       "      <td>C:\\coding\\wgscraper\\data\\ronorp\\adpage_2020-10-18_22-18-47_969143.scrape</td>\n",
       "      <td>https://www.ronorp.net/zuerich/immobilien/wg-zuerich.1220/wunderschoenes-co-living-haus-mit-38-suiten-in-kloten.2042131?&amp;back_url=%2Fzuerich%2Fimmobilien%2Fwg-zuerich.1220%3Fs%3D1</td>\n",
       "      <td>False</td>\n",
       "      <td>2020-10-18 22:18:47.969143</td>\n",
       "    </tr>\n",
       "    <tr>\n",
       "      <th>1</th>\n",
       "      <td>https://www.ronorp.net/zuerich/immobilien/wg-zuerich.1220/wunderschoenes-co-living-haus-mit-38-suiten-in-kloten.2042131?&amp;back_url=%2Fzuerich%2Fimmobilien%2Fwg-zuerich.1220%3Fs%3D1</td>\n",
       "      <td>NaN</td>\n",
       "      <td>Wunderschönes Co-Living Haus mit 38 Suiten in Kloten,...</td>\n",
       "      <td>[]</td>\n",
       "      <td>click</td>\n",
       "      <td>2042131_1220_c007fee2e6ef5fef97b2b7b81a7c63bc</td>\n",
       "      <td>https://www.ronorp.net/zuerich/immobilien/wg-zuerich.1220/wunderschoenes-co-living-haus-mit-38-suiten-in-kloten.2042131?&amp;back_url=%2Fzuerich%2Fimmobilien%2Fwg-zuerich.1220%3Fs%3D1</td>\n",
       "      <td>ContentList</td>\n",
       "      <td>ContentTitle</td>\n",
       "      <td>NaN</td>\n",
       "      <td>C:\\coding\\wgscraper\\data\\ronorp\\adpage_2020-10-19_00-09-27_570444.scrape</td>\n",
       "      <td>https://www.ronorp.net/zuerich/immobilien/wg-zuerich.1220/wunderschoenes-co-living-haus-mit-38-suiten-in-kloten.2042131?&amp;back_url=%2Fzuerich%2Fimmobilien%2Fwg-zuerich.1220%3Fs%3D1</td>\n",
       "      <td>False</td>\n",
       "      <td>2020-10-19 00:09:27.570444</td>\n",
       "    </tr>\n",
       "    <tr>\n",
       "      <th>2</th>\n",
       "      <td>https://www.ronorp.net/zuerich/immobilien/wg-zuerich.1220/schoenes-studio-in-wollerau.2072370?&amp;back_url=%2Fzuerich%2Fimmobilien%2Fwg-zuerich.1220%3Fs%3D1%26sort%3Dcreated%26page%3D7%26hash%3D8066eefae06f4ebdde76511cbb811cdf</td>\n",
       "      <td>NaN</td>\n",
       "      <td>Schönes Studio in Wollerau</td>\n",
       "      <td>[]</td>\n",
       "      <td>click</td>\n",
       "      <td>2072370_1220_3bd7300806c559e9a9c92bb64096ff30</td>\n",
       "      <td>https://www.ronorp.net/zuerich/immobilien/wg-zuerich.1220/schoenes-studio-in-wollerau.2072370?&amp;back_url=%2Fzuerich%2Fimmobilien%2Fwg-zuerich.1220%3Fs%3D1%26sort%3Dcreated%26page%3D7%26hash%3D8066eefae06f4ebdde76511cbb811cdf</td>\n",
       "      <td>ContentList</td>\n",
       "      <td>ContentTitle</td>\n",
       "      <td>NaN</td>\n",
       "      <td>C:\\coding\\wgscraper\\data\\ronorp\\adpage_2020-10-19_00-09-59_659456.scrape</td>\n",
       "      <td>https://www.ronorp.net/zuerich/immobilien/wg-zuerich.1220/schoenes-studio-in-wollerau.2072370?&amp;back_url=%2Fzuerich%2Fimmobilien%2Fwg-zuerich.1220%3Fs%3D1%26sort%3Dcreated%26page%3D7%26hash%3D8066eefae06f4ebdde76511cbb811cdf</td>\n",
       "      <td>False</td>\n",
       "      <td>2020-10-19 00:09:59.659456</td>\n",
       "    </tr>\n",
       "    <tr>\n",
       "      <th>3</th>\n",
       "      <td>https://www.ronorp.net/zuerich/immobilien/wg-zuerich.1220/3-5-zimmer-luxuswohnung-zu-vermieten-in-bilten.2072351?&amp;back_url=%2Fzuerich%2Fimmobilien%2Fwg-zuerich.1220%3Fs%3D1%26sort%3Dcreated%26page%3D7%26hash%3D8066eefae06f4ebdde76511cbb811cdf</td>\n",
       "      <td>NaN</td>\n",
       "      <td>3,5 Zimmer Luxuswohnung zu vermieten in Bilten</td>\n",
       "      <td>[]</td>\n",
       "      <td>click</td>\n",
       "      <td>2072351_1220_bb8d551ebe16be76d4bdb276fad4c24a</td>\n",
       "      <td>https://www.ronorp.net/zuerich/immobilien/wg-zuerich.1220/3-5-zimmer-luxuswohnung-zu-vermieten-in-bilten.2072351?&amp;back_url=%2Fzuerich%2Fimmobilien%2Fwg-zuerich.1220%3Fs%3D1%26sort%3Dcreated%26page%3D7%26hash%3D8066eefae06f4ebdde76511cbb811cdf</td>\n",
       "      <td>ContentList</td>\n",
       "      <td>ContentTitle</td>\n",
       "      <td>NaN</td>\n",
       "      <td>C:\\coding\\wgscraper\\data\\ronorp\\adpage_2020-10-19_00-10-05_825444.scrape</td>\n",
       "      <td>https://www.ronorp.net/zuerich/immobilien/wg-zuerich.1220/3-5-zimmer-luxuswohnung-zu-vermieten-in-bilten.2072351?&amp;back_url=%2Fzuerich%2Fimmobilien%2Fwg-zuerich.1220%3Fs%3D1%26sort%3Dcreated%26page%3D7%26hash%3D8066eefae06f4ebdde76511cbb811cdf</td>\n",
       "      <td>False</td>\n",
       "      <td>2020-10-19 00:10:05.825444</td>\n",
       "    </tr>\n",
       "    <tr>\n",
       "      <th>4</th>\n",
       "      <td>https://www.ronorp.net/zuerich/immobilien/wg-zuerich.1220/dachzimmer-in-wg-am-brupbacherplatz-wochenaufenthalter-in.2070785?&amp;back_url=%2Fzuerich%2Fimmobilien%2Fwg-zuerich.1220%3Fs%3D1%26page%3D13%26hash%3D8066eefae06f4ebdde76511cbb811cdf</td>\n",
       "      <td>NaN</td>\n",
       "      <td>Dachzimmer in WG am Brupbacherplatz //...</td>\n",
       "      <td>[]</td>\n",
       "      <td>click</td>\n",
       "      <td>2070785_1220_55792fd7a5cf63254d44f7a24e744a74</td>\n",
       "      <td>https://www.ronorp.net/zuerich/immobilien/wg-zuerich.1220/dachzimmer-in-wg-am-brupbacherplatz-wochenaufenthalter-in.2070785?&amp;back_url=%2Fzuerich%2Fimmobilien%2Fwg-zuerich.1220%3Fs%3D1%26page%3D13%26hash%3D8066eefae06f4ebdde76511cbb811cdf</td>\n",
       "      <td>ContentList</td>\n",
       "      <td>ContentTitle</td>\n",
       "      <td>NaN</td>\n",
       "      <td>C:\\coding\\wgscraper\\data\\ronorp\\adpage_2020-10-19_00-10-39_667485.scrape</td>\n",
       "      <td>https://www.ronorp.net/zuerich/immobilien/wg-zuerich.1220/dachzimmer-in-wg-am-brupbacherplatz-wochenaufenthalter-in.2070785?&amp;back_url=%2Fzuerich%2Fimmobilien%2Fwg-zuerich.1220%3Fs%3D1%26page%3D13%26hash%3D8066eefae06f4ebdde76511cbb811cdf</td>\n",
       "      <td>False</td>\n",
       "      <td>2020-10-19 00:10:39.667485</td>\n",
       "    </tr>\n",
       "    <tr>\n",
       "      <th>5</th>\n",
       "      <td>https://www.ronorp.net/zuerich/immobilien/wg-zuerich.1220/zimmer-in-gross-wg-auf-dem-hunziker-areal-per-1-dezember-zu.2070775?&amp;back_url=%2Fzuerich%2Fimmobilien%2Fwg-zuerich.1220%3Fs%3D1%26page%3D13%26hash%3D8066eefae06f4ebdde76511cbb811cdf</td>\n",
       "      <td>NaN</td>\n",
       "      <td>Zimmer in Gross-WG auf dem Hunziker Areal per 1. Dezember...</td>\n",
       "      <td>[]</td>\n",
       "      <td>click</td>\n",
       "      <td>2070775_1220_39664bc2b078ccb6ed279c609bf76053</td>\n",
       "      <td>https://www.ronorp.net/zuerich/immobilien/wg-zuerich.1220/zimmer-in-gross-wg-auf-dem-hunziker-areal-per-1-dezember-zu.2070775?&amp;back_url=%2Fzuerich%2Fimmobilien%2Fwg-zuerich.1220%3Fs%3D1%26page%3D13%26hash%3D8066eefae06f4ebdde76511cbb811cdf</td>\n",
       "      <td>ContentList</td>\n",
       "      <td>ContentTitle</td>\n",
       "      <td>NaN</td>\n",
       "      <td>C:\\coding\\wgscraper\\data\\ronorp\\adpage_2020-10-19_00-10-47_440471.scrape</td>\n",
       "      <td>https://www.ronorp.net/zuerich/immobilien/wg-zuerich.1220/zimmer-in-gross-wg-auf-dem-hunziker-areal-per-1-dezember-zu.2070775?&amp;back_url=%2Fzuerich%2Fimmobilien%2Fwg-zuerich.1220%3Fs%3D1%26page%3D13%26hash%3D8066eefae06f4ebdde76511cbb811cdf</td>\n",
       "      <td>False</td>\n",
       "      <td>2020-10-19 00:10:47.440471</td>\n",
       "    </tr>\n",
       "  </tbody>\n",
       "</table>\n",
       "</div>"
      ],
      "text/plain": [
       "                                                                                                                                                                                                                                           Unnamed: 0  \\\n",
       "0                                                                                                                                                                                                                                                   0   \n",
       "1                                                                 https://www.ronorp.net/zuerich/immobilien/wg-zuerich.1220/wunderschoenes-co-living-haus-mit-38-suiten-in-kloten.2042131?&back_url=%2Fzuerich%2Fimmobilien%2Fwg-zuerich.1220%3Fs%3D1   \n",
       "2                     https://www.ronorp.net/zuerich/immobilien/wg-zuerich.1220/schoenes-studio-in-wollerau.2072370?&back_url=%2Fzuerich%2Fimmobilien%2Fwg-zuerich.1220%3Fs%3D1%26sort%3Dcreated%26page%3D7%26hash%3D8066eefae06f4ebdde76511cbb811cdf   \n",
       "3  https://www.ronorp.net/zuerich/immobilien/wg-zuerich.1220/3-5-zimmer-luxuswohnung-zu-vermieten-in-bilten.2072351?&back_url=%2Fzuerich%2Fimmobilien%2Fwg-zuerich.1220%3Fs%3D1%26sort%3Dcreated%26page%3D7%26hash%3D8066eefae06f4ebdde76511cbb811cdf   \n",
       "4       https://www.ronorp.net/zuerich/immobilien/wg-zuerich.1220/dachzimmer-in-wg-am-brupbacherplatz-wochenaufenthalter-in.2070785?&back_url=%2Fzuerich%2Fimmobilien%2Fwg-zuerich.1220%3Fs%3D1%26page%3D13%26hash%3D8066eefae06f4ebdde76511cbb811cdf   \n",
       "5     https://www.ronorp.net/zuerich/immobilien/wg-zuerich.1220/zimmer-in-gross-wg-auf-dem-hunziker-areal-per-1-dezember-zu.2070775?&back_url=%2Fzuerich%2Fimmobilien%2Fwg-zuerich.1220%3Fs%3D1%26page%3D13%26hash%3D8066eefae06f4ebdde76511cbb811cdf   \n",
       "\n",
       "                                                                                                                                                                             index_url  \\\n",
       "0  https://www.ronorp.net/zuerich/immobilien/wg-zuerich.1220/wunderschoenes-co-living-haus-mit-38-suiten-in-kloten.2042131?&back_url=%2Fzuerich%2Fimmobilien%2Fwg-zuerich.1220%3Fs%3D1   \n",
       "1                                                                                                                                                                                  NaN   \n",
       "2                                                                                                                                                                                  NaN   \n",
       "3                                                                                                                                                                                  NaN   \n",
       "4                                                                                                                                                                                  NaN   \n",
       "5                                                                                                                                                                                  NaN   \n",
       "\n",
       "                                                            alt class  \\\n",
       "0      Wunderschönes Co-Living Haus mit 38 Suiten in Kloten,...    []   \n",
       "1      Wunderschönes Co-Living Haus mit 38 Suiten in Kloten,...    []   \n",
       "2                                    Schönes Studio in Wollerau    []   \n",
       "3                3,5 Zimmer Luxuswohnung zu vermieten in Bilten    []   \n",
       "4                     Dachzimmer in WG am Brupbacherplatz //...    []   \n",
       "5  Zimmer in Gross-WG auf dem Hunziker Areal per 1. Dezember...    []   \n",
       "\n",
       "  data-actions                           data-advert-position  \\\n",
       "0        click  2042131_1220_cf282400a14da664718af86e91aa9d15   \n",
       "1        click  2042131_1220_c007fee2e6ef5fef97b2b7b81a7c63bc   \n",
       "2        click  2072370_1220_3bd7300806c559e9a9c92bb64096ff30   \n",
       "3        click  2072351_1220_bb8d551ebe16be76d4bdb276fad4c24a   \n",
       "4        click  2070785_1220_55792fd7a5cf63254d44f7a24e744a74   \n",
       "5        click  2070775_1220_39664bc2b078ccb6ed279c609bf76053   \n",
       "\n",
       "                                                                                                                                                                                                                                       data-attr-href  \\\n",
       "0                                                                 https://www.ronorp.net/zuerich/immobilien/wg-zuerich.1220/wunderschoenes-co-living-haus-mit-38-suiten-in-kloten.2042131?&back_url=%2Fzuerich%2Fimmobilien%2Fwg-zuerich.1220%3Fs%3D1   \n",
       "1                                                                 https://www.ronorp.net/zuerich/immobilien/wg-zuerich.1220/wunderschoenes-co-living-haus-mit-38-suiten-in-kloten.2042131?&back_url=%2Fzuerich%2Fimmobilien%2Fwg-zuerich.1220%3Fs%3D1   \n",
       "2                     https://www.ronorp.net/zuerich/immobilien/wg-zuerich.1220/schoenes-studio-in-wollerau.2072370?&back_url=%2Fzuerich%2Fimmobilien%2Fwg-zuerich.1220%3Fs%3D1%26sort%3Dcreated%26page%3D7%26hash%3D8066eefae06f4ebdde76511cbb811cdf   \n",
       "3  https://www.ronorp.net/zuerich/immobilien/wg-zuerich.1220/3-5-zimmer-luxuswohnung-zu-vermieten-in-bilten.2072351?&back_url=%2Fzuerich%2Fimmobilien%2Fwg-zuerich.1220%3Fs%3D1%26sort%3Dcreated%26page%3D7%26hash%3D8066eefae06f4ebdde76511cbb811cdf   \n",
       "4       https://www.ronorp.net/zuerich/immobilien/wg-zuerich.1220/dachzimmer-in-wg-am-brupbacherplatz-wochenaufenthalter-in.2070785?&back_url=%2Fzuerich%2Fimmobilien%2Fwg-zuerich.1220%3Fs%3D1%26page%3D13%26hash%3D8066eefae06f4ebdde76511cbb811cdf   \n",
       "5     https://www.ronorp.net/zuerich/immobilien/wg-zuerich.1220/zimmer-in-gross-wg-auf-dem-hunziker-areal-per-1-dezember-zu.2070775?&back_url=%2Fzuerich%2Fimmobilien%2Fwg-zuerich.1220%3Fs%3D1%26page%3D13%26hash%3D8066eefae06f4ebdde76511cbb811cdf   \n",
       "\n",
       "  data-category    data-label  data-trace  \\\n",
       "0   ContentList  ContentTitle         NaN   \n",
       "1   ContentList  ContentTitle         NaN   \n",
       "2   ContentList  ContentTitle         NaN   \n",
       "3   ContentList  ContentTitle         NaN   \n",
       "4   ContentList  ContentTitle         NaN   \n",
       "5   ContentList  ContentTitle         NaN   \n",
       "\n",
       "                                                                      fname  \\\n",
       "0  C:\\coding\\wgscraper\\data\\ronorp\\adpage_2020-10-18_22-18-47_969143.scrape   \n",
       "1  C:\\coding\\wgscraper\\data\\ronorp\\adpage_2020-10-19_00-09-27_570444.scrape   \n",
       "2  C:\\coding\\wgscraper\\data\\ronorp\\adpage_2020-10-19_00-09-59_659456.scrape   \n",
       "3  C:\\coding\\wgscraper\\data\\ronorp\\adpage_2020-10-19_00-10-05_825444.scrape   \n",
       "4  C:\\coding\\wgscraper\\data\\ronorp\\adpage_2020-10-19_00-10-39_667485.scrape   \n",
       "5  C:\\coding\\wgscraper\\data\\ronorp\\adpage_2020-10-19_00-10-47_440471.scrape   \n",
       "\n",
       "                                                                                                                                                                                                                                                 href  \\\n",
       "0                                                                 https://www.ronorp.net/zuerich/immobilien/wg-zuerich.1220/wunderschoenes-co-living-haus-mit-38-suiten-in-kloten.2042131?&back_url=%2Fzuerich%2Fimmobilien%2Fwg-zuerich.1220%3Fs%3D1   \n",
       "1                                                                 https://www.ronorp.net/zuerich/immobilien/wg-zuerich.1220/wunderschoenes-co-living-haus-mit-38-suiten-in-kloten.2042131?&back_url=%2Fzuerich%2Fimmobilien%2Fwg-zuerich.1220%3Fs%3D1   \n",
       "2                     https://www.ronorp.net/zuerich/immobilien/wg-zuerich.1220/schoenes-studio-in-wollerau.2072370?&back_url=%2Fzuerich%2Fimmobilien%2Fwg-zuerich.1220%3Fs%3D1%26sort%3Dcreated%26page%3D7%26hash%3D8066eefae06f4ebdde76511cbb811cdf   \n",
       "3  https://www.ronorp.net/zuerich/immobilien/wg-zuerich.1220/3-5-zimmer-luxuswohnung-zu-vermieten-in-bilten.2072351?&back_url=%2Fzuerich%2Fimmobilien%2Fwg-zuerich.1220%3Fs%3D1%26sort%3Dcreated%26page%3D7%26hash%3D8066eefae06f4ebdde76511cbb811cdf   \n",
       "4       https://www.ronorp.net/zuerich/immobilien/wg-zuerich.1220/dachzimmer-in-wg-am-brupbacherplatz-wochenaufenthalter-in.2070785?&back_url=%2Fzuerich%2Fimmobilien%2Fwg-zuerich.1220%3Fs%3D1%26page%3D13%26hash%3D8066eefae06f4ebdde76511cbb811cdf   \n",
       "5     https://www.ronorp.net/zuerich/immobilien/wg-zuerich.1220/zimmer-in-gross-wg-auf-dem-hunziker-areal-per-1-dezember-zu.2070775?&back_url=%2Fzuerich%2Fimmobilien%2Fwg-zuerich.1220%3Fs%3D1%26page%3D13%26hash%3D8066eefae06f4ebdde76511cbb811cdf   \n",
       "\n",
       "   processed                   scrape_ts  \n",
       "0      False  2020-10-18 22:18:47.969143  \n",
       "1      False  2020-10-19 00:09:27.570444  \n",
       "2      False  2020-10-19 00:09:59.659456  \n",
       "3      False  2020-10-19 00:10:05.825444  \n",
       "4      False  2020-10-19 00:10:39.667485  \n",
       "5      False  2020-10-19 00:10:47.440471  "
      ]
     },
     "execution_count": 88,
     "metadata": {},
     "output_type": "execute_result"
    }
   ],
   "source": [
    "root = Path(os.getcwd()).parent\n",
    "fname = root / 'data' / 'room_database.csv'\n",
    "df=pd.read_csv(fname)\n",
    "df"
   ]
  },
  {
   "cell_type": "code",
   "execution_count": 93,
   "metadata": {
    "execution": {
     "iopub.execute_input": "2020-10-18T22:20:50.830749Z",
     "iopub.status.busy": "2020-10-18T22:20:50.829748Z",
     "iopub.status.idle": "2020-10-18T22:20:50.837748Z",
     "shell.execute_reply": "2020-10-18T22:20:50.836748Z",
     "shell.execute_reply.started": "2020-10-18T22:20:50.830749Z"
    }
   },
   "outputs": [
    {
     "data": {
      "text/plain": [
       "True"
      ]
     },
     "execution_count": 93,
     "metadata": {},
     "output_type": "execute_result"
    }
   ],
   "source": [
    "link ='https://www.ronorp.net/zuerich/immobilien/wg-zuerich.1220/wunderschoenes-co-living-haus-mit-38-suiten-in-kloten.2042131?&back_url=%2Fzuerich%2Fimmobilien%2Fwg-zuerich.1220%3Fs%3D1'\n",
    "link in df['href'].values\n"
   ]
  },
  {
   "cell_type": "code",
   "execution_count": 27,
   "metadata": {
    "execution": {
     "iopub.execute_input": "2020-10-18T13:47:27.649405Z",
     "iopub.status.busy": "2020-10-18T13:47:27.649405Z",
     "iopub.status.idle": "2020-10-18T13:47:27.654408Z",
     "shell.execute_reply": "2020-10-18T13:47:27.653432Z",
     "shell.execute_reply.started": "2020-10-18T13:47:27.649405Z"
    }
   },
   "outputs": [],
   "source": [
    "a=df.to_dict()"
   ]
  },
  {
   "cell_type": "code",
   "execution_count": 66,
   "metadata": {
    "execution": {
     "iopub.execute_input": "2020-10-18T20:05:53.941182Z",
     "iopub.status.busy": "2020-10-18T20:05:53.940182Z",
     "iopub.status.idle": "2020-10-18T20:05:53.954180Z",
     "shell.execute_reply": "2020-10-18T20:05:53.953157Z",
     "shell.execute_reply.started": "2020-10-18T20:05:53.941182Z"
    }
   },
   "outputs": [
    {
     "data": {
      "text/html": [
       "<div>\n",
       "<style scoped>\n",
       "    .dataframe tbody tr th:only-of-type {\n",
       "        vertical-align: middle;\n",
       "    }\n",
       "\n",
       "    .dataframe tbody tr th {\n",
       "        vertical-align: top;\n",
       "    }\n",
       "\n",
       "    .dataframe thead th {\n",
       "        text-align: right;\n",
       "    }\n",
       "</style>\n",
       "<table border=\"1\" class=\"dataframe\">\n",
       "  <thead>\n",
       "    <tr style=\"text-align: right;\">\n",
       "      <th></th>\n",
       "      <th>nr1</th>\n",
       "      <th>nr2</th>\n",
       "    </tr>\n",
       "  </thead>\n",
       "  <tbody>\n",
       "    <tr>\n",
       "      <th>a</th>\n",
       "      <td>1</td>\n",
       "      <td>2</td>\n",
       "    </tr>\n",
       "    <tr>\n",
       "      <th>b</th>\n",
       "      <td>3</td>\n",
       "      <td>4</td>\n",
       "    </tr>\n",
       "  </tbody>\n",
       "</table>\n",
       "</div>"
      ],
      "text/plain": [
       "   nr1  nr2\n",
       "a    1    2\n",
       "b    3    4"
      ]
     },
     "execution_count": 66,
     "metadata": {},
     "output_type": "execute_result"
    }
   ],
   "source": [
    "a=pd.DataFrame()\n",
    "a={'a':{'nr1':1,'nr2':2}}\n",
    "a.update({'b':{'nr1':3,'nr2':4}})\n",
    "b=pd.DataFrame(a).transpose()\n",
    "b"
   ]
  },
  {
   "cell_type": "code",
   "execution_count": 33,
   "metadata": {
    "execution": {
     "iopub.execute_input": "2020-10-18T14:51:02.589197Z",
     "iopub.status.busy": "2020-10-18T14:51:02.588197Z",
     "iopub.status.idle": "2020-10-18T14:51:02.594228Z",
     "shell.execute_reply": "2020-10-18T14:51:02.593197Z",
     "shell.execute_reply.started": "2020-10-18T14:51:02.589197Z"
    }
   },
   "outputs": [],
   "source": [
    "import datetime"
   ]
  },
  {
   "cell_type": "code",
   "execution_count": 43,
   "metadata": {
    "execution": {
     "iopub.execute_input": "2020-10-18T14:53:42.256204Z",
     "iopub.status.busy": "2020-10-18T14:53:42.256204Z",
     "iopub.status.idle": "2020-10-18T14:53:42.262177Z",
     "shell.execute_reply": "2020-10-18T14:53:42.261178Z",
     "shell.execute_reply.started": "2020-10-18T14:53:42.256204Z"
    }
   },
   "outputs": [
    {
     "data": {
      "text/plain": [
       "'2020-10-18_16-53-42_257201'"
      ]
     },
     "execution_count": 43,
     "metadata": {},
     "output_type": "execute_result"
    }
   ],
   "source": [
    "datetime.datetime.now().strftime(\"%Y-%m-%d_%H-%M-%S_%f\")"
   ]
  },
  {
   "cell_type": "code",
   "execution_count": 69,
   "metadata": {
    "execution": {
     "iopub.execute_input": "2020-10-18T20:10:36.063860Z",
     "iopub.status.busy": "2020-10-18T20:10:36.062833Z",
     "iopub.status.idle": "2020-10-18T20:10:36.077833Z",
     "shell.execute_reply": "2020-10-18T20:10:36.076849Z",
     "shell.execute_reply.started": "2020-10-18T20:10:36.063860Z"
    }
   },
   "outputs": [],
   "source": [
    "from pathlib import Path\n",
    "a={'https://www.ronorp.net/zuerich/immobilien/wg-zuerich.1220/wunderschoenes-co-living-haus-mit-38-suiten-in-kloten.2042131?&back_url=%2Fzuerich%2Fimmobilien%2Fwg-zuerich.1220%3Fs%3D1': {'data-advert-position': '2042131_1220_20941f96bcb24379f597ac78d9fc0d78',\n",
    "  'class': [],\n",
    "  'href': 'https://www.ronorp.net/zuerich/immobilien/wg-zuerich.1220/wunderschoenes-co-living-haus-mit-38-suiten-in-kloten.2042131?&back_url=%2Fzuerich%2Fimmobilien%2Fwg-zuerich.1220%3Fs%3D1',\n",
    "  'data-attr-href': 'https://www.ronorp.net/zuerich/immobilien/wg-zuerich.1220/wunderschoenes-co-living-haus-mit-38-suiten-in-kloten.2042131?&back_url=%2Fzuerich%2Fimmobilien%2Fwg-zuerich.1220%3Fs%3D1',\n",
    "  'alt': 'Wunderschönes Co-Living Haus mit 38 Suiten in Kloten,...',\n",
    "  'data-trace': '',\n",
    "  'data-category': 'ContentList',\n",
    "  'data-label': 'ContentTitle',\n",
    "  'data-actions': 'click',\n",
    "  'fname': 'C:/coding/wgscraper/data/ronorp/adpage_2020-10-18_22-08-50_909156.scrape',\n",
    "  'scrape_ts': datetime.datetime(2020, 10, 18, 22, 8, 50, 909156),\n",
    "  'processed': False},\n",
    " 'https://www.ronorp.net/zuerich/immobilien/wg-zuerich.1220/wg-zimmer-k5-befristet-fuer-6-monate-eventuell-auch-fuer.2073431?&back_url=%2Fzuerich%2Fimmobilien%2Fwg-zuerich.1220%3Fs%3D1': {'data-advert-position': '2073431_1220_995118c3e235ede9f70e283eaac961d1',\n",
    "  'class': [],\n",
    "  'href': 'https://www.ronorp.net/zuerich/immobilien/wg-zuerich.1220/wg-zimmer-k5-befristet-fuer-6-monate-eventuell-auch-fuer.2073431?&back_url=%2Fzuerich%2Fimmobilien%2Fwg-zuerich.1220%3Fs%3D1',\n",
    "  'data-attr-href': 'https://www.ronorp.net/zuerich/immobilien/wg-zuerich.1220/wg-zimmer-k5-befristet-fuer-6-monate-eventuell-auch-fuer.2073431?&back_url=%2Fzuerich%2Fimmobilien%2Fwg-zuerich.1220%3Fs%3D1',\n",
    "  'alt': 'WG zimmer K5 befristet für 6 Monate (eventuell auch fuer...',\n",
    "  'data-trace': '',\n",
    "  'data-category': 'ContentList',\n",
    "  'data-label': 'ContentTitle',\n",
    "  'data-actions': 'click',\n",
    "  'fname': 'C:/coding/wgscraper/data/ronorp/adpage_2020-10-18_22-08-55_236071.scrape',\n",
    "  'scrape_ts': datetime.datetime(2020, 10, 18, 22, 8, 55, 236071),\n",
    "  'processed': False},\n",
    " 'https://www.ronorp.net/zuerich/immobilien/wg-zuerich.1220/mitbewohnerin-gesucht-ab-1-nov-dez-od-nach-vereinbarung.2073422?&back_url=%2Fzuerich%2Fimmobilien%2Fwg-zuerich.1220%3Fs%3D1%26page%3D2%26hash%3D8066eefae06f4ebdde76511cbb811cdf': {'data-advert-position': '2073422_1220_ee0e5471d1e37033c2d82a73050ad0b0',\n",
    "  'class': [],\n",
    "  'href': 'https://www.ronorp.net/zuerich/immobilien/wg-zuerich.1220/mitbewohnerin-gesucht-ab-1-nov-dez-od-nach-vereinbarung.2073422?&back_url=%2Fzuerich%2Fimmobilien%2Fwg-zuerich.1220%3Fs%3D1%26page%3D2%26hash%3D8066eefae06f4ebdde76511cbb811cdf',\n",
    "  'data-attr-href': 'https://www.ronorp.net/zuerich/immobilien/wg-zuerich.1220/mitbewohnerin-gesucht-ab-1-nov-dez-od-nach-vereinbarung.2073422?&back_url=%2Fzuerich%2Fimmobilien%2Fwg-zuerich.1220%3Fs%3D1%26page%3D2%26hash%3D8066eefae06f4ebdde76511cbb811cdf',\n",
    "  'alt': 'Mitbewohnerin gesucht ab 1. Nov/Dez od. nach Vereinbarung',\n",
    "  'data-trace': '',\n",
    "  'data-category': 'ContentList',\n",
    "  'data-label': 'ContentTitle',\n",
    "  'data-actions': 'click',\n",
    "  'fname': 'C:/coding/wgscraper/data/ronorp/adpage_2020-10-18_22-08-58_837035.scrape',\n",
    "  'scrape_ts': datetime.datetime(2020, 10, 18, 22, 8, 58, 837035),\n",
    "  'processed': False},\n",
    " 'https://www.ronorp.net/zuerich/immobilien/wg-zuerich.1220/wg-zimmer-in-4er-wg-in-5-min-gehdistanz-zum-hb.2073417?&back_url=%2Fzuerich%2Fimmobilien%2Fwg-zuerich.1220%3Fs%3D1%26page%3D2%26hash%3D8066eefae06f4ebdde76511cbb811cdf': {'data-advert-position': '2073417_1220_4ace612802ebbbfe74b3f1383a14378a',\n",
    "  'class': [],\n",
    "  'href': 'https://www.ronorp.net/zuerich/immobilien/wg-zuerich.1220/wg-zimmer-in-4er-wg-in-5-min-gehdistanz-zum-hb.2073417?&back_url=%2Fzuerich%2Fimmobilien%2Fwg-zuerich.1220%3Fs%3D1%26page%3D2%26hash%3D8066eefae06f4ebdde76511cbb811cdf',\n",
    "  'data-attr-href': 'https://www.ronorp.net/zuerich/immobilien/wg-zuerich.1220/wg-zimmer-in-4er-wg-in-5-min-gehdistanz-zum-hb.2073417?&back_url=%2Fzuerich%2Fimmobilien%2Fwg-zuerich.1220%3Fs%3D1%26page%3D2%26hash%3D8066eefae06f4ebdde76511cbb811cdf',\n",
    "  'alt': 'WG-Zimmer in 4er-WG in 5 min. Gehdistanz zum HB',\n",
    "  'data-trace': '',\n",
    "  'data-category': 'ContentList',\n",
    "  'data-label': 'ContentTitle',\n",
    "  'data-actions': 'click',\n",
    "  'fname': 'C:/coding/wgscraper/data/ronorp/adpage_2020-10-18_22-09-02_609034.scrape',\n",
    "  'scrape_ts': datetime.datetime(2020, 10, 18, 22, 9, 2, 609034),\n",
    "  'processed': False},\n",
    " 'https://www.ronorp.net/zuerich/immobilien/wg-zuerich.1220/wunderschoenes-zimmer-mit-eigenem-bad-im-5-stock-in-toplage.2073410?&back_url=%2Fzuerich%2Fimmobilien%2Fwg-zuerich.1220%3Fs%3D1%26page%3D2%26hash%3D8066eefae06f4ebdde76511cbb811cdf': {'data-advert-position': '2073410_1220_11278ecccec3fde69f6b169b9aa10632',\n",
    "  'class': [],\n",
    "  'href': 'https://www.ronorp.net/zuerich/immobilien/wg-zuerich.1220/wunderschoenes-zimmer-mit-eigenem-bad-im-5-stock-in-toplage.2073410?&back_url=%2Fzuerich%2Fimmobilien%2Fwg-zuerich.1220%3Fs%3D1%26page%3D2%26hash%3D8066eefae06f4ebdde76511cbb811cdf',\n",
    "  'data-attr-href': 'https://www.ronorp.net/zuerich/immobilien/wg-zuerich.1220/wunderschoenes-zimmer-mit-eigenem-bad-im-5-stock-in-toplage.2073410?&back_url=%2Fzuerich%2Fimmobilien%2Fwg-zuerich.1220%3Fs%3D1%26page%3D2%26hash%3D8066eefae06f4ebdde76511cbb811cdf',\n",
    "  'alt': 'Wunderschönes Zimmer mit eigenem Bad im 5. Stock in...',\n",
    "  'data-trace': '',\n",
    "  'data-category': 'ContentList',\n",
    "  'data-label': 'ContentTitle',\n",
    "  'data-actions': 'click',\n",
    "  'fname':'C:/coding/wgscraper/data/ronorp/adpage_2020-10-18_22-09-05_941036.scrape',\n",
    "  'scrape_ts': datetime.datetime(2020, 10, 18, 22, 9, 5, 941036),\n",
    "  'processed': False}}\n"
   ]
  },
  {
   "cell_type": "code",
   "execution_count": 82,
   "metadata": {
    "execution": {
     "iopub.execute_input": "2020-10-18T20:13:51.262984Z",
     "iopub.status.busy": "2020-10-18T20:13:51.262984Z",
     "iopub.status.idle": "2020-10-18T20:13:51.294983Z",
     "shell.execute_reply": "2020-10-18T20:13:51.293984Z",
     "shell.execute_reply.started": "2020-10-18T20:13:51.262984Z"
    }
   },
   "outputs": [
    {
     "data": {
      "text/html": [
       "<div>\n",
       "<style scoped>\n",
       "    .dataframe tbody tr th:only-of-type {\n",
       "        vertical-align: middle;\n",
       "    }\n",
       "\n",
       "    .dataframe tbody tr th {\n",
       "        vertical-align: top;\n",
       "    }\n",
       "\n",
       "    .dataframe thead th {\n",
       "        text-align: right;\n",
       "    }\n",
       "</style>\n",
       "<table border=\"1\" class=\"dataframe\">\n",
       "  <thead>\n",
       "    <tr style=\"text-align: right;\">\n",
       "      <th></th>\n",
       "      <th>data-advert-position</th>\n",
       "      <th>class</th>\n",
       "      <th>href</th>\n",
       "      <th>data-attr-href</th>\n",
       "      <th>alt</th>\n",
       "      <th>data-trace</th>\n",
       "      <th>data-category</th>\n",
       "      <th>data-label</th>\n",
       "      <th>data-actions</th>\n",
       "      <th>fname</th>\n",
       "      <th>scrape_ts</th>\n",
       "      <th>processed</th>\n",
       "    </tr>\n",
       "    <tr>\n",
       "      <th>link</th>\n",
       "      <th></th>\n",
       "      <th></th>\n",
       "      <th></th>\n",
       "      <th></th>\n",
       "      <th></th>\n",
       "      <th></th>\n",
       "      <th></th>\n",
       "      <th></th>\n",
       "      <th></th>\n",
       "      <th></th>\n",
       "      <th></th>\n",
       "      <th></th>\n",
       "    </tr>\n",
       "  </thead>\n",
       "  <tbody>\n",
       "    <tr>\n",
       "      <th>https://www.ronorp.net/zuerich/immobilien/wg-zuerich.1220/wunderschoenes-co-living-haus-mit-38-suiten-in-kloten.2042131?&amp;back_url=%2Fzuerich%2Fimmobilien%2Fwg-zuerich.1220%3Fs%3D1</th>\n",
       "      <td>2042131_1220_20941f96bcb24379f597ac78d9fc0d78</td>\n",
       "      <td>[]</td>\n",
       "      <td>https://www.ronorp.net/zuerich/immobilien/wg-zuerich.1220/wunderschoenes-co-living-haus-mit-38-suiten-in-kloten.2042131?&amp;back_url=%2Fzuerich%2Fimmobilien%2Fwg-zuerich.1220%3Fs%3D1</td>\n",
       "      <td>https://www.ronorp.net/zuerich/immobilien/wg-zuerich.1220/wunderschoenes-co-living-haus-mit-38-suiten-in-kloten.2042131?&amp;back_url=%2Fzuerich%2Fimmobilien%2Fwg-zuerich.1220%3Fs%3D1</td>\n",
       "      <td>Wunderschönes Co-Living Haus mit 38 Suiten in Kloten,...</td>\n",
       "      <td></td>\n",
       "      <td>ContentList</td>\n",
       "      <td>ContentTitle</td>\n",
       "      <td>click</td>\n",
       "      <td>C:/coding/wgscraper/data/ronorp/adpage_2020-10-18_22-08-50_909156.scrape</td>\n",
       "      <td>2020-10-18 22:08:50.909156</td>\n",
       "      <td>False</td>\n",
       "    </tr>\n",
       "    <tr>\n",
       "      <th>https://www.ronorp.net/zuerich/immobilien/wg-zuerich.1220/wg-zimmer-k5-befristet-fuer-6-monate-eventuell-auch-fuer.2073431?&amp;back_url=%2Fzuerich%2Fimmobilien%2Fwg-zuerich.1220%3Fs%3D1</th>\n",
       "      <td>2073431_1220_995118c3e235ede9f70e283eaac961d1</td>\n",
       "      <td>[]</td>\n",
       "      <td>https://www.ronorp.net/zuerich/immobilien/wg-zuerich.1220/wg-zimmer-k5-befristet-fuer-6-monate-eventuell-auch-fuer.2073431?&amp;back_url=%2Fzuerich%2Fimmobilien%2Fwg-zuerich.1220%3Fs%3D1</td>\n",
       "      <td>https://www.ronorp.net/zuerich/immobilien/wg-zuerich.1220/wg-zimmer-k5-befristet-fuer-6-monate-eventuell-auch-fuer.2073431?&amp;back_url=%2Fzuerich%2Fimmobilien%2Fwg-zuerich.1220%3Fs%3D1</td>\n",
       "      <td>WG zimmer K5 befristet für 6 Monate (eventuell auch fuer...</td>\n",
       "      <td></td>\n",
       "      <td>ContentList</td>\n",
       "      <td>ContentTitle</td>\n",
       "      <td>click</td>\n",
       "      <td>C:/coding/wgscraper/data/ronorp/adpage_2020-10-18_22-08-55_236071.scrape</td>\n",
       "      <td>2020-10-18 22:08:55.236071</td>\n",
       "      <td>False</td>\n",
       "    </tr>\n",
       "    <tr>\n",
       "      <th>https://www.ronorp.net/zuerich/immobilien/wg-zuerich.1220/mitbewohnerin-gesucht-ab-1-nov-dez-od-nach-vereinbarung.2073422?&amp;back_url=%2Fzuerich%2Fimmobilien%2Fwg-zuerich.1220%3Fs%3D1%26page%3D2%26hash%3D8066eefae06f4ebdde76511cbb811cdf</th>\n",
       "      <td>2073422_1220_ee0e5471d1e37033c2d82a73050ad0b0</td>\n",
       "      <td>[]</td>\n",
       "      <td>https://www.ronorp.net/zuerich/immobilien/wg-zuerich.1220/mitbewohnerin-gesucht-ab-1-nov-dez-od-nach-vereinbarung.2073422?&amp;back_url=%2Fzuerich%2Fimmobilien%2Fwg-zuerich.1220%3Fs%3D1%26page%3D2%26hash%3D8066eefae06f4ebdde76511cbb811cdf</td>\n",
       "      <td>https://www.ronorp.net/zuerich/immobilien/wg-zuerich.1220/mitbewohnerin-gesucht-ab-1-nov-dez-od-nach-vereinbarung.2073422?&amp;back_url=%2Fzuerich%2Fimmobilien%2Fwg-zuerich.1220%3Fs%3D1%26page%3D2%26hash%3D8066eefae06f4ebdde76511cbb811cdf</td>\n",
       "      <td>Mitbewohnerin gesucht ab 1. Nov/Dez od. nach Vereinbarung</td>\n",
       "      <td></td>\n",
       "      <td>ContentList</td>\n",
       "      <td>ContentTitle</td>\n",
       "      <td>click</td>\n",
       "      <td>C:/coding/wgscraper/data/ronorp/adpage_2020-10-18_22-08-58_837035.scrape</td>\n",
       "      <td>2020-10-18 22:08:58.837035</td>\n",
       "      <td>False</td>\n",
       "    </tr>\n",
       "    <tr>\n",
       "      <th>https://www.ronorp.net/zuerich/immobilien/wg-zuerich.1220/wg-zimmer-in-4er-wg-in-5-min-gehdistanz-zum-hb.2073417?&amp;back_url=%2Fzuerich%2Fimmobilien%2Fwg-zuerich.1220%3Fs%3D1%26page%3D2%26hash%3D8066eefae06f4ebdde76511cbb811cdf</th>\n",
       "      <td>2073417_1220_4ace612802ebbbfe74b3f1383a14378a</td>\n",
       "      <td>[]</td>\n",
       "      <td>https://www.ronorp.net/zuerich/immobilien/wg-zuerich.1220/wg-zimmer-in-4er-wg-in-5-min-gehdistanz-zum-hb.2073417?&amp;back_url=%2Fzuerich%2Fimmobilien%2Fwg-zuerich.1220%3Fs%3D1%26page%3D2%26hash%3D8066eefae06f4ebdde76511cbb811cdf</td>\n",
       "      <td>https://www.ronorp.net/zuerich/immobilien/wg-zuerich.1220/wg-zimmer-in-4er-wg-in-5-min-gehdistanz-zum-hb.2073417?&amp;back_url=%2Fzuerich%2Fimmobilien%2Fwg-zuerich.1220%3Fs%3D1%26page%3D2%26hash%3D8066eefae06f4ebdde76511cbb811cdf</td>\n",
       "      <td>WG-Zimmer in 4er-WG in 5 min. Gehdistanz zum HB</td>\n",
       "      <td></td>\n",
       "      <td>ContentList</td>\n",
       "      <td>ContentTitle</td>\n",
       "      <td>click</td>\n",
       "      <td>C:/coding/wgscraper/data/ronorp/adpage_2020-10-18_22-09-02_609034.scrape</td>\n",
       "      <td>2020-10-18 22:09:02.609034</td>\n",
       "      <td>False</td>\n",
       "    </tr>\n",
       "    <tr>\n",
       "      <th>https://www.ronorp.net/zuerich/immobilien/wg-zuerich.1220/wunderschoenes-zimmer-mit-eigenem-bad-im-5-stock-in-toplage.2073410?&amp;back_url=%2Fzuerich%2Fimmobilien%2Fwg-zuerich.1220%3Fs%3D1%26page%3D2%26hash%3D8066eefae06f4ebdde76511cbb811cdf</th>\n",
       "      <td>2073410_1220_11278ecccec3fde69f6b169b9aa10632</td>\n",
       "      <td>[]</td>\n",
       "      <td>https://www.ronorp.net/zuerich/immobilien/wg-zuerich.1220/wunderschoenes-zimmer-mit-eigenem-bad-im-5-stock-in-toplage.2073410?&amp;back_url=%2Fzuerich%2Fimmobilien%2Fwg-zuerich.1220%3Fs%3D1%26page%3D2%26hash%3D8066eefae06f4ebdde76511cbb811cdf</td>\n",
       "      <td>https://www.ronorp.net/zuerich/immobilien/wg-zuerich.1220/wunderschoenes-zimmer-mit-eigenem-bad-im-5-stock-in-toplage.2073410?&amp;back_url=%2Fzuerich%2Fimmobilien%2Fwg-zuerich.1220%3Fs%3D1%26page%3D2%26hash%3D8066eefae06f4ebdde76511cbb811cdf</td>\n",
       "      <td>Wunderschönes Zimmer mit eigenem Bad im 5. Stock in...</td>\n",
       "      <td></td>\n",
       "      <td>ContentList</td>\n",
       "      <td>ContentTitle</td>\n",
       "      <td>click</td>\n",
       "      <td>C:/coding/wgscraper/data/ronorp/adpage_2020-10-18_22-09-05_941036.scrape</td>\n",
       "      <td>2020-10-18 22:09:05.941036</td>\n",
       "      <td>False</td>\n",
       "    </tr>\n",
       "  </tbody>\n",
       "</table>\n",
       "</div>"
      ],
      "text/plain": [
       "                                                                                                                                                                                                                                                                         data-advert-position  \\\n",
       "link                                                                                                                                                                                                                                                                                            \n",
       "https://www.ronorp.net/zuerich/immobilien/wg-zuerich.1220/wunderschoenes-co-living-haus-mit-38-suiten-in-kloten.2042131?&back_url=%2Fzuerich%2Fimmobilien%2Fwg-zuerich.1220%3Fs%3D1                                                             2042131_1220_20941f96bcb24379f597ac78d9fc0d78   \n",
       "https://www.ronorp.net/zuerich/immobilien/wg-zuerich.1220/wg-zimmer-k5-befristet-fuer-6-monate-eventuell-auch-fuer.2073431?&back_url=%2Fzuerich%2Fimmobilien%2Fwg-zuerich.1220%3Fs%3D1                                                          2073431_1220_995118c3e235ede9f70e283eaac961d1   \n",
       "https://www.ronorp.net/zuerich/immobilien/wg-zuerich.1220/mitbewohnerin-gesucht-ab-1-nov-dez-od-nach-vereinbarung.2073422?&back_url=%2Fzuerich%2Fimmobilien%2Fwg-zuerich.1220%3Fs%3D1%26page%3D2%26hash%3D8066eefae06f4ebdde76511cbb811cdf      2073422_1220_ee0e5471d1e37033c2d82a73050ad0b0   \n",
       "https://www.ronorp.net/zuerich/immobilien/wg-zuerich.1220/wg-zimmer-in-4er-wg-in-5-min-gehdistanz-zum-hb.2073417?&back_url=%2Fzuerich%2Fimmobilien%2Fwg-zuerich.1220%3Fs%3D1%26page%3D2%26hash%3D8066eefae06f4ebdde76511cbb811cdf               2073417_1220_4ace612802ebbbfe74b3f1383a14378a   \n",
       "https://www.ronorp.net/zuerich/immobilien/wg-zuerich.1220/wunderschoenes-zimmer-mit-eigenem-bad-im-5-stock-in-toplage.2073410?&back_url=%2Fzuerich%2Fimmobilien%2Fwg-zuerich.1220%3Fs%3D1%26page%3D2%26hash%3D8066eefae06f4ebdde76511cbb811cdf  2073410_1220_11278ecccec3fde69f6b169b9aa10632   \n",
       "\n",
       "                                                                                                                                                                                                                                               class  \\\n",
       "link                                                                                                                                                                                                                                                   \n",
       "https://www.ronorp.net/zuerich/immobilien/wg-zuerich.1220/wunderschoenes-co-living-haus-mit-38-suiten-in-kloten.2042131?&back_url=%2Fzuerich%2Fimmobilien%2Fwg-zuerich.1220%3Fs%3D1                                                               []   \n",
       "https://www.ronorp.net/zuerich/immobilien/wg-zuerich.1220/wg-zimmer-k5-befristet-fuer-6-monate-eventuell-auch-fuer.2073431?&back_url=%2Fzuerich%2Fimmobilien%2Fwg-zuerich.1220%3Fs%3D1                                                            []   \n",
       "https://www.ronorp.net/zuerich/immobilien/wg-zuerich.1220/mitbewohnerin-gesucht-ab-1-nov-dez-od-nach-vereinbarung.2073422?&back_url=%2Fzuerich%2Fimmobilien%2Fwg-zuerich.1220%3Fs%3D1%26page%3D2%26hash%3D8066eefae06f4ebdde76511cbb811cdf        []   \n",
       "https://www.ronorp.net/zuerich/immobilien/wg-zuerich.1220/wg-zimmer-in-4er-wg-in-5-min-gehdistanz-zum-hb.2073417?&back_url=%2Fzuerich%2Fimmobilien%2Fwg-zuerich.1220%3Fs%3D1%26page%3D2%26hash%3D8066eefae06f4ebdde76511cbb811cdf                 []   \n",
       "https://www.ronorp.net/zuerich/immobilien/wg-zuerich.1220/wunderschoenes-zimmer-mit-eigenem-bad-im-5-stock-in-toplage.2073410?&back_url=%2Fzuerich%2Fimmobilien%2Fwg-zuerich.1220%3Fs%3D1%26page%3D2%26hash%3D8066eefae06f4ebdde76511cbb811cdf    []   \n",
       "\n",
       "                                                                                                                                                                                                                                                                                                                                                                                                                                                                                          href  \\\n",
       "link                                                                                                                                                                                                                                                                                                                                                                                                                                                                                             \n",
       "https://www.ronorp.net/zuerich/immobilien/wg-zuerich.1220/wunderschoenes-co-living-haus-mit-38-suiten-in-kloten.2042131?&back_url=%2Fzuerich%2Fimmobilien%2Fwg-zuerich.1220%3Fs%3D1                                                                                                                        https://www.ronorp.net/zuerich/immobilien/wg-zuerich.1220/wunderschoenes-co-living-haus-mit-38-suiten-in-kloten.2042131?&back_url=%2Fzuerich%2Fimmobilien%2Fwg-zuerich.1220%3Fs%3D1   \n",
       "https://www.ronorp.net/zuerich/immobilien/wg-zuerich.1220/wg-zimmer-k5-befristet-fuer-6-monate-eventuell-auch-fuer.2073431?&back_url=%2Fzuerich%2Fimmobilien%2Fwg-zuerich.1220%3Fs%3D1                                                                                                                  https://www.ronorp.net/zuerich/immobilien/wg-zuerich.1220/wg-zimmer-k5-befristet-fuer-6-monate-eventuell-auch-fuer.2073431?&back_url=%2Fzuerich%2Fimmobilien%2Fwg-zuerich.1220%3Fs%3D1   \n",
       "https://www.ronorp.net/zuerich/immobilien/wg-zuerich.1220/mitbewohnerin-gesucht-ab-1-nov-dez-od-nach-vereinbarung.2073422?&back_url=%2Fzuerich%2Fimmobilien%2Fwg-zuerich.1220%3Fs%3D1%26page%3D2%26hash%3D8066eefae06f4ebdde76511cbb811cdf          https://www.ronorp.net/zuerich/immobilien/wg-zuerich.1220/mitbewohnerin-gesucht-ab-1-nov-dez-od-nach-vereinbarung.2073422?&back_url=%2Fzuerich%2Fimmobilien%2Fwg-zuerich.1220%3Fs%3D1%26page%3D2%26hash%3D8066eefae06f4ebdde76511cbb811cdf   \n",
       "https://www.ronorp.net/zuerich/immobilien/wg-zuerich.1220/wg-zimmer-in-4er-wg-in-5-min-gehdistanz-zum-hb.2073417?&back_url=%2Fzuerich%2Fimmobilien%2Fwg-zuerich.1220%3Fs%3D1%26page%3D2%26hash%3D8066eefae06f4ebdde76511cbb811cdf                            https://www.ronorp.net/zuerich/immobilien/wg-zuerich.1220/wg-zimmer-in-4er-wg-in-5-min-gehdistanz-zum-hb.2073417?&back_url=%2Fzuerich%2Fimmobilien%2Fwg-zuerich.1220%3Fs%3D1%26page%3D2%26hash%3D8066eefae06f4ebdde76511cbb811cdf   \n",
       "https://www.ronorp.net/zuerich/immobilien/wg-zuerich.1220/wunderschoenes-zimmer-mit-eigenem-bad-im-5-stock-in-toplage.2073410?&back_url=%2Fzuerich%2Fimmobilien%2Fwg-zuerich.1220%3Fs%3D1%26page%3D2%26hash%3D8066eefae06f4ebdde76511cbb811cdf  https://www.ronorp.net/zuerich/immobilien/wg-zuerich.1220/wunderschoenes-zimmer-mit-eigenem-bad-im-5-stock-in-toplage.2073410?&back_url=%2Fzuerich%2Fimmobilien%2Fwg-zuerich.1220%3Fs%3D1%26page%3D2%26hash%3D8066eefae06f4ebdde76511cbb811cdf   \n",
       "\n",
       "                                                                                                                                                                                                                                                                                                                                                                                                                                                                                data-attr-href  \\\n",
       "link                                                                                                                                                                                                                                                                                                                                                                                                                                                                                             \n",
       "https://www.ronorp.net/zuerich/immobilien/wg-zuerich.1220/wunderschoenes-co-living-haus-mit-38-suiten-in-kloten.2042131?&back_url=%2Fzuerich%2Fimmobilien%2Fwg-zuerich.1220%3Fs%3D1                                                                                                                        https://www.ronorp.net/zuerich/immobilien/wg-zuerich.1220/wunderschoenes-co-living-haus-mit-38-suiten-in-kloten.2042131?&back_url=%2Fzuerich%2Fimmobilien%2Fwg-zuerich.1220%3Fs%3D1   \n",
       "https://www.ronorp.net/zuerich/immobilien/wg-zuerich.1220/wg-zimmer-k5-befristet-fuer-6-monate-eventuell-auch-fuer.2073431?&back_url=%2Fzuerich%2Fimmobilien%2Fwg-zuerich.1220%3Fs%3D1                                                                                                                  https://www.ronorp.net/zuerich/immobilien/wg-zuerich.1220/wg-zimmer-k5-befristet-fuer-6-monate-eventuell-auch-fuer.2073431?&back_url=%2Fzuerich%2Fimmobilien%2Fwg-zuerich.1220%3Fs%3D1   \n",
       "https://www.ronorp.net/zuerich/immobilien/wg-zuerich.1220/mitbewohnerin-gesucht-ab-1-nov-dez-od-nach-vereinbarung.2073422?&back_url=%2Fzuerich%2Fimmobilien%2Fwg-zuerich.1220%3Fs%3D1%26page%3D2%26hash%3D8066eefae06f4ebdde76511cbb811cdf          https://www.ronorp.net/zuerich/immobilien/wg-zuerich.1220/mitbewohnerin-gesucht-ab-1-nov-dez-od-nach-vereinbarung.2073422?&back_url=%2Fzuerich%2Fimmobilien%2Fwg-zuerich.1220%3Fs%3D1%26page%3D2%26hash%3D8066eefae06f4ebdde76511cbb811cdf   \n",
       "https://www.ronorp.net/zuerich/immobilien/wg-zuerich.1220/wg-zimmer-in-4er-wg-in-5-min-gehdistanz-zum-hb.2073417?&back_url=%2Fzuerich%2Fimmobilien%2Fwg-zuerich.1220%3Fs%3D1%26page%3D2%26hash%3D8066eefae06f4ebdde76511cbb811cdf                            https://www.ronorp.net/zuerich/immobilien/wg-zuerich.1220/wg-zimmer-in-4er-wg-in-5-min-gehdistanz-zum-hb.2073417?&back_url=%2Fzuerich%2Fimmobilien%2Fwg-zuerich.1220%3Fs%3D1%26page%3D2%26hash%3D8066eefae06f4ebdde76511cbb811cdf   \n",
       "https://www.ronorp.net/zuerich/immobilien/wg-zuerich.1220/wunderschoenes-zimmer-mit-eigenem-bad-im-5-stock-in-toplage.2073410?&back_url=%2Fzuerich%2Fimmobilien%2Fwg-zuerich.1220%3Fs%3D1%26page%3D2%26hash%3D8066eefae06f4ebdde76511cbb811cdf  https://www.ronorp.net/zuerich/immobilien/wg-zuerich.1220/wunderschoenes-zimmer-mit-eigenem-bad-im-5-stock-in-toplage.2073410?&back_url=%2Fzuerich%2Fimmobilien%2Fwg-zuerich.1220%3Fs%3D1%26page%3D2%26hash%3D8066eefae06f4ebdde76511cbb811cdf   \n",
       "\n",
       "                                                                                                                                                                                                                                                                                                        alt  \\\n",
       "link                                                                                                                                                                                                                                                                                                          \n",
       "https://www.ronorp.net/zuerich/immobilien/wg-zuerich.1220/wunderschoenes-co-living-haus-mit-38-suiten-in-kloten.2042131?&back_url=%2Fzuerich%2Fimmobilien%2Fwg-zuerich.1220%3Fs%3D1                                                                Wunderschönes Co-Living Haus mit 38 Suiten in Kloten,...   \n",
       "https://www.ronorp.net/zuerich/immobilien/wg-zuerich.1220/wg-zimmer-k5-befristet-fuer-6-monate-eventuell-auch-fuer.2073431?&back_url=%2Fzuerich%2Fimmobilien%2Fwg-zuerich.1220%3Fs%3D1                                                          WG zimmer K5 befristet für 6 Monate (eventuell auch fuer...   \n",
       "https://www.ronorp.net/zuerich/immobilien/wg-zuerich.1220/mitbewohnerin-gesucht-ab-1-nov-dez-od-nach-vereinbarung.2073422?&back_url=%2Fzuerich%2Fimmobilien%2Fwg-zuerich.1220%3Fs%3D1%26page%3D2%26hash%3D8066eefae06f4ebdde76511cbb811cdf        Mitbewohnerin gesucht ab 1. Nov/Dez od. nach Vereinbarung   \n",
       "https://www.ronorp.net/zuerich/immobilien/wg-zuerich.1220/wg-zimmer-in-4er-wg-in-5-min-gehdistanz-zum-hb.2073417?&back_url=%2Fzuerich%2Fimmobilien%2Fwg-zuerich.1220%3Fs%3D1%26page%3D2%26hash%3D8066eefae06f4ebdde76511cbb811cdf                           WG-Zimmer in 4er-WG in 5 min. Gehdistanz zum HB   \n",
       "https://www.ronorp.net/zuerich/immobilien/wg-zuerich.1220/wunderschoenes-zimmer-mit-eigenem-bad-im-5-stock-in-toplage.2073410?&back_url=%2Fzuerich%2Fimmobilien%2Fwg-zuerich.1220%3Fs%3D1%26page%3D2%26hash%3D8066eefae06f4ebdde76511cbb811cdf       Wunderschönes Zimmer mit eigenem Bad im 5. Stock in...   \n",
       "\n",
       "                                                                                                                                                                                                                                               data-trace  \\\n",
       "link                                                                                                                                                                                                                                                        \n",
       "https://www.ronorp.net/zuerich/immobilien/wg-zuerich.1220/wunderschoenes-co-living-haus-mit-38-suiten-in-kloten.2042131?&back_url=%2Fzuerich%2Fimmobilien%2Fwg-zuerich.1220%3Fs%3D1                                                                         \n",
       "https://www.ronorp.net/zuerich/immobilien/wg-zuerich.1220/wg-zimmer-k5-befristet-fuer-6-monate-eventuell-auch-fuer.2073431?&back_url=%2Fzuerich%2Fimmobilien%2Fwg-zuerich.1220%3Fs%3D1                                                                      \n",
       "https://www.ronorp.net/zuerich/immobilien/wg-zuerich.1220/mitbewohnerin-gesucht-ab-1-nov-dez-od-nach-vereinbarung.2073422?&back_url=%2Fzuerich%2Fimmobilien%2Fwg-zuerich.1220%3Fs%3D1%26page%3D2%26hash%3D8066eefae06f4ebdde76511cbb811cdf                  \n",
       "https://www.ronorp.net/zuerich/immobilien/wg-zuerich.1220/wg-zimmer-in-4er-wg-in-5-min-gehdistanz-zum-hb.2073417?&back_url=%2Fzuerich%2Fimmobilien%2Fwg-zuerich.1220%3Fs%3D1%26page%3D2%26hash%3D8066eefae06f4ebdde76511cbb811cdf                           \n",
       "https://www.ronorp.net/zuerich/immobilien/wg-zuerich.1220/wunderschoenes-zimmer-mit-eigenem-bad-im-5-stock-in-toplage.2073410?&back_url=%2Fzuerich%2Fimmobilien%2Fwg-zuerich.1220%3Fs%3D1%26page%3D2%26hash%3D8066eefae06f4ebdde76511cbb811cdf              \n",
       "\n",
       "                                                                                                                                                                                                                                               data-category  \\\n",
       "link                                                                                                                                                                                                                                                           \n",
       "https://www.ronorp.net/zuerich/immobilien/wg-zuerich.1220/wunderschoenes-co-living-haus-mit-38-suiten-in-kloten.2042131?&back_url=%2Fzuerich%2Fimmobilien%2Fwg-zuerich.1220%3Fs%3D1                                                              ContentList   \n",
       "https://www.ronorp.net/zuerich/immobilien/wg-zuerich.1220/wg-zimmer-k5-befristet-fuer-6-monate-eventuell-auch-fuer.2073431?&back_url=%2Fzuerich%2Fimmobilien%2Fwg-zuerich.1220%3Fs%3D1                                                           ContentList   \n",
       "https://www.ronorp.net/zuerich/immobilien/wg-zuerich.1220/mitbewohnerin-gesucht-ab-1-nov-dez-od-nach-vereinbarung.2073422?&back_url=%2Fzuerich%2Fimmobilien%2Fwg-zuerich.1220%3Fs%3D1%26page%3D2%26hash%3D8066eefae06f4ebdde76511cbb811cdf       ContentList   \n",
       "https://www.ronorp.net/zuerich/immobilien/wg-zuerich.1220/wg-zimmer-in-4er-wg-in-5-min-gehdistanz-zum-hb.2073417?&back_url=%2Fzuerich%2Fimmobilien%2Fwg-zuerich.1220%3Fs%3D1%26page%3D2%26hash%3D8066eefae06f4ebdde76511cbb811cdf                ContentList   \n",
       "https://www.ronorp.net/zuerich/immobilien/wg-zuerich.1220/wunderschoenes-zimmer-mit-eigenem-bad-im-5-stock-in-toplage.2073410?&back_url=%2Fzuerich%2Fimmobilien%2Fwg-zuerich.1220%3Fs%3D1%26page%3D2%26hash%3D8066eefae06f4ebdde76511cbb811cdf   ContentList   \n",
       "\n",
       "                                                                                                                                                                                                                                                  data-label  \\\n",
       "link                                                                                                                                                                                                                                                           \n",
       "https://www.ronorp.net/zuerich/immobilien/wg-zuerich.1220/wunderschoenes-co-living-haus-mit-38-suiten-in-kloten.2042131?&back_url=%2Fzuerich%2Fimmobilien%2Fwg-zuerich.1220%3Fs%3D1                                                             ContentTitle   \n",
       "https://www.ronorp.net/zuerich/immobilien/wg-zuerich.1220/wg-zimmer-k5-befristet-fuer-6-monate-eventuell-auch-fuer.2073431?&back_url=%2Fzuerich%2Fimmobilien%2Fwg-zuerich.1220%3Fs%3D1                                                          ContentTitle   \n",
       "https://www.ronorp.net/zuerich/immobilien/wg-zuerich.1220/mitbewohnerin-gesucht-ab-1-nov-dez-od-nach-vereinbarung.2073422?&back_url=%2Fzuerich%2Fimmobilien%2Fwg-zuerich.1220%3Fs%3D1%26page%3D2%26hash%3D8066eefae06f4ebdde76511cbb811cdf      ContentTitle   \n",
       "https://www.ronorp.net/zuerich/immobilien/wg-zuerich.1220/wg-zimmer-in-4er-wg-in-5-min-gehdistanz-zum-hb.2073417?&back_url=%2Fzuerich%2Fimmobilien%2Fwg-zuerich.1220%3Fs%3D1%26page%3D2%26hash%3D8066eefae06f4ebdde76511cbb811cdf               ContentTitle   \n",
       "https://www.ronorp.net/zuerich/immobilien/wg-zuerich.1220/wunderschoenes-zimmer-mit-eigenem-bad-im-5-stock-in-toplage.2073410?&back_url=%2Fzuerich%2Fimmobilien%2Fwg-zuerich.1220%3Fs%3D1%26page%3D2%26hash%3D8066eefae06f4ebdde76511cbb811cdf  ContentTitle   \n",
       "\n",
       "                                                                                                                                                                                                                                               data-actions  \\\n",
       "link                                                                                                                                                                                                                                                          \n",
       "https://www.ronorp.net/zuerich/immobilien/wg-zuerich.1220/wunderschoenes-co-living-haus-mit-38-suiten-in-kloten.2042131?&back_url=%2Fzuerich%2Fimmobilien%2Fwg-zuerich.1220%3Fs%3D1                                                                   click   \n",
       "https://www.ronorp.net/zuerich/immobilien/wg-zuerich.1220/wg-zimmer-k5-befristet-fuer-6-monate-eventuell-auch-fuer.2073431?&back_url=%2Fzuerich%2Fimmobilien%2Fwg-zuerich.1220%3Fs%3D1                                                                click   \n",
       "https://www.ronorp.net/zuerich/immobilien/wg-zuerich.1220/mitbewohnerin-gesucht-ab-1-nov-dez-od-nach-vereinbarung.2073422?&back_url=%2Fzuerich%2Fimmobilien%2Fwg-zuerich.1220%3Fs%3D1%26page%3D2%26hash%3D8066eefae06f4ebdde76511cbb811cdf            click   \n",
       "https://www.ronorp.net/zuerich/immobilien/wg-zuerich.1220/wg-zimmer-in-4er-wg-in-5-min-gehdistanz-zum-hb.2073417?&back_url=%2Fzuerich%2Fimmobilien%2Fwg-zuerich.1220%3Fs%3D1%26page%3D2%26hash%3D8066eefae06f4ebdde76511cbb811cdf                     click   \n",
       "https://www.ronorp.net/zuerich/immobilien/wg-zuerich.1220/wunderschoenes-zimmer-mit-eigenem-bad-im-5-stock-in-toplage.2073410?&back_url=%2Fzuerich%2Fimmobilien%2Fwg-zuerich.1220%3Fs%3D1%26page%3D2%26hash%3D8066eefae06f4ebdde76511cbb811cdf        click   \n",
       "\n",
       "                                                                                                                                                                                                                                                                                                                   fname  \\\n",
       "link                                                                                                                                                                                                                                                                                                                       \n",
       "https://www.ronorp.net/zuerich/immobilien/wg-zuerich.1220/wunderschoenes-co-living-haus-mit-38-suiten-in-kloten.2042131?&back_url=%2Fzuerich%2Fimmobilien%2Fwg-zuerich.1220%3Fs%3D1                                                             C:/coding/wgscraper/data/ronorp/adpage_2020-10-18_22-08-50_909156.scrape   \n",
       "https://www.ronorp.net/zuerich/immobilien/wg-zuerich.1220/wg-zimmer-k5-befristet-fuer-6-monate-eventuell-auch-fuer.2073431?&back_url=%2Fzuerich%2Fimmobilien%2Fwg-zuerich.1220%3Fs%3D1                                                          C:/coding/wgscraper/data/ronorp/adpage_2020-10-18_22-08-55_236071.scrape   \n",
       "https://www.ronorp.net/zuerich/immobilien/wg-zuerich.1220/mitbewohnerin-gesucht-ab-1-nov-dez-od-nach-vereinbarung.2073422?&back_url=%2Fzuerich%2Fimmobilien%2Fwg-zuerich.1220%3Fs%3D1%26page%3D2%26hash%3D8066eefae06f4ebdde76511cbb811cdf      C:/coding/wgscraper/data/ronorp/adpage_2020-10-18_22-08-58_837035.scrape   \n",
       "https://www.ronorp.net/zuerich/immobilien/wg-zuerich.1220/wg-zimmer-in-4er-wg-in-5-min-gehdistanz-zum-hb.2073417?&back_url=%2Fzuerich%2Fimmobilien%2Fwg-zuerich.1220%3Fs%3D1%26page%3D2%26hash%3D8066eefae06f4ebdde76511cbb811cdf               C:/coding/wgscraper/data/ronorp/adpage_2020-10-18_22-09-02_609034.scrape   \n",
       "https://www.ronorp.net/zuerich/immobilien/wg-zuerich.1220/wunderschoenes-zimmer-mit-eigenem-bad-im-5-stock-in-toplage.2073410?&back_url=%2Fzuerich%2Fimmobilien%2Fwg-zuerich.1220%3Fs%3D1%26page%3D2%26hash%3D8066eefae06f4ebdde76511cbb811cdf  C:/coding/wgscraper/data/ronorp/adpage_2020-10-18_22-09-05_941036.scrape   \n",
       "\n",
       "                                                                                                                                                                                                                                                                scrape_ts  \\\n",
       "link                                                                                                                                                                                                                                                                        \n",
       "https://www.ronorp.net/zuerich/immobilien/wg-zuerich.1220/wunderschoenes-co-living-haus-mit-38-suiten-in-kloten.2042131?&back_url=%2Fzuerich%2Fimmobilien%2Fwg-zuerich.1220%3Fs%3D1                                                            2020-10-18 22:08:50.909156   \n",
       "https://www.ronorp.net/zuerich/immobilien/wg-zuerich.1220/wg-zimmer-k5-befristet-fuer-6-monate-eventuell-auch-fuer.2073431?&back_url=%2Fzuerich%2Fimmobilien%2Fwg-zuerich.1220%3Fs%3D1                                                         2020-10-18 22:08:55.236071   \n",
       "https://www.ronorp.net/zuerich/immobilien/wg-zuerich.1220/mitbewohnerin-gesucht-ab-1-nov-dez-od-nach-vereinbarung.2073422?&back_url=%2Fzuerich%2Fimmobilien%2Fwg-zuerich.1220%3Fs%3D1%26page%3D2%26hash%3D8066eefae06f4ebdde76511cbb811cdf     2020-10-18 22:08:58.837035   \n",
       "https://www.ronorp.net/zuerich/immobilien/wg-zuerich.1220/wg-zimmer-in-4er-wg-in-5-min-gehdistanz-zum-hb.2073417?&back_url=%2Fzuerich%2Fimmobilien%2Fwg-zuerich.1220%3Fs%3D1%26page%3D2%26hash%3D8066eefae06f4ebdde76511cbb811cdf              2020-10-18 22:09:02.609034   \n",
       "https://www.ronorp.net/zuerich/immobilien/wg-zuerich.1220/wunderschoenes-zimmer-mit-eigenem-bad-im-5-stock-in-toplage.2073410?&back_url=%2Fzuerich%2Fimmobilien%2Fwg-zuerich.1220%3Fs%3D1%26page%3D2%26hash%3D8066eefae06f4ebdde76511cbb811cdf 2020-10-18 22:09:05.941036   \n",
       "\n",
       "                                                                                                                                                                                                                                               processed  \n",
       "link                                                                                                                                                                                                                                                      \n",
       "https://www.ronorp.net/zuerich/immobilien/wg-zuerich.1220/wunderschoenes-co-living-haus-mit-38-suiten-in-kloten.2042131?&back_url=%2Fzuerich%2Fimmobilien%2Fwg-zuerich.1220%3Fs%3D1                                                                False  \n",
       "https://www.ronorp.net/zuerich/immobilien/wg-zuerich.1220/wg-zimmer-k5-befristet-fuer-6-monate-eventuell-auch-fuer.2073431?&back_url=%2Fzuerich%2Fimmobilien%2Fwg-zuerich.1220%3Fs%3D1                                                             False  \n",
       "https://www.ronorp.net/zuerich/immobilien/wg-zuerich.1220/mitbewohnerin-gesucht-ab-1-nov-dez-od-nach-vereinbarung.2073422?&back_url=%2Fzuerich%2Fimmobilien%2Fwg-zuerich.1220%3Fs%3D1%26page%3D2%26hash%3D8066eefae06f4ebdde76511cbb811cdf         False  \n",
       "https://www.ronorp.net/zuerich/immobilien/wg-zuerich.1220/wg-zimmer-in-4er-wg-in-5-min-gehdistanz-zum-hb.2073417?&back_url=%2Fzuerich%2Fimmobilien%2Fwg-zuerich.1220%3Fs%3D1%26page%3D2%26hash%3D8066eefae06f4ebdde76511cbb811cdf                  False  \n",
       "https://www.ronorp.net/zuerich/immobilien/wg-zuerich.1220/wunderschoenes-zimmer-mit-eigenem-bad-im-5-stock-in-toplage.2073410?&back_url=%2Fzuerich%2Fimmobilien%2Fwg-zuerich.1220%3Fs%3D1%26page%3D2%26hash%3D8066eefae06f4ebdde76511cbb811cdf     False  "
      ]
     },
     "execution_count": 82,
     "metadata": {},
     "output_type": "execute_result"
    }
   ],
   "source": [
    "b=pd.DataFrame(a).transpose()\n",
    "b.index.name = 'link'\n",
    "b"
   ]
  },
  {
   "cell_type": "code",
   "execution_count": 84,
   "metadata": {
    "execution": {
     "iopub.execute_input": "2020-10-18T20:14:32.829982Z",
     "iopub.status.busy": "2020-10-18T20:14:32.828984Z",
     "iopub.status.idle": "2020-10-18T20:14:32.837983Z",
     "shell.execute_reply": "2020-10-18T20:14:32.836983Z",
     "shell.execute_reply.started": "2020-10-18T20:14:32.829982Z"
    }
   },
   "outputs": [
    {
     "data": {
      "text/plain": [
       "link\n",
       "https://www.ronorp.net/zuerich/immobilien/wg-zuerich.1220/wunderschoenes-co-living-haus-mit-38-suiten-in-kloten.2042131?&back_url=%2Fzuerich%2Fimmobilien%2Fwg-zuerich.1220%3Fs%3D1                                                                                                                          https://www.ronorp.net/zuerich/immobilien/wg-zuerich.1220/wunderschoenes-co-living-haus-mit-38-suiten-in-kloten.2042131?&back_url=%2Fzuerich%2Fimmobilien%2Fwg-zuerich.1220%3Fs%3D1\n",
       "https://www.ronorp.net/zuerich/immobilien/wg-zuerich.1220/wg-zimmer-k5-befristet-fuer-6-monate-eventuell-auch-fuer.2073431?&back_url=%2Fzuerich%2Fimmobilien%2Fwg-zuerich.1220%3Fs%3D1                                                                                                                    https://www.ronorp.net/zuerich/immobilien/wg-zuerich.1220/wg-zimmer-k5-befristet-fuer-6-monate-eventuell-auch-fuer.2073431?&back_url=%2Fzuerich%2Fimmobilien%2Fwg-zuerich.1220%3Fs%3D1\n",
       "https://www.ronorp.net/zuerich/immobilien/wg-zuerich.1220/mitbewohnerin-gesucht-ab-1-nov-dez-od-nach-vereinbarung.2073422?&back_url=%2Fzuerich%2Fimmobilien%2Fwg-zuerich.1220%3Fs%3D1%26page%3D2%26hash%3D8066eefae06f4ebdde76511cbb811cdf            https://www.ronorp.net/zuerich/immobilien/wg-zuerich.1220/mitbewohnerin-gesucht-ab-1-nov-dez-od-nach-vereinbarung.2073422?&back_url=%2Fzuerich%2Fimmobilien%2Fwg-zuerich.1220%3Fs%3D1%26page%3D2%26hash%3D8066eefae06f4ebdde76511cbb811cdf\n",
       "https://www.ronorp.net/zuerich/immobilien/wg-zuerich.1220/wg-zimmer-in-4er-wg-in-5-min-gehdistanz-zum-hb.2073417?&back_url=%2Fzuerich%2Fimmobilien%2Fwg-zuerich.1220%3Fs%3D1%26page%3D2%26hash%3D8066eefae06f4ebdde76511cbb811cdf                              https://www.ronorp.net/zuerich/immobilien/wg-zuerich.1220/wg-zimmer-in-4er-wg-in-5-min-gehdistanz-zum-hb.2073417?&back_url=%2Fzuerich%2Fimmobilien%2Fwg-zuerich.1220%3Fs%3D1%26page%3D2%26hash%3D8066eefae06f4ebdde76511cbb811cdf\n",
       "https://www.ronorp.net/zuerich/immobilien/wg-zuerich.1220/wunderschoenes-zimmer-mit-eigenem-bad-im-5-stock-in-toplage.2073410?&back_url=%2Fzuerich%2Fimmobilien%2Fwg-zuerich.1220%3Fs%3D1%26page%3D2%26hash%3D8066eefae06f4ebdde76511cbb811cdf    https://www.ronorp.net/zuerich/immobilien/wg-zuerich.1220/wunderschoenes-zimmer-mit-eigenem-bad-im-5-stock-in-toplage.2073410?&back_url=%2Fzuerich%2Fimmobilien%2Fwg-zuerich.1220%3Fs%3D1%26page%3D2%26hash%3D8066eefae06f4ebdde76511cbb811cdf\n",
       "Name: href, dtype: object"
      ]
     },
     "execution_count": 84,
     "metadata": {},
     "output_type": "execute_result"
    }
   ],
   "source": [
    "b['href']"
   ]
  },
  {
   "cell_type": "code",
   "execution_count": null,
   "metadata": {},
   "outputs": [],
   "source": []
  }
 ],
 "metadata": {
  "kernelspec": {
   "display_name": "Python 3",
   "language": "python",
   "name": "python3"
  },
  "language_info": {
   "codemirror_mode": {
    "name": "ipython",
    "version": 3
   },
   "file_extension": ".py",
   "mimetype": "text/x-python",
   "name": "python",
   "nbconvert_exporter": "python",
   "pygments_lexer": "ipython3",
   "version": "3.8.5"
  },
  "toc-autonumbering": true
 },
 "nbformat": 4,
 "nbformat_minor": 4
}
