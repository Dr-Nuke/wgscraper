{
 "cells": [
  {
   "cell_type": "markdown",
   "metadata": {},
   "source": [
    "# Analysis Notebook for the scraper project"
   ]
  },
  {
   "cell_type": "code",
   "execution_count": 37,
   "metadata": {
    "execution": {
     "iopub.execute_input": "2020-10-17T22:00:48.678876Z",
     "iopub.status.busy": "2020-10-17T22:00:48.678876Z",
     "iopub.status.idle": "2020-10-17T22:00:48.682850Z",
     "shell.execute_reply": "2020-10-17T22:00:48.681880Z",
     "shell.execute_reply.started": "2020-10-17T22:00:48.678876Z"
    }
   },
   "outputs": [],
   "source": [
    "import pandas as pd\n",
    "import os\n",
    "import numpy as np\n",
    "from pathlib import Path\n",
    "import os\n",
    "import sys\n",
    "import re"
   ]
  },
  {
   "cell_type": "code",
   "execution_count": 39,
   "metadata": {
    "execution": {
     "iopub.execute_input": "2020-10-17T22:01:48.955848Z",
     "iopub.status.busy": "2020-10-17T22:01:48.955848Z",
     "iopub.status.idle": "2020-10-17T22:01:48.960847Z",
     "shell.execute_reply": "2020-10-17T22:01:48.959848Z",
     "shell.execute_reply.started": "2020-10-17T22:01:48.955848Z"
    }
   },
   "outputs": [],
   "source": [
    "pd.options.display.max_columns = None"
   ]
  },
  {
   "cell_type": "code",
   "execution_count": 40,
   "metadata": {
    "execution": {
     "iopub.execute_input": "2020-10-17T22:01:51.878875Z",
     "iopub.status.busy": "2020-10-17T22:01:51.878875Z",
     "iopub.status.idle": "2020-10-17T22:01:51.913848Z",
     "shell.execute_reply": "2020-10-17T22:01:51.912884Z",
     "shell.execute_reply.started": "2020-10-17T22:01:51.878875Z"
    }
   },
   "outputs": [
    {
     "data": {
      "text/html": [
       "<div>\n",
       "<style scoped>\n",
       "    .dataframe tbody tr th:only-of-type {\n",
       "        vertical-align: middle;\n",
       "    }\n",
       "\n",
       "    .dataframe tbody tr th {\n",
       "        vertical-align: top;\n",
       "    }\n",
       "\n",
       "    .dataframe thead th {\n",
       "        text-align: right;\n",
       "    }\n",
       "</style>\n",
       "<table border=\"1\" class=\"dataframe\">\n",
       "  <thead>\n",
       "    <tr style=\"text-align: right;\">\n",
       "      <th></th>\n",
       "      <th>Unnamed: 0</th>\n",
       "      <th>alt</th>\n",
       "      <th>class</th>\n",
       "      <th>data-actions</th>\n",
       "      <th>data-advert-position</th>\n",
       "      <th>data-attr-href</th>\n",
       "      <th>data-category</th>\n",
       "      <th>data-label</th>\n",
       "      <th>data-trace</th>\n",
       "      <th>href</th>\n",
       "      <th>owner</th>\n",
       "      <th>timestamp</th>\n",
       "      <th>text</th>\n",
       "      <th>details</th>\n",
       "      <th>category1</th>\n",
       "      <th>bid_ask</th>\n",
       "      <th>rent_buy</th>\n",
       "      <th>rooms</th>\n",
       "      <th>cost</th>\n",
       "      <th>address</th>\n",
       "      <th>duration</th>\n",
       "    </tr>\n",
       "  </thead>\n",
       "  <tbody>\n",
       "    <tr>\n",
       "      <th>0</th>\n",
       "      <td>Wunderschönes Co-Living Haus mit 38 Suiten in ...</td>\n",
       "      <td>Wunderschönes Co-Living Haus mit 38 Suiten in ...</td>\n",
       "      <td>[]</td>\n",
       "      <td>click</td>\n",
       "      <td>2042131_1220_d49519d52efd3d369b3955fe61e2aafb</td>\n",
       "      <td>https://www.ronorp.net/zuerich/immobilien/wg-z...</td>\n",
       "      <td>ContentList</td>\n",
       "      <td>ContentTitle</td>\n",
       "      <td>NaN</td>\n",
       "      <td>https://www.ronorp.net/zuerich/immobilien/wg-z...</td>\n",
       "      <td>johannespeter</td>\n",
       "      <td>2020-02-09 10:53:00</td>\n",
       "      <td>Ich glaube, dass zusammen einfach schöner ist ...</td>\n",
       "      <td>Biete / Suche / Tausche: Wohnung / Zimmer: Bie...</td>\n",
       "      <td>NaN</td>\n",
       "      <td>NaN</td>\n",
       "      <td>NaN</td>\n",
       "      <td>NaN</td>\n",
       "      <td>NaN</td>\n",
       "      <td>NaN</td>\n",
       "      <td>NaN</td>\n",
       "    </tr>\n",
       "    <tr>\n",
       "      <th>1</th>\n",
       "      <td>Cozy Studio near Schmiede Wiedikon, 1405CHF/month</td>\n",
       "      <td>Cozy Studio near Schmiede Wiedikon, 1405CHF/month</td>\n",
       "      <td>[]</td>\n",
       "      <td>click</td>\n",
       "      <td>2072688_1220_ff7c187b50787f7a14efb238f1d893c6</td>\n",
       "      <td>https://www.ronorp.net/zuerich/immobilien/wg-z...</td>\n",
       "      <td>ContentList</td>\n",
       "      <td>ContentTitle</td>\n",
       "      <td>NaN</td>\n",
       "      <td>https://www.ronorp.net/zuerich/immobilien/wg-z...</td>\n",
       "      <td>Songmin Zhao</td>\n",
       "      <td>2020-10-17 14:37:00</td>\n",
       "      <td>Hi,I am moving out of my studio and would like...</td>\n",
       "      <td>www.newhome.ch Biete / Suche / Tausche: Wohnun...</td>\n",
       "      <td>Wohnung / Zimmer</td>\n",
       "      <td>Biete</td>\n",
       "      <td>Wohnung / Zimmer</td>\n",
       "      <td>1.0</td>\n",
       "      <td>1'405.00</td>\n",
       "      <td>8003 Zürich</td>\n",
       "      <td>unknown</td>\n",
       "    </tr>\n",
       "  </tbody>\n",
       "</table>\n",
       "</div>"
      ],
      "text/plain": [
       "                                          Unnamed: 0  \\\n",
       "0  Wunderschönes Co-Living Haus mit 38 Suiten in ...   \n",
       "1  Cozy Studio near Schmiede Wiedikon, 1405CHF/month   \n",
       "\n",
       "                                                 alt class data-actions  \\\n",
       "0  Wunderschönes Co-Living Haus mit 38 Suiten in ...    []        click   \n",
       "1  Cozy Studio near Schmiede Wiedikon, 1405CHF/month    []        click   \n",
       "\n",
       "                            data-advert-position  \\\n",
       "0  2042131_1220_d49519d52efd3d369b3955fe61e2aafb   \n",
       "1  2072688_1220_ff7c187b50787f7a14efb238f1d893c6   \n",
       "\n",
       "                                      data-attr-href data-category  \\\n",
       "0  https://www.ronorp.net/zuerich/immobilien/wg-z...   ContentList   \n",
       "1  https://www.ronorp.net/zuerich/immobilien/wg-z...   ContentList   \n",
       "\n",
       "     data-label  data-trace  \\\n",
       "0  ContentTitle         NaN   \n",
       "1  ContentTitle         NaN   \n",
       "\n",
       "                                                href          owner  \\\n",
       "0  https://www.ronorp.net/zuerich/immobilien/wg-z...  johannespeter   \n",
       "1  https://www.ronorp.net/zuerich/immobilien/wg-z...   Songmin Zhao   \n",
       "\n",
       "             timestamp                                               text  \\\n",
       "0  2020-02-09 10:53:00  Ich glaube, dass zusammen einfach schöner ist ...   \n",
       "1  2020-10-17 14:37:00  Hi,I am moving out of my studio and would like...   \n",
       "\n",
       "                                             details         category1  \\\n",
       "0  Biete / Suche / Tausche: Wohnung / Zimmer: Bie...               NaN   \n",
       "1  www.newhome.ch Biete / Suche / Tausche: Wohnun...  Wohnung / Zimmer   \n",
       "\n",
       "  bid_ask          rent_buy  rooms      cost       address duration  \n",
       "0     NaN               NaN    NaN       NaN           NaN      NaN  \n",
       "1   Biete  Wohnung / Zimmer    1.0  1'405.00  8003 Zürich   unknown  "
      ]
     },
     "execution_count": 40,
     "metadata": {},
     "output_type": "execute_result"
    }
   ],
   "source": [
    "root = Path(os.getcwd()).parent\n",
    "fname = root / 'data' / 'scraper_df.csv'\n",
    "df=pd.read_csv(fname)\n",
    "df"
   ]
  },
  {
   "cell_type": "code",
   "execution_count": 15,
   "metadata": {
    "execution": {
     "iopub.execute_input": "2020-10-17T21:53:03.923679Z",
     "iopub.status.busy": "2020-10-17T21:53:03.923679Z",
     "iopub.status.idle": "2020-10-17T21:53:03.928679Z",
     "shell.execute_reply": "2020-10-17T21:53:03.928679Z",
     "shell.execute_reply.started": "2020-10-17T21:53:03.923679Z"
    }
   },
   "outputs": [
    {
     "data": {
      "text/plain": [
       "\"Biete / Suche / Tausche: Wohnung / Zimmer: Biete Mieten & Kaufen: Mieten Stadt / Agglo: Agglo Vertragsart: unbefristet Zimmer: 1Kosten: 1'095.00Adresse: Marktgasse 19, 8038 Kloten Kontakt: i***@t*************hDie vollen Kontaktinformationen sind nur für Ron Orp Leser sichtbar. Hier gleich kostenlos anmelden. \\t \\t\\t \\t\\tAchtung: Überweise nie eine Kaution an Personen, deren Wohnung du nie gesehen hast oder weil sie gerade nicht in der Schweiz weilen.\\t \\t mehr SCHREIB MIR! Anzeige Crowdfunding Workshop Food ZH Aufstrebende Gastronomen aufgepasst! Am Crowdify Workshop erhalten ambitionierte Feinschmecker den Masterplan für eine erfolgreiche Crowdfunding-Aktion. Mehr Infos Werbeanzeige WG Folgen ♥ ♥ ♥ Unterstütze Ron ♥ ♥ ♥Ich bin dein Sprachrohr für deine Stadt und dabei stets unabhängig. Daher freue ich mich über alle, die bereit sind, einen kleinen, finanziellen Beitrag an mein Tun zu leisten. Kommentare1 auf Merkliste\""
      ]
     },
     "execution_count": 15,
     "metadata": {},
     "output_type": "execute_result"
    }
   ],
   "source": [
    "df.loc[0,'details']"
   ]
  },
  {
   "cell_type": "code",
   "execution_count": 14,
   "metadata": {
    "execution": {
     "iopub.execute_input": "2020-10-17T21:52:54.496678Z",
     "iopub.status.busy": "2020-10-17T21:52:54.495678Z",
     "iopub.status.idle": "2020-10-17T21:52:54.502678Z",
     "shell.execute_reply": "2020-10-17T21:52:54.501679Z",
     "shell.execute_reply.started": "2020-10-17T21:52:54.496678Z"
    }
   },
   "outputs": [
    {
     "data": {
      "text/plain": [
       "\"www.newhome.ch Biete / Suche / Tausche: Wohnung / Zimmer: Biete Mieten & Kaufen: Mieten Stadt / Agglo: Stadt Zimmer: 1.0Kosten: 1'405.00Adresse: 8003 Zürich Kontakt:Die vollen Kontaktinformationen sind nur für Ron Orp Leser sichtbar. Hier gleich kostenlos anmelden. Original Inserat auf: \\t \\t\\t \\t\\tAchtung: Überweise nie eine Kaution an Personen, deren Wohnung du nie gesehen hast oder weil sie gerade nicht in der Schweiz weilen.\\t \\t mehr SCHREIB MIR! Anzeige Crowdfunding Workshop Food ZH Aufstrebende Gastronomen aufgepasst! Am Crowdify Workshop erhalten ambitionierte Feinschmecker den Masterplan für eine erfolgreiche Crowdfunding-Aktion. Mehr Infos Werbeanzeige WG Folgen ♥ ♥ ♥ Unterstütze Ron ♥ ♥ ♥Ich bin dein Sprachrohr für deine Stadt und dabei stets unabhängig. Daher freue ich mich über alle, die bereit sind, einen kleinen, finanziellen Beitrag an mein Tun zu leisten. 0 auf Merkliste\""
      ]
     },
     "execution_count": 14,
     "metadata": {},
     "output_type": "execute_result"
    }
   ],
   "source": [
    "df.loc[1,'details']"
   ]
  },
  {
   "cell_type": "code",
   "execution_count": 32,
   "metadata": {
    "execution": {
     "iopub.execute_input": "2020-10-17T21:57:05.224849Z",
     "iopub.status.busy": "2020-10-17T21:57:05.223849Z",
     "iopub.status.idle": "2020-10-17T21:57:05.231848Z",
     "shell.execute_reply": "2020-10-17T21:57:05.230848Z",
     "shell.execute_reply.started": "2020-10-17T21:57:05.224849Z"
    }
   },
   "outputs": [
    {
     "data": {
      "text/plain": [
       "['C:\\\\coding\\\\wgscraper\\\\notebooks',\n",
       " 'C:\\\\ProgramData\\\\Anaconda3\\\\envs\\\\wgscraper\\\\python38.zip',\n",
       " 'C:\\\\ProgramData\\\\Anaconda3\\\\envs\\\\wgscraper\\\\DLLs',\n",
       " 'C:\\\\ProgramData\\\\Anaconda3\\\\envs\\\\wgscraper\\\\lib',\n",
       " 'C:\\\\ProgramData\\\\Anaconda3\\\\envs\\\\wgscraper',\n",
       " '',\n",
       " 'C:\\\\ProgramData\\\\Anaconda3\\\\envs\\\\wgscraper\\\\lib\\\\site-packages',\n",
       " 'C:\\\\ProgramData\\\\Anaconda3\\\\envs\\\\wgscraper\\\\lib\\\\site-packages\\\\win32',\n",
       " 'C:\\\\ProgramData\\\\Anaconda3\\\\envs\\\\wgscraper\\\\lib\\\\site-packages\\\\win32\\\\lib',\n",
       " 'C:\\\\ProgramData\\\\Anaconda3\\\\envs\\\\wgscraper\\\\lib\\\\site-packages\\\\Pythonwin',\n",
       " 'C:\\\\ProgramData\\\\Anaconda3\\\\envs\\\\wgscraper\\\\lib\\\\site-packages\\\\IPython\\\\extensions',\n",
       " 'C:\\\\Users\\\\cbole\\\\.ipython',\n",
       " WindowsPath('C:/coding/wgscraper/src'),\n",
       " WindowsPath('C:/coding/wgscraper/src'),\n",
       " 'C:\\\\coding\\\\wgscraper\\\\src']"
      ]
     },
     "execution_count": 32,
     "metadata": {},
     "output_type": "execute_result"
    }
   ],
   "source": []
  },
  {
   "cell_type": "code",
   "execution_count": 41,
   "metadata": {
    "execution": {
     "iopub.execute_input": "2020-10-17T22:03:32.906876Z",
     "iopub.status.busy": "2020-10-17T22:03:32.906876Z",
     "iopub.status.idle": "2020-10-17T22:03:32.916848Z",
     "shell.execute_reply": "2020-10-17T22:03:32.915848Z",
     "shell.execute_reply.started": "2020-10-17T22:03:32.906876Z"
    }
   },
   "outputs": [
    {
     "name": "stdout",
     "output_type": "stream",
     "text": [
      "Wohnung / Zimmer\n",
      "Biete\n",
      "Mieten\n",
      "1\n",
      "1'095.00\n",
      "Marktgasse 19, 8038 Kloten \n",
      "unbefristet\n",
      "Wohnung / Zimmer\n",
      "Biete\n",
      "Mieten\n",
      "1.0\n",
      "1'405.00\n",
      "8003 Zürich \n",
      "unknown\n"
     ]
    }
   ],
   "source": [
    "\n",
    "    \n",
    "regex = {r'category1': r'Biete \\/ Suche \\/ Tausche: (.+?):',\n",
    "         r'bid_ask': r'Biete \\/ Suche \\/ Tausche: .+?: (.+?) ',\n",
    "         r'rent_buy': r'Mieten \\& Kaufen: (.+?) ',\n",
    "         r'rooms': r'Zimmer: ([^a-zA-Z ]+)',\n",
    "         r'cost': r'Kosten: ([^a-zA-Z ]+)',\n",
    "         r'address': r'Adresse: (.*?)Kontakt',\n",
    "         r'duration': r'Vertragsart: (.*?) ',\n",
    "         }\n",
    "for i in [0,1]:\n",
    "    d = {}\n",
    "    for k, v in regex.items():\n",
    "        prop = re.search(v, df.loc[i,'details'])\n",
    "        if prop is not None:\n",
    "            prop = prop.groups(0)[0]\n",
    "        else:\n",
    "            prop = 'unknown'\n",
    "        print(prop)"
   ]
  },
  {
   "cell_type": "code",
   "execution_count": null,
   "metadata": {},
   "outputs": [],
   "source": []
  }
 ],
 "metadata": {
  "kernelspec": {
   "display_name": "Python 3",
   "language": "python",
   "name": "python3"
  },
  "language_info": {
   "codemirror_mode": {
    "name": "ipython",
    "version": 3
   },
   "file_extension": ".py",
   "mimetype": "text/x-python",
   "name": "python",
   "nbconvert_exporter": "python",
   "pygments_lexer": "ipython3",
   "version": "3.8.5"
  },
  "toc-autonumbering": true
 },
 "nbformat": 4,
 "nbformat_minor": 4
}
