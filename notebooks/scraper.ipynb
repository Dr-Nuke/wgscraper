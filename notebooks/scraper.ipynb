{
 "cells": [
  {
   "cell_type": "code",
   "execution_count": 19,
   "metadata": {},
   "outputs": [],
   "source": [
    "import pandas as pd\n",
    "from bs4 import BeautifulSoup\n",
    "import requests\n",
    "import re\n",
    "from pathlib import Path\n",
    "from selenium import webdriver\n",
    "import datetime\n",
    "from loguru import logger\n",
    "import datetime"
   ]
  },
  {
   "cell_type": "code",
   "execution_count": 54,
   "metadata": {},
   "outputs": [
    {
     "name": "stdout",
     "output_type": "stream",
     "text": [
      "mystart\n"
     ]
    }
   ],
   "source": [
    "# a logging support time difference class\n",
    "class logtimediff():\n",
    "    \n",
    "    def __init__(self,name=None):\n",
    "        self.start=datetime.datetime.now()\n",
    "        self.reference={}\n",
    "        if name is not None:\n",
    "            self.ref(name)\n",
    "#             print(name)\n",
    "\n",
    "        \n",
    "#     def diff(self):\n",
    "#         name=None\n",
    "#         if name is not None:\n",
    "#             return datetime.datetime.now() - self.ref['name']\n",
    "#         else:\n",
    "#             return datetime.datetime.now() - self.start\n",
    "        \n",
    "    \n",
    "    def ref(self,name=None):\n",
    "        if name is not None:\n",
    "            print(name)\n",
    "            self.reference[name]=datetime.datetime.now()\n",
    "        \n",
    "        \n",
    "a=logtimediff('mystart')\n",
    "# a"
   ]
  },
  {
   "cell_type": "code",
   "execution_count": 53,
   "metadata": {},
   "outputs": [
    {
     "data": {
      "text/plain": [
       "datetime.datetime(2020, 10, 17, 10, 4, 18, 510357)"
      ]
     },
     "execution_count": 53,
     "metadata": {},
     "output_type": "execute_result"
    }
   ],
   "source": [
    "a.start"
   ]
  },
  {
   "cell_type": "code",
   "execution_count": 201,
   "metadata": {},
   "outputs": [
    {
     "name": "stderr",
     "output_type": "stream",
     "text": [
      "2020-10-17 15:10:24.784 | INFO     | __main__:<module>:5 - starting scraping\n",
      "2020-10-17 15:10:39.178 | INFO     | __main__:<module>:11 - soup made\n"
     ]
    }
   ],
   "source": [
    "home_url='https://www.ronorp.net/zuerich/immobilien/wg-zuerich.1220/wunderschoenes-co-living-haus-mit-38-suiten-in-kloten.2042131?&back_url=%2Fzuerich%2Fimmobilien%2Fwg-zuerich.1220%3Fs%3D1'\n",
    "#          'https://www.ronorp.net/zuerich/immobilien/wg-zuerich.1220/wunderschoenes-co-living-haus-mit-38-suiten-in-kloten.2042131?&back_url=%2Fzuerich%2Fimmobilien%2Fwg-zuerich.1220%3Fs%3D1'\n",
    "#     'https://www.ronorp.net/zuerich/immobilien/wg-zuerich.1220/cozy-studio-near-schmiede-wiedikon-1405chf-month.2072688?&back_url=%2Fzuerich%2Fimmobilien%2Fwg-zuerich.1220%3Fs%3D1\n",
    "\n",
    "logger.info('starting scraping')\n",
    "driver = webdriver.Firefox(executable_path=Path(r'C:\\Users\\Bo-user\\Downloads\\geckodriver-v0.27.0-win64') / 'geckodriver.exe')\n",
    "driver.get(home_url)\n",
    "previews=[]\n",
    "content = driver.page_source # this is one big string of webpage html\n",
    "soup = BeautifulSoup(content)\n",
    "logger.info('soup made')\n"
   ]
  },
  {
   "cell_type": "code",
   "execution_count": 209,
   "metadata": {},
   "outputs": [],
   "source": [
    "a=soup.find_all(attrs={'class' :'advert_short_text'})"
   ]
  },
  {
   "cell_type": "code",
   "execution_count": 221,
   "metadata": {},
   "outputs": [
    {
     "data": {
      "text/plain": [
       "'<p class=\"text_comment\">Ich glaube, dass zusammen einfach schöner ist als alleine. Deshalb habe ich '"
      ]
     },
     "execution_count": 221,
     "metadata": {},
     "output_type": "execute_result"
    }
   ],
   "source": [
    "text = a[0].find_all(attrs={'class' :'text_comment'})\n",
    "str(text[0])[:100]"
   ]
  },
  {
   "cell_type": "code",
   "execution_count": 244,
   "metadata": {},
   "outputs": [
    {
     "data": {
      "text/plain": [
       "[]"
      ]
     },
     "execution_count": 244,
     "metadata": {},
     "output_type": "execute_result"
    }
   ],
   "source": [
    "details = a[0].find_all(attrs={'class' :'and_padding'})\n",
    "details\n"
   ]
  },
  {
   "cell_type": "code",
   "execution_count": 415,
   "metadata": {},
   "outputs": [],
   "source": [
    "link='https://www.ronorp.net/zuerich/immobilien/wg-zuerich.1220/wunderschoenes-co-living-haus-mit-38-suiten-in-kloten.2042131?&back_url=%2Fzuerich%2Fimmobilien%2Fwg-zuerich.1220%3Fs%3D1'\n",
    "link='https://www.ronorp.net/zuerich/immobilien/wg-zuerich.1220/cozy-studio-near-schmiede-wiedikon-1405chf-month.2072688?&back_url=%2Fzuerich%2Fimmobilien%2Fwg-zuerich.1220%3Fs%3D1' \n",
    "link='https://www.ronorp.net/zuerich/immobilien/wg-zuerich.1220/15qm-zimmer-in-heller-grosser-4er-wg.2072828?&back_url=%2Fzuerich%2Fimmobilien%2Fwg-zuerich.1220%3Fpage%3D2%26hash%3D8066eefae06f4ebdde76511cbb811cdf'\n",
    "driver.get(link)\n",
    "content = driver.page_source # this is one big string of webpage html\n",
    "soup = BeautifulSoup(content)\n"
   ]
  },
  {
   "cell_type": "code",
   "execution_count": 416,
   "metadata": {},
   "outputs": [
    {
     "data": {
      "text/plain": [
       "'Biete / Suche / Tausche: Wohnung / Zimmer: Biete Mieten & Kaufen: Mieten Stadt / Agglo: Stadt Vertragsart: unbefristet Zimmer: 1Kosten: 790.00Besichtigungstermin: 24.10.2020, 16:00Adresse: Neunbrunnenstrasse , 8050 Zürich Kontakt: f**********@g********mDie vollen Kontaktinformationen sind nur für Ron Orp Leser sichtbar. Hier gleich kostenlos anmelden. \\t \\t\\t \\t\\tAchtung: Überweise nie eine Kaution an Personen, deren Wohnung du nie gesehen hast oder weil sie gerade nicht in der Schweiz weilen.\\t \\t mehr SCHREIB MIR! Anzeige Online Crowdfunding Workshop Du möchtest ein eigenes Crowdfunding Projekt starten? Dann ist der kostenlose Online-Workshop von Crowdify genau das Richtige für dich. Mehr Infos Werbeanzeige WG Folgen ♥ ♥ ♥ Unterstütze Ron ♥ ♥ ♥Ich bin dein Sprachrohr für deine Stadt und dabei stets unabhängig. Daher freue ich mich über alle, die bereit sind, einen kleinen, finanziellen Beitrag an mein Tun zu leisten. Kommentare0 auf Merkliste'"
      ]
     },
     "execution_count": 416,
     "metadata": {},
     "output_type": "execute_result"
    }
   ],
   "source": [
    "details = soup.find('div', attrs={'class': 'detail_block'})\n",
    "details_text = html_clean_1(details.get_text())\n",
    "details_text"
   ]
  },
  {
   "cell_type": "code",
   "execution_count": 446,
   "metadata": {},
   "outputs": [
    {
     "data": {
      "text/plain": [
       "{'category1': 'Wohnung / Zimmer',\n",
       " 'bid_ask': 'Biete',\n",
       " 'rent_buy': 'Wohnung / Zimmer',\n",
       " 'rooms': '1',\n",
       " 'cost': '790.00',\n",
       " 'address': 'Neunbrunnenstrasse , 8050 Zürich ',\n",
       " 'duration': 'unbefristet'}"
      ]
     },
     "execution_count": 446,
     "metadata": {},
     "output_type": "execute_result"
    }
   ],
   "source": [
    "regex={'category1': r'Biete \\/ Suche \\/ Tausche: (.+?):',\n",
    "                   'bid_ask': r'Biete \\/ Suche \\/ Tausche: .+?: (.+?) ',\n",
    "                   'rent_buy': r'Biete \\/ Suche \\/ Tausche: (.+?):',\n",
    "                   'rooms': r'Zimmer: ([^a-zA-Z ]+)',\n",
    "                   'cost': r'Kosten: ([^a-zA-Z ]+)',\n",
    "                   'address': r'Adresse: (.*?)Kontakt',\n",
    "                   'duration': r'Vertragsart: (.*?) ',\n",
    "                   }\n",
    "d={}\n",
    "for k, v in regex.items():\n",
    "    prop=re.search(v,details_text).groups(0)[0]\n",
    "    if prop is None:\n",
    "        prop = unknown\n",
    "    d[k]=prop\n",
    "d"
   ]
  },
  {
   "cell_type": "code",
   "execution_count": 425,
   "metadata": {},
   "outputs": [
    {
     "name": "stdout",
     "output_type": "stream",
     "text": [
      "Biete / Suche / Tausche:\n",
      "Wohnung / Zimmer\n",
      "Biete\n"
     ]
    }
   ],
   "source": [
    "search = re.search(r'(Biete \\/ Suche \\/ Tausche:) (.+?): (.+?) ',details_text)\n",
    "for group in search.groups(0):\n",
    "    print(group)"
   ]
  },
  {
   "cell_type": "code",
   "execution_count": 426,
   "metadata": {},
   "outputs": [
    {
     "name": "stdout",
     "output_type": "stream",
     "text": [
      "Wohnung / Zimmer\n"
     ]
    }
   ],
   "source": [
    "search = re.search(r'Biete \\/ Suche \\/ Tausche: (.+?):',details_text)\n",
    "for group in search.groups(0):\n",
    "    print(group)\n",
    "\n"
   ]
  },
  {
   "cell_type": "code",
   "execution_count": 427,
   "metadata": {},
   "outputs": [
    {
     "name": "stdout",
     "output_type": "stream",
     "text": [
      "Biete\n"
     ]
    }
   ],
   "source": [
    "search = re.search(r'Biete \\/ Suche \\/ Tausche: .+?: (.+?) ',details_text)\n",
    "for group in search.groups(0):\n",
    "    print(group)\n",
    "\n"
   ]
  },
  {
   "cell_type": "code",
   "execution_count": 418,
   "metadata": {},
   "outputs": [
    {
     "name": "stdout",
     "output_type": "stream",
     "text": [
      "Mieten\n"
     ]
    }
   ],
   "source": [
    "search = re.search(r'Mieten \\& Kaufen: (.+?) ',details_text)\n",
    "for group in search.groups(0):\n",
    "    print(group)"
   ]
  },
  {
   "cell_type": "code",
   "execution_count": 419,
   "metadata": {},
   "outputs": [
    {
     "name": "stdout",
     "output_type": "stream",
     "text": [
      "Stadt\n"
     ]
    }
   ],
   "source": [
    "search = re.search(r'Stadt \\/ Agglo: (.+?) ',details_text)\n",
    "for group in search.groups(0):\n",
    "    print(group)"
   ]
  },
  {
   "cell_type": "code",
   "execution_count": 420,
   "metadata": {},
   "outputs": [
    {
     "name": "stdout",
     "output_type": "stream",
     "text": [
      "1\n"
     ]
    }
   ],
   "source": [
    "search = re.search(r'Zimmer: ([^a-zA-Z ]+)',details_text)\n",
    "for group in search.groups(0):\n",
    "    print(group)"
   ]
  },
  {
   "cell_type": "code",
   "execution_count": 421,
   "metadata": {},
   "outputs": [
    {
     "name": "stdout",
     "output_type": "stream",
     "text": [
      "790.00\n"
     ]
    }
   ],
   "source": [
    "search = re.search(r'Kosten: ([^a-zA-Z ]+)',details_text)\n",
    "for group in search.groups(0):\n",
    "    print(group)"
   ]
  },
  {
   "cell_type": "code",
   "execution_count": 422,
   "metadata": {},
   "outputs": [
    {
     "name": "stdout",
     "output_type": "stream",
     "text": [
      "Neunbrunnenstrasse , 8050 Zürich \n"
     ]
    }
   ],
   "source": [
    "search = re.search(r'Adresse: (.*?)Kontakt',details_text)\n",
    "for group in search.groups(0):\n",
    "    print(group)"
   ]
  },
  {
   "cell_type": "code",
   "execution_count": 424,
   "metadata": {},
   "outputs": [
    {
     "name": "stdout",
     "output_type": "stream",
     "text": [
      "unbefristet\n"
     ]
    }
   ],
   "source": [
    "search = re.search(r'Vertragsart: (.*?) ',details_text)\n",
    "for group in search.groups(0):\n",
    "    print(group)"
   ]
  },
  {
   "cell_type": "code",
   "execution_count": 270,
   "metadata": {},
   "outputs": [
    {
     "data": {
      "text/plain": [
       "'02.09.2020 10:53'"
      ]
     },
     "execution_count": 270,
     "metadata": {},
     "output_type": "execute_result"
    }
   ],
   "source": [
    "soup.find('div',attrs={'class' :'pull-left'}).string"
   ]
  },
  {
   "cell_type": "code",
   "execution_count": 272,
   "metadata": {},
   "outputs": [
    {
     "data": {
      "text/plain": [
       "datetime.datetime(2020, 2, 9, 10, 53)"
      ]
     },
     "execution_count": 272,
     "metadata": {},
     "output_type": "execute_result"
    }
   ],
   "source": [
    "import dateparser\n",
    "dateparser.parse(soup.find('div',attrs={'class' :'pull-left'}).string)"
   ]
  },
  {
   "cell_type": "code",
   "execution_count": 310,
   "metadata": {},
   "outputs": [
    {
     "data": {
      "text/plain": [
       "'Ich glaube, dass zusammen einfach schöner ist als alleine. Deshalb habe ich ein Start-up gegründet, das Gebäude für grosse Hausgemeinschaften baut.In Kloten eröffnen wir nun am 1.Oktober unser erstes Gebäude mit 38 Suiten, komplett mit jeweils eigenem Bad (Dusche & WC). Die meisten Suiten haben einen eigenen Balkon, sind grosszügig gebaut und schallisoliert. Wir teilen uns die zwei grossen Gemeinschaftsräume mit Grossküche, Terrasse, Lounge und Essbereich.Die Zimmer sind möbliert, damit du alles hast, was du brauchst aber auch eigene Sachen einbringen kannst.Jedes der zwei Stockwerke hat einen eigenen Waschraum mit je zwei Waschmaschinen und Trockner.Im Erdgeschoss gibt es zwei Restaurants, die für uns zu vergünstigten Preisen kochen.Der Bahnhof mit der S-Bahn ist nur 3 Gehminuten entfernt und mit der S7 ist man in 15min am HB.Mindestens einmal pro Wochen essen wir gemeinsam, daneben organisieren wir verschiedene Aktivitäten je nach Lust und Laune.Die Zimmerpreise starten bei CHF 1095 pro Monat inkl. Nebenkosten (Strom, Wärme, Wasser, Wifi, TV, Reinigung Gemeinschaftsräume)Viele weitere Infos findest du auf  www.tomodomo.ch Wir freuen uns auf deine Bewerbung!JohannesGründer von TomoDomo :-)'"
      ]
     },
     "execution_count": 310,
     "metadata": {},
     "output_type": "execute_result"
    }
   ],
   "source": [
    "# text_comment \n",
    "re.sub(r'\\n','',soup.find('p',attrs={'class' :'text_comment'}).get_text()).strip()"
   ]
  },
  {
   "cell_type": "code",
   "execution_count": 312,
   "metadata": {},
   "outputs": [],
   "source": [
    "details =soup.find('div',attrs={'class' :'detail_block'})"
   ]
  },
  {
   "cell_type": "code",
   "execution_count": 309,
   "metadata": {},
   "outputs": [
    {
     "data": {
      "text/plain": [
       "'Biete / Suche / Tausche: Wohnung / Zimmer: Biete'"
      ]
     },
     "execution_count": 309,
     "metadata": {},
     "output_type": "execute_result"
    }
   ],
   "source": [
    "re.sub(' +',' ',re.sub(r'\\n','',details.contents[1].span.get_text())).strip()"
   ]
  },
  {
   "cell_type": "code",
   "execution_count": 356,
   "metadata": {},
   "outputs": [
    {
     "data": {
      "text/plain": [
       "['\\n',\n",
       " <div>\n",
       "                                 Mieten &amp; Kaufen:\n",
       "                                                                     Mieten\n",
       "                                                                                             </div>,\n",
       " '\\n                                                                            Stadt / Agglo:\\n                                                         Agglo                            ',\n",
       " <br/>,\n",
       " '\\n',\n",
       " <div>\n",
       "                                     Vertragsart:\n",
       "                                                                                                     unbefristet\n",
       "                                                                 </div>,\n",
       " '\\n']"
      ]
     },
     "execution_count": 356,
     "metadata": {},
     "output_type": "execute_result"
    }
   ],
   "source": [
    "details.contents[3].span.contents\n"
   ]
  },
  {
   "cell_type": "code",
   "execution_count": 367,
   "metadata": {},
   "outputs": [
    {
     "data": {
      "text/plain": [
       "\"\\n                            Zimmer: 1Kosten: 1'095.00Adresse: Marktgasse 19, 8038 Kloten\\n                            \""
      ]
     },
     "execution_count": 367,
     "metadata": {},
     "output_type": "execute_result"
    }
   ],
   "source": [
    "details.contents[5].span.div.get_text()\n",
    "\n"
   ]
  },
  {
   "cell_type": "code",
   "execution_count": 374,
   "metadata": {},
   "outputs": [],
   "source": [
    "d={}\n",
    "s=details.contents[5].span.div.get_text()\n",
    "for separator in ['Kosten','Adresse']:\n",
    "    s=re.sub(separator,';'+separator,s)\n",
    "d['rooms'], d['cost'], d['adress'] = s.split(';')   "
   ]
  },
  {
   "cell_type": "code",
   "execution_count": 375,
   "metadata": {},
   "outputs": [
    {
     "data": {
      "text/plain": [
       "{'rooms': '\\n                            Zimmer: 1',\n",
       " 'cost': \"Kosten: 1'095.00\",\n",
       " 'adress': 'Adresse: Marktgasse 19, 8038 Kloten\\n                            '}"
      ]
     },
     "execution_count": 375,
     "metadata": {},
     "output_type": "execute_result"
    }
   ],
   "source": [
    "d"
   ]
  },
  {
   "cell_type": "code",
   "execution_count": 346,
   "metadata": {},
   "outputs": [],
   "source": [
    "def html_clean_1(s):\n",
    "    # a specific cleaner for (ronorp) html strings\n",
    "    s = re.sub(r'\\n','',s) # remove newlines\n",
    "    s = re.sub(' +',' ', s) # rmove excessive space\n",
    "    s=s.strip()\n",
    "    return s\n",
    "    "
   ]
  },
  {
   "cell_type": "code",
   "execution_count": 387,
   "metadata": {},
   "outputs": [
    {
     "data": {
      "text/plain": [
       "'johannespeter'"
      ]
     },
     "execution_count": 387,
     "metadata": {},
     "output_type": "execute_result"
    }
   ],
   "source": [
    "soup.find(attrs={'class': 'user_info'}).find('div',attrs={'class': 'name'})['title']"
   ]
  },
  {
   "cell_type": "code",
   "execution_count": 382,
   "metadata": {},
   "outputs": [
    {
     "data": {
      "text/plain": [
       "['\\n',\n",
       " <div class=\"avatar\" data-actions=\"click\" data-category=\"ContentDetails\" data-label=\"ProfileImage\" data-trace=\"\">\n",
       " <a data-disable-transition=\"1\" href=\"https://www.ronorp.net/zuerich/ronsters-1/vorschau/johannespeter?&amp;back_url=%2Fzuerich%2Fimmobilien%2Fwg-zuerich.1220%2Fwunderschoenes-co-living-haus-mit-38-suiten-in-kloten.2042131%3F%26back_url%3D%252Fzuerich%252Fimmobilien%252Fwg-zuerich.1220%253Fs%253D1\" style=\"box-shadow: none;\">\n",
       " <img alt=\"johannespeter\" class=\"avatar profile-190156\" data-size=\"content\" height=\"40\" src=\"https://static4.ronorp.net/media/userpics/photo-190000-191000/photo_190156_40.jpg?1596384071\" title=\"johannespeter\" width=\"40\"/>\n",
       " </a> </div>,\n",
       " '\\n',\n",
       " <div class=\"user\">\n",
       " <div class=\"name\" title=\"johannespeter\">\n",
       " <a data-actions=\"click\" data-category=\"ContentDetails\" data-label=\"ProfileName\" data-line=\"141\" data-trace=\"\" href=\"https://www.ronorp.net/zuerich/ronsters-1/vorschau/johannespeter?&amp;back_url=%2Fzuerich%2Fimmobilien%2Fwg-zuerich.1220%2Fwunderschoenes-co-living-haus-mit-38-suiten-in-kloten.2042131%3F%26back_url%3D%252Fzuerich%252Fimmobilien%252Fwg-zuerich.1220%253Fs%253D1\">\n",
       "                             johannespeter\n",
       "                         </a>\n",
       " </div>\n",
       " <div class=\"details_gray small left\">\n",
       " <div attr_city=\"zuerich\" class=\"user-network\" style=\"position:relative;\">\n",
       " </div>\n",
       " </div>\n",
       " <div class=\"details_gray data_block small\">\n",
       " <span class=\"t3\"></span><div class=\"pull-left\">02.09.2020 10:53</div>\n",
       " </div>\n",
       " <!--FOLLOW-->\n",
       " <div class=\"mobile_follow\">\n",
       " <div class=\"fu-container\" data-profile=\"190156\" style=\"\">\n",
       " <span class=\"noauthorized follow_container normal\">\n",
       " <a class=\"flag follow_link Y tooltip-wrapper\" data-actions=\"click\" data-category=\"ContentDetails\" data-label=\"FollowNoAuth\" data-trace=\"\" href=\"#\" onclick=\"showFollowLoginPopup('Please login for this action. Still have no account? Get start now for free!', 'EINLOGGEN'); return false;\">\n",
       "                     Folgen\n",
       "             </a>\n",
       " </span>\n",
       " </div> </div>\n",
       " <div class=\"clearer\"></div>\n",
       " </div>,\n",
       " '\\n']"
      ]
     },
     "execution_count": 382,
     "metadata": {},
     "output_type": "execute_result"
    }
   ],
   "source": [
    "soup.find(attrs={'class': 'user_info'}).contents\n",
    "       "
   ]
  },
  {
   "cell_type": "code",
   "execution_count": 164,
   "metadata": {},
   "outputs": [
    {
     "name": "stdout",
     "output_type": "stream",
     "text": [
      "Wunderschönes Co-Living Haus mit 38 Suiten in Kloten,...\n"
     ]
    },
    {
     "ename": "KeyError",
     "evalue": "'alt'",
     "output_type": "error",
     "traceback": [
      "\u001b[1;31m---------------------------------------------------------------------------\u001b[0m",
      "\u001b[1;31mKeyError\u001b[0m                                  Traceback (most recent call last)",
      "\u001b[1;32m<ipython-input-164-d1889f530b2a>\u001b[0m in \u001b[0;36m<module>\u001b[1;34m\u001b[0m\n\u001b[0;32m      1\u001b[0m \u001b[1;32mfor\u001b[0m \u001b[0melement\u001b[0m \u001b[1;32min\u001b[0m \u001b[0msoup\u001b[0m\u001b[1;33m.\u001b[0m\u001b[0mfindAll\u001b[0m\u001b[1;33m(\u001b[0m\u001b[0mattrs\u001b[0m\u001b[1;33m=\u001b[0m\u001b[1;33m{\u001b[0m\u001b[1;34m'class'\u001b[0m\u001b[1;33m:\u001b[0m \u001b[1;34m'ronorp-inserate'\u001b[0m\u001b[1;33m}\u001b[0m\u001b[1;33m)\u001b[0m\u001b[1;33m:\u001b[0m\u001b[1;33m\u001b[0m\u001b[1;33m\u001b[0m\u001b[0m\n\u001b[0;32m      2\u001b[0m     \u001b[0mmything\u001b[0m\u001b[1;33m=\u001b[0m \u001b[0melement\u001b[0m\u001b[1;33m.\u001b[0m\u001b[0ma\u001b[0m\u001b[1;33m\u001b[0m\u001b[1;33m\u001b[0m\u001b[0m\n\u001b[1;32m----> 3\u001b[1;33m     \u001b[0mprint\u001b[0m\u001b[1;33m(\u001b[0m\u001b[0mmything\u001b[0m\u001b[1;33m[\u001b[0m\u001b[1;34m'alt'\u001b[0m\u001b[1;33m]\u001b[0m\u001b[1;33m)\u001b[0m\u001b[1;33m\u001b[0m\u001b[1;33m\u001b[0m\u001b[0m\n\u001b[0m",
      "\u001b[1;32mC:\\ProgramData\\Anaconda3\\envs\\wgscraper\\lib\\site-packages\\bs4\\element.py\u001b[0m in \u001b[0;36m__getitem__\u001b[1;34m(self, key)\u001b[0m\n\u001b[0;32m   1399\u001b[0m         \"\"\"tag[key] returns the value of the 'key' attribute for the Tag,\n\u001b[0;32m   1400\u001b[0m         and throws an exception if it's not there.\"\"\"\n\u001b[1;32m-> 1401\u001b[1;33m         \u001b[1;32mreturn\u001b[0m \u001b[0mself\u001b[0m\u001b[1;33m.\u001b[0m\u001b[0mattrs\u001b[0m\u001b[1;33m[\u001b[0m\u001b[0mkey\u001b[0m\u001b[1;33m]\u001b[0m\u001b[1;33m\u001b[0m\u001b[1;33m\u001b[0m\u001b[0m\n\u001b[0m\u001b[0;32m   1402\u001b[0m \u001b[1;33m\u001b[0m\u001b[0m\n\u001b[0;32m   1403\u001b[0m     \u001b[1;32mdef\u001b[0m \u001b[0m__iter__\u001b[0m\u001b[1;33m(\u001b[0m\u001b[0mself\u001b[0m\u001b[1;33m)\u001b[0m\u001b[1;33m:\u001b[0m\u001b[1;33m\u001b[0m\u001b[1;33m\u001b[0m\u001b[0m\n",
      "\u001b[1;31mKeyError\u001b[0m: 'alt'"
     ]
    }
   ],
   "source": [
    "for element in soup.findAll(attrs={'class': 'ronorp-inserate'}):\n",
    "    mything= element.a\n",
    "    print(mything['alt'])\n"
   ]
  },
  {
   "cell_type": "code",
   "execution_count": 182,
   "metadata": {},
   "outputs": [
    {
     "name": "stdout",
     "output_type": "stream",
     "text": [
      "ad\n"
     ]
    }
   ],
   "source": [
    "results={}\n",
    "for element in soup.find_all(attrs={'class': 'title_comment colored'}):\n",
    "    try:\n",
    "        results.update({element.a['alt']:element.a.attrs})\n",
    "        \n",
    "    except KeyError:\n",
    "        print('ad')\n",
    "        "
   ]
  },
  {
   "cell_type": "code",
   "execution_count": 191,
   "metadata": {},
   "outputs": [
    {
     "data": {
      "text/html": [
       "<div>\n",
       "<style scoped>\n",
       "    .dataframe tbody tr th:only-of-type {\n",
       "        vertical-align: middle;\n",
       "    }\n",
       "\n",
       "    .dataframe tbody tr th {\n",
       "        vertical-align: top;\n",
       "    }\n",
       "\n",
       "    .dataframe thead th {\n",
       "        text-align: right;\n",
       "    }\n",
       "</style>\n",
       "<table border=\"1\" class=\"dataframe\">\n",
       "  <thead>\n",
       "    <tr style=\"text-align: right;\">\n",
       "      <th></th>\n",
       "      <th>data-advert-position</th>\n",
       "      <th>class</th>\n",
       "      <th>href</th>\n",
       "      <th>data-attr-href</th>\n",
       "      <th>alt</th>\n",
       "      <th>data-trace</th>\n",
       "      <th>data-category</th>\n",
       "      <th>data-label</th>\n",
       "      <th>data-actions</th>\n",
       "    </tr>\n",
       "  </thead>\n",
       "  <tbody>\n",
       "    <tr>\n",
       "      <th>Wunderschönes Co-Living Haus mit 38 Suiten in Kloten,...</th>\n",
       "      <td>2042131_1220_af42a93dbd7b5ed6920a146aa514ac00</td>\n",
       "      <td>[]</td>\n",
       "      <td>https://www.ronorp.net/zuerich/immobilien/wg-zuerich.1220/wunderschoenes-co-living-haus-mit-38-suiten-in-kloten.2042131?&amp;back_url=%2Fzuerich%2Fimmobilien%2Fwg-zuerich.1220%3Fs%3D1</td>\n",
       "      <td>https://www.ronorp.net/zuerich/immobilien/wg-zuerich.1220/wunderschoenes-co-living-haus-mit-38-suiten-in-kloten.2042131?&amp;back_url=%2Fzuerich%2Fimmobilien%2Fwg-zuerich.1220%3Fs%3D1</td>\n",
       "      <td>Wunderschönes Co-Living Haus mit 38 Suiten in Kloten,...</td>\n",
       "      <td></td>\n",
       "      <td>ContentList</td>\n",
       "      <td>ContentTitle</td>\n",
       "      <td>click</td>\n",
       "    </tr>\n",
       "    <tr>\n",
       "      <th>Super zentrales WG-Zimmer oberhalb GZ Wipkingen</th>\n",
       "      <td>2072274_1220_e7949bfbebb65f4c72647ddb2a5199df</td>\n",
       "      <td>[]</td>\n",
       "      <td>https://www.ronorp.net/zuerich/immobilien/wg-zuerich.1220/super-zentrales-wg-zimmer-oberhalb-gz-wipkingen.2072274?&amp;back_url=%2Fzuerich%2Fimmobilien%2Fwg-zuerich.1220%3Fs%3D1</td>\n",
       "      <td>https://www.ronorp.net/zuerich/immobilien/wg-zuerich.1220/super-zentrales-wg-zimmer-oberhalb-gz-wipkingen.2072274?&amp;back_url=%2Fzuerich%2Fimmobilien%2Fwg-zuerich.1220%3Fs%3D1</td>\n",
       "      <td>Super zentrales WG-Zimmer oberhalb GZ Wipkingen</td>\n",
       "      <td></td>\n",
       "      <td>ContentList</td>\n",
       "      <td>ContentTitle</td>\n",
       "      <td>click</td>\n",
       "    </tr>\n",
       "  </tbody>\n",
       "</table>\n",
       "</div>"
      ],
      "text/plain": [
       "                                                                                   data-advert-position  \\\n",
       "Wunderschönes Co-Living Haus mit 38 Suiten in Kloten,...  2042131_1220_af42a93dbd7b5ed6920a146aa514ac00   \n",
       "Super zentrales WG-Zimmer oberhalb GZ Wipkingen           2072274_1220_e7949bfbebb65f4c72647ddb2a5199df   \n",
       "\n",
       "                                                         class  \\\n",
       "Wunderschönes Co-Living Haus mit 38 Suiten in Kloten,...    []   \n",
       "Super zentrales WG-Zimmer oberhalb GZ Wipkingen             []   \n",
       "\n",
       "                                                                                                                                                                                                                                         href  \\\n",
       "Wunderschönes Co-Living Haus mit 38 Suiten in Kloten,...  https://www.ronorp.net/zuerich/immobilien/wg-zuerich.1220/wunderschoenes-co-living-haus-mit-38-suiten-in-kloten.2042131?&back_url=%2Fzuerich%2Fimmobilien%2Fwg-zuerich.1220%3Fs%3D1   \n",
       "Super zentrales WG-Zimmer oberhalb GZ Wipkingen                 https://www.ronorp.net/zuerich/immobilien/wg-zuerich.1220/super-zentrales-wg-zimmer-oberhalb-gz-wipkingen.2072274?&back_url=%2Fzuerich%2Fimmobilien%2Fwg-zuerich.1220%3Fs%3D1   \n",
       "\n",
       "                                                                                                                                                                                                                               data-attr-href  \\\n",
       "Wunderschönes Co-Living Haus mit 38 Suiten in Kloten,...  https://www.ronorp.net/zuerich/immobilien/wg-zuerich.1220/wunderschoenes-co-living-haus-mit-38-suiten-in-kloten.2042131?&back_url=%2Fzuerich%2Fimmobilien%2Fwg-zuerich.1220%3Fs%3D1   \n",
       "Super zentrales WG-Zimmer oberhalb GZ Wipkingen                 https://www.ronorp.net/zuerich/immobilien/wg-zuerich.1220/super-zentrales-wg-zimmer-oberhalb-gz-wipkingen.2072274?&back_url=%2Fzuerich%2Fimmobilien%2Fwg-zuerich.1220%3Fs%3D1   \n",
       "\n",
       "                                                                                                               alt  \\\n",
       "Wunderschönes Co-Living Haus mit 38 Suiten in Kloten,...  Wunderschönes Co-Living Haus mit 38 Suiten in Kloten,...   \n",
       "Super zentrales WG-Zimmer oberhalb GZ Wipkingen                    Super zentrales WG-Zimmer oberhalb GZ Wipkingen   \n",
       "\n",
       "                                                         data-trace  \\\n",
       "Wunderschönes Co-Living Haus mit 38 Suiten in Kloten,...              \n",
       "Super zentrales WG-Zimmer oberhalb GZ Wipkingen                       \n",
       "\n",
       "                                                         data-category  \\\n",
       "Wunderschönes Co-Living Haus mit 38 Suiten in Kloten,...   ContentList   \n",
       "Super zentrales WG-Zimmer oberhalb GZ Wipkingen            ContentList   \n",
       "\n",
       "                                                            data-label  \\\n",
       "Wunderschönes Co-Living Haus mit 38 Suiten in Kloten,...  ContentTitle   \n",
       "Super zentrales WG-Zimmer oberhalb GZ Wipkingen           ContentTitle   \n",
       "\n",
       "                                                         data-actions  \n",
       "Wunderschönes Co-Living Haus mit 38 Suiten in Kloten,...        click  \n",
       "Super zentrales WG-Zimmer oberhalb GZ Wipkingen                 click  "
      ]
     },
     "execution_count": 191,
     "metadata": {},
     "output_type": "execute_result"
    }
   ],
   "source": [
    "df=pd.DataFrame(results).transpose()\n",
    "pd.options.display.max_colwidth = 200\n",
    "df"
   ]
  },
  {
   "cell_type": "code",
   "execution_count": 199,
   "metadata": {},
   "outputs": [
    {
     "name": "stdout",
     "output_type": "stream",
     "text": [
      "www.ronorp.net\n"
     ]
    }
   ],
   "source": [
    "from urllib.parse import urlparse\n",
    "\n",
    "domain = urlparse(home_url).netloc\n",
    "print(domain) # --> www.example.test\n"
   ]
  },
  {
   "cell_type": "code",
   "execution_count": 193,
   "metadata": {},
   "outputs": [],
   "source": [
    "from urllib.parse import urlparse"
   ]
  },
  {
   "cell_type": "code",
   "execution_count": 197,
   "metadata": {},
   "outputs": [
    {
     "data": {
      "text/plain": [
       "'ronorp.net'"
      ]
     },
     "execution_count": 197,
     "metadata": {},
     "output_type": "execute_result"
    }
   ],
   "source": [
    "a=urlparse(home_url).netloc.replace('www.','')\n",
    "a"
   ]
  },
  {
   "cell_type": "code",
   "execution_count": 198,
   "metadata": {},
   "outputs": [
    {
     "data": {
      "text/plain": [
       "'ronorp'"
      ]
     },
     "execution_count": 198,
     "metadata": {},
     "output_type": "execute_result"
    }
   ],
   "source": [
    "pos = a.rfind('.') # find rightmost dot\n",
    "if pos >= 0:         # found one\n",
    "    url = a[:pos]\n",
    "url"
   ]
  },
  {
   "cell_type": "code",
   "execution_count": 9,
   "metadata": {},
   "outputs": [],
   "source": [
    "\n"
   ]
  },
  {
   "cell_type": "code",
   "execution_count": null,
   "metadata": {},
   "outputs": [],
   "source": []
  }
 ],
 "metadata": {
  "kernelspec": {
   "display_name": "Python 3",
   "language": "python",
   "name": "python3"
  },
  "language_info": {
   "codemirror_mode": {
    "name": "ipython",
    "version": 3
   },
   "file_extension": ".py",
   "mimetype": "text/x-python",
   "name": "python",
   "nbconvert_exporter": "python",
   "pygments_lexer": "ipython3",
   "version": "3.8.5"
  }
 },
 "nbformat": 4,
 "nbformat_minor": 4
}
