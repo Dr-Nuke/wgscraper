{
 "cells": [
  {
   "cell_type": "code",
   "execution_count": 5,
   "metadata": {
    "execution": {
     "iopub.execute_input": "2020-10-18T13:22:36.967016Z",
     "iopub.status.busy": "2020-10-18T13:22:36.967016Z",
     "iopub.status.idle": "2020-10-18T13:22:36.973980Z",
     "shell.execute_reply": "2020-10-18T13:22:36.972979Z",
     "shell.execute_reply.started": "2020-10-18T13:22:36.967016Z"
    }
   },
   "outputs": [],
   "source": [
    "import pandas as pd\n",
    "from bs4 import BeautifulSoup\n",
    "import requests\n",
    "import re\n",
    "from pathlib import Path\n",
    "from selenium import webdriver\n",
    "import datetime\n",
    "from loguru import logger\n",
    "import datetime\n",
    "import time\n",
    "import random\n",
    "import matplotlib.pyplot as plt\n",
    "import numpy as np\n",
    "import os"
   ]
  },
  {
   "cell_type": "code",
   "execution_count": 54,
   "metadata": {},
   "outputs": [
    {
     "name": "stdout",
     "output_type": "stream",
     "text": [
      "mystart\n"
     ]
    }
   ],
   "source": [
    "# a logging support time difference class\n",
    "class logtimediff():\n",
    "    \n",
    "    def __init__(self,name=None):\n",
    "        self.start=datetime.datetime.now()\n",
    "        self.reference={}\n",
    "        if name is not None:\n",
    "            self.ref(name)\n",
    "#             print(name)\n",
    "\n",
    "        \n",
    "#     def diff(self):\n",
    "#         name=None\n",
    "#         if name is not None:\n",
    "#             return datetime.datetime.now() - self.ref['name']\n",
    "#         else:\n",
    "#             return datetime.datetime.now() - self.start\n",
    "        \n",
    "    \n",
    "    def ref(self,name=None):\n",
    "        if name is not None:\n",
    "            print(name)\n",
    "            self.reference[name]=datetime.datetime.now()\n",
    "        \n",
    "        \n",
    "a=logtimediff('mystart')\n",
    "# a"
   ]
  },
  {
   "cell_type": "code",
   "execution_count": 10,
   "metadata": {
    "execution": {
     "iopub.execute_input": "2020-10-18T16:55:51.438452Z",
     "iopub.status.busy": "2020-10-18T16:55:51.435454Z",
     "iopub.status.idle": "2020-10-18T16:56:03.330452Z",
     "shell.execute_reply": "2020-10-18T16:56:03.329452Z",
     "shell.execute_reply.started": "2020-10-18T16:55:51.438452Z"
    }
   },
   "outputs": [
    {
     "name": "stderr",
     "output_type": "stream",
     "text": [
      "2020-10-18 18:55:51.448 | INFO     | __main__:<module>:6 - starting scraping\n"
     ]
    }
   ],
   "source": [
    "home_url='https://www.ronorp.net/zuerich/immobilien/wg-zuerich.1220/wunderschoenes-co-living-haus-mit-38-suiten-in-kloten.2042131?&back_url=%2Fzuerich%2Fimmobilien%2Fwg-zuerich.1220%3Fs%3D1'\n",
    "home_url='https://www.ronorp.net/zuerich/immobilien/wg-zuerich.1220'\n",
    "#          'https://www.ronorp.net/zuerich/immobilien/wg-zuerich.1220/wunderschoenes-co-living-haus-mit-38-suiten-in-kloten.2042131?&back_url=%2Fzuerich%2Fimmobilien%2Fwg-zuerich.1220%3Fs%3D1'\n",
    "#     'https://www.ronorp.net/zuerich/immobilien/wg-zuerich.1220/cozy-studio-near-schmiede-wiedikon-1405chf-month.2072688?&back_url=%2Fzuerich%2Fimmobilien%2Fwg-zuerich.1220%3Fs%3D1\n",
    "\n",
    "logger.info('starting scraping')\n",
    "driver = webdriver.Firefox(executable_path=Path(r'C:\\Users\\Bo-user\\Downloads\\geckodriver-v0.27.0-win64') / 'geckodriver.exe')\n",
    "driver.get(home_url)\n",
    "previews=[]\n",
    "content = driver.page_source # this is one big string of webpage html\n",
    "# soup = BeautifulSoup(content)\n",
    "# logger.info('soup made')\n"
   ]
  },
  {
   "cell_type": "code",
   "execution_count": 35,
   "metadata": {
    "execution": {
     "iopub.execute_input": "2020-10-18T17:39:43.627923Z",
     "iopub.status.busy": "2020-10-18T17:39:43.626923Z",
     "iopub.status.idle": "2020-10-18T17:39:43.633924Z",
     "shell.execute_reply": "2020-10-18T17:39:43.632952Z",
     "shell.execute_reply.started": "2020-10-18T17:39:43.627923Z"
    }
   },
   "outputs": [],
   "source": [
    "a='testfile.deleteme'\n",
    "b='bnlubb'\n",
    "with open(a,'w') as f:\n",
    "    f.write(b)\n",
    "    "
   ]
  },
  {
   "cell_type": "code",
   "execution_count": 36,
   "metadata": {
    "execution": {
     "iopub.execute_input": "2020-10-18T17:39:52.619923Z",
     "iopub.status.busy": "2020-10-18T17:39:52.619923Z",
     "iopub.status.idle": "2020-10-18T17:39:52.626959Z",
     "shell.execute_reply": "2020-10-18T17:39:52.625949Z",
     "shell.execute_reply.started": "2020-10-18T17:39:52.619923Z"
    }
   },
   "outputs": [
    {
     "data": {
      "text/plain": [
       "True"
      ]
     },
     "execution_count": 36,
     "metadata": {},
     "output_type": "execute_result"
    }
   ],
   "source": [
    "os.path.isfile(a)"
   ]
  },
  {
   "cell_type": "code",
   "execution_count": 38,
   "metadata": {
    "execution": {
     "iopub.execute_input": "2020-10-18T17:40:49.046949Z",
     "iopub.status.busy": "2020-10-18T17:40:49.046949Z",
     "iopub.status.idle": "2020-10-18T17:40:49.053923Z",
     "shell.execute_reply": "2020-10-18T17:40:49.052923Z",
     "shell.execute_reply.started": "2020-10-18T17:40:49.046949Z"
    }
   },
   "outputs": [
    {
     "data": {
      "text/plain": [
       "float"
      ]
     },
     "execution_count": 38,
     "metadata": {},
     "output_type": "execute_result"
    }
   ],
   "source": [
    "os.stat(a).st_mtime"
   ]
  },
  {
   "cell_type": "code",
   "execution_count": 41,
   "metadata": {
    "execution": {
     "iopub.execute_input": "2020-10-18T17:43:33.599925Z",
     "iopub.status.busy": "2020-10-18T17:43:33.599925Z",
     "iopub.status.idle": "2020-10-18T17:43:33.604923Z",
     "shell.execute_reply": "2020-10-18T17:43:33.603924Z",
     "shell.execute_reply.started": "2020-10-18T17:43:33.599925Z"
    }
   },
   "outputs": [],
   "source": [
    "b=datetime.datetime.fromtimestamp(os.stat(a).st_mtime)\n",
    "a=datetime.datetime.now()"
   ]
  },
  {
   "cell_type": "code",
   "execution_count": 44,
   "metadata": {
    "execution": {
     "iopub.execute_input": "2020-10-18T17:44:29.469937Z",
     "iopub.status.busy": "2020-10-18T17:44:29.469937Z",
     "iopub.status.idle": "2020-10-18T17:44:29.477938Z",
     "shell.execute_reply": "2020-10-18T17:44:29.476936Z",
     "shell.execute_reply.started": "2020-10-18T17:44:29.469937Z"
    }
   },
   "outputs": [
    {
     "data": {
      "text/plain": [
       "0.0636111111111111"
      ]
     },
     "execution_count": 44,
     "metadata": {},
     "output_type": "execute_result"
    }
   ],
   "source": [
    "def time_difference(start,end):\n",
    "    diff = (end - start)\n",
    "    return diff.seconds\n",
    "\n"
   ]
  },
  {
   "cell_type": "code",
   "execution_count": null,
   "metadata": {},
   "outputs": [],
   "source": []
  }
 ],
 "metadata": {
  "kernelspec": {
   "display_name": "Python 3",
   "language": "python",
   "name": "python3"
  },
  "language_info": {
   "codemirror_mode": {
    "name": "ipython",
    "version": 3
   },
   "file_extension": ".py",
   "mimetype": "text/x-python",
   "name": "python",
   "nbconvert_exporter": "python",
   "pygments_lexer": "ipython3",
   "version": "3.8.5"
  }
 },
 "nbformat": 4,
 "nbformat_minor": 4
}
