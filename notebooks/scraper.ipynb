{
 "cells": [
  {
   "cell_type": "code",
   "execution_count": 1,
   "metadata": {},
   "outputs": [],
   "source": [
    "import pandas as pd\n",
    "from bs4 import BeautifulSoup\n",
    "import requests\n",
    "import re\n",
    "from pathlib import Path\n",
    "from selenium import webdriver\n",
    "import datetime\n",
    "from loguru import logger\n",
    "import datetime\n",
    "import time\n",
    "import random\n",
    "import matplotlib.pyplot as plt\n",
    "import numpy as np\n",
    "import os\n",
    "from loguru import logger"
   ]
  },
  {
   "cell_type": "code",
   "execution_count": 54,
   "metadata": {},
   "outputs": [
    {
     "name": "stdout",
     "output_type": "stream",
     "text": [
      "mystart\n"
     ]
    }
   ],
   "source": [
    "# a logging support time difference class\n",
    "class logtimediff():\n",
    "    \n",
    "    def __init__(self,name=None):\n",
    "        self.start=datetime.datetime.now()\n",
    "        self.reference={}\n",
    "        if name is not None:\n",
    "            self.ref(name)\n",
    "#             print(name)\n",
    "\n",
    "        \n",
    "#     def diff(self):\n",
    "#         name=None\n",
    "#         if name is not None:\n",
    "#             return datetime.datetime.now() - self.ref['name']\n",
    "#         else:\n",
    "#             return datetime.datetime.now() - self.start\n",
    "        \n",
    "    \n",
    "    def ref(self,name=None):\n",
    "        if name is not None:\n",
    "            print(name)\n",
    "            self.reference[name]=datetime.datetime.now()\n",
    "        \n",
    "        \n",
    "a=logtimediff('mystart')\n",
    "# a"
   ]
  },
  {
   "cell_type": "code",
   "execution_count": 81,
   "metadata": {
    "execution": {
     "iopub.execute_input": "2020-10-18T21:10:04.026234Z",
     "iopub.status.busy": "2020-10-18T21:10:04.026234Z",
     "iopub.status.idle": "2020-10-18T21:10:40.629234Z",
     "shell.execute_reply": "2020-10-18T21:10:40.628232Z",
     "shell.execute_reply.started": "2020-10-18T21:10:04.026234Z"
    }
   },
   "outputs": [
    {
     "name": "stderr",
     "output_type": "stream",
     "text": [
      "2020-10-18 23:10:04.031 | INFO     | __main__:<module>:6 - starting scraping\n",
      "2020-10-18 23:10:14.694 | INFO     | __main__:<module>:17 - 0 1\n",
      "2020-10-18 23:10:15.477 | INFO     | __main__:<module>:20 - 0 2\n",
      "2020-10-18 23:10:18.500 | INFO     | __main__:<module>:17 - 1 1\n",
      "2020-10-18 23:10:19.195 | INFO     | __main__:<module>:20 - 1 2\n",
      "2020-10-18 23:10:23.600 | INFO     | __main__:<module>:17 - 2 1\n",
      "2020-10-18 23:10:24.284 | INFO     | __main__:<module>:20 - 2 2\n",
      "2020-10-18 23:10:27.775 | INFO     | __main__:<module>:17 - 3 1\n",
      "2020-10-18 23:10:28.528 | INFO     | __main__:<module>:20 - 3 2\n",
      "2020-10-18 23:10:33.334 | INFO     | __main__:<module>:17 - 4 1\n",
      "2020-10-18 23:10:34.073 | INFO     | __main__:<module>:20 - 4 2\n",
      "2020-10-18 23:10:39.011 | INFO     | __main__:<module>:17 - 5 1\n",
      "2020-10-18 23:10:39.911 | INFO     | __main__:<module>:20 - 5 2\n",
      "2020-10-18 23:10:40.624 | INFO     | __main__:<module>:26 - soup made\n"
     ]
    }
   ],
   "source": [
    "home_url='https://www.ronorp.net/zuerich/immobilien/wg-zuerich.1220/wunderschoenes-co-living-haus-mit-38-suiten-in-kloten.2042131?&back_url=%2Fzuerich%2Fimmobilien%2Fwg-zuerich.1220%3Fs%3D1'\n",
    "home_url='https://www.ronorp.net/zuerich/immobilien/wg-zuerich.1220'\n",
    "#          'https://www.ronorp.net/zuerich/immobilien/wg-zuerich.1220/wunderschoenes-co-living-haus-mit-38-suiten-in-kloten.2042131?&back_url=%2Fzuerich%2Fimmobilien%2Fwg-zuerich.1220%3Fs%3D1'\n",
    "#     'https://www.ronorp.net/zuerich/immobilien/wg-zuerich.1220/cozy-studio-near-schmiede-wiedikon-1405chf-month.2072688?&back_url=%2Fzuerich%2Fimmobilien%2Fwg-zuerich.1220%3Fs%3D1\n",
    "\n",
    "logger.info('starting scraping')\n",
    "driver = webdriver.Firefox(executable_path=Path(r'C:\\Users\\Bo-user\\Downloads\\geckodriver-v0.27.0-win64') / 'geckodriver.exe')\n",
    "driver.get(home_url)\n",
    "previews=[]\n",
    "maxiter = 10\n",
    "last=0\n",
    "for i in range(maxiter):\n",
    "    # iterate the scrolldown move until we found the buton to the next index page\n",
    "    last= wait_minimum(abs(random.gauss(1, 1)) + 3,last)\n",
    "   \n",
    "    driver.execute_script(\"window.scrollTo(0,document.body.scrollHeight)\")\n",
    "    logger.info(f'{i} 1')\n",
    "    content = driver.page_source # this is one big string of webpage html\n",
    "    soup = BeautifulSoup(content)\n",
    "    logger.info(f'{i} 2')\n",
    "    goal = soup.find('a',attrs={'class': 'pages_links_href pages_arrow'})\n",
    "    if goal:\n",
    "        break\n",
    "content = driver.page_source # this is one big string of webpage html\n",
    "soup = BeautifulSoup(content)\n",
    "logger.info('soup made')\n"
   ]
  },
  {
   "cell_type": "code",
   "execution_count": 64,
   "metadata": {
    "execution": {
     "iopub.execute_input": "2020-10-18T20:57:39.938118Z",
     "iopub.status.busy": "2020-10-18T20:57:39.937118Z",
     "iopub.status.idle": "2020-10-18T20:57:40.947119Z",
     "shell.execute_reply": "2020-10-18T20:57:40.945134Z",
     "shell.execute_reply.started": "2020-10-18T20:57:39.937118Z"
    }
   },
   "outputs": [
    {
     "data": {
      "text/plain": [
       "1.0000061988830566"
      ]
     },
     "execution_count": 64,
     "metadata": {},
     "output_type": "execute_result"
    }
   ],
   "source": [
    "import time\n",
    "a= time.time()\n",
    "time.sleep(1)\n",
    "b= time.time()\n",
    "b-a"
   ]
  },
  {
   "cell_type": "code",
   "execution_count": 78,
   "metadata": {
    "execution": {
     "iopub.execute_input": "2020-10-18T21:07:49.476236Z",
     "iopub.status.busy": "2020-10-18T21:07:49.475235Z",
     "iopub.status.idle": "2020-10-18T21:07:51.489270Z",
     "shell.execute_reply": "2020-10-18T21:07:51.487266Z",
     "shell.execute_reply.started": "2020-10-18T21:07:49.476236Z"
    }
   },
   "outputs": [
    {
     "name": "stdout",
     "output_type": "stream",
     "text": [
      "1603055269.479236\n"
     ]
    },
    {
     "data": {
      "text/plain": [
       "1603055271.480111"
      ]
     },
     "execution_count": 78,
     "metadata": {},
     "output_type": "execute_result"
    }
   ],
   "source": [
    "def wait_minimum(f=0,last=None,):\n",
    "    if last:\n",
    "        now = time.time()\n",
    "        sleeptime = max(f -(now-last),0)\n",
    "        time.sleep(sleeptime)\n",
    "    return  time.time()\n",
    "    \n",
    "    \n",
    "    \n",
    "last = wait_minimum()\n",
    "print(last)\n",
    "time.sleep(2)\n",
    "wait_minimum(1,last)"
   ]
  },
  {
   "cell_type": "code",
   "execution_count": 83,
   "metadata": {
    "execution": {
     "iopub.execute_input": "2020-10-18T21:30:58.736635Z",
     "iopub.status.busy": "2020-10-18T21:30:58.736635Z",
     "iopub.status.idle": "2020-10-18T21:30:58.752637Z",
     "shell.execute_reply": "2020-10-18T21:30:58.751635Z",
     "shell.execute_reply.started": "2020-10-18T21:30:58.736635Z"
    }
   },
   "outputs": [
    {
     "ename": "ValueError",
     "evalue": "year 0 is out of range",
     "output_type": "error",
     "traceback": [
      "\u001b[1;31m---------------------------------------------------------------------------\u001b[0m",
      "\u001b[1;31mValueError\u001b[0m                                Traceback (most recent call last)",
      "\u001b[1;32m<ipython-input-83-2fa21fb5bf9e>\u001b[0m in \u001b[0;36m<module>\u001b[1;34m\u001b[0m\n\u001b[1;32m----> 1\u001b[1;33m \u001b[0mdatetime\u001b[0m\u001b[1;33m.\u001b[0m\u001b[0mdatetime\u001b[0m\u001b[1;33m(\u001b[0m\u001b[1;36m0\u001b[0m\u001b[1;33m,\u001b[0m\u001b[1;36m0\u001b[0m\u001b[1;33m,\u001b[0m\u001b[1;36m0\u001b[0m\u001b[1;33m,\u001b[0m\u001b[1;36m0\u001b[0m\u001b[1;33m,\u001b[0m\u001b[1;36m0\u001b[0m\u001b[1;33m,\u001b[0m\u001b[1;36m0\u001b[0m\u001b[1;33m)\u001b[0m\u001b[1;33m\u001b[0m\u001b[1;33m\u001b[0m\u001b[0m\n\u001b[0m",
      "\u001b[1;31mValueError\u001b[0m: year 0 is out of range"
     ]
    }
   ],
   "source": [
    "datetime.datetime(0,0,0,0,0,0)"
   ]
  },
  {
   "cell_type": "code",
   "execution_count": 87,
   "metadata": {
    "execution": {
     "iopub.execute_input": "2020-10-18T21:54:37.113065Z",
     "iopub.status.busy": "2020-10-18T21:54:37.112063Z",
     "iopub.status.idle": "2020-10-18T21:54:37.184066Z",
     "shell.execute_reply": "2020-10-18T21:54:37.184066Z",
     "shell.execute_reply.started": "2020-10-18T21:54:37.113065Z"
    }
   },
   "outputs": [
    {
     "data": {
      "text/plain": [
       "[<a class=\"pages_links_href pages_arrow\" data-category=\"Pager\" data-label=\"Bottom\" data-value=\"7\" href=\"/zuerich/immobilien/wg-zuerich.1220?sort=created&amp;page=7&amp;hash=8066eefae06f4ebdde76511cbb811cdf\" onclick=\"tracked_event_handler.call(this, {type:'next'});\" rel=\"next\" title=\"Weiter\">&gt;</a>]"
      ]
     },
     "execution_count": 87,
     "metadata": {},
     "output_type": "execute_result"
    }
   ],
   "source": [
    "[element for element in soup.find_all('a',attrs={'class': 'pages_links_href pages_arrow'}) if element['title'] =='Weiter']\n"
   ]
  },
  {
   "cell_type": "code",
   "execution_count": 82,
   "metadata": {
    "execution": {
     "iopub.execute_input": "2020-10-18T21:26:03.593044Z",
     "iopub.status.busy": "2020-10-18T21:26:03.593044Z",
     "iopub.status.idle": "2020-10-18T21:26:03.657049Z",
     "shell.execute_reply": "2020-10-18T21:26:03.656044Z",
     "shell.execute_reply.started": "2020-10-18T21:26:03.593044Z"
    }
   },
   "outputs": [
    {
     "data": {
      "text/plain": [
       "'www.ronorp.net/zuerich/immobilien/wg-zuerich.1220?sort=created&page=5&hash=8066eefae06f4ebdde76511cbb811cdf'"
      ]
     },
     "execution_count": 82,
     "metadata": {},
     "output_type": "execute_result"
    }
   ],
   "source": [
    "from urllib.parse import urlparse\n",
    "urlparse(home_url).netloc+soup.find('a',attrs={'class': 'pages_links_href pages_arrow'})['href']\n"
   ]
  },
  {
   "cell_type": "code",
   "execution_count": 41,
   "metadata": {
    "execution": {
     "iopub.execute_input": "2020-10-18T17:43:33.599925Z",
     "iopub.status.busy": "2020-10-18T17:43:33.599925Z",
     "iopub.status.idle": "2020-10-18T17:43:33.604923Z",
     "shell.execute_reply": "2020-10-18T17:43:33.603924Z",
     "shell.execute_reply.started": "2020-10-18T17:43:33.599925Z"
    }
   },
   "outputs": [],
   "source": [
    "b=datetime.datetime.fromtimestamp(os.stat(a).st_mtime)\n",
    "a=datetime.datetime.now()"
   ]
  },
  {
   "cell_type": "code",
   "execution_count": 44,
   "metadata": {
    "execution": {
     "iopub.execute_input": "2020-10-18T17:44:29.469937Z",
     "iopub.status.busy": "2020-10-18T17:44:29.469937Z",
     "iopub.status.idle": "2020-10-18T17:44:29.477938Z",
     "shell.execute_reply": "2020-10-18T17:44:29.476936Z",
     "shell.execute_reply.started": "2020-10-18T17:44:29.469937Z"
    }
   },
   "outputs": [
    {
     "data": {
      "text/plain": [
       "0.0636111111111111"
      ]
     },
     "execution_count": 44,
     "metadata": {},
     "output_type": "execute_result"
    }
   ],
   "source": [
    "def time_difference(start,end):\n",
    "    diff = (end - start)\n",
    "    return diff.seconds\n",
    "\n"
   ]
  },
  {
   "cell_type": "code",
   "execution_count": 5,
   "metadata": {},
   "outputs": [
    {
     "data": {
      "text/plain": [
       "array([[0.73894443, 0.4805539 , 0.3970481 , 0.21233343, 0.72104877],\n",
       "       [0.20293738, 0.23233509, 0.21945163, 0.99453118, 0.51079273],\n",
       "       [0.87874704, 0.65045306, 0.81190077, 0.95994057, 0.76553608]])"
      ]
     },
     "execution_count": 5,
     "metadata": {},
     "output_type": "execute_result"
    }
   ],
   "source": [
    "a=np.array([np.random.random(5) for i in range(3)])\n",
    "a"
   ]
  },
  {
   "cell_type": "code",
   "execution_count": 6,
   "metadata": {},
   "outputs": [
    {
     "data": {
      "text/html": [
       "<div>\n",
       "<style scoped>\n",
       "    .dataframe tbody tr th:only-of-type {\n",
       "        vertical-align: middle;\n",
       "    }\n",
       "\n",
       "    .dataframe tbody tr th {\n",
       "        vertical-align: top;\n",
       "    }\n",
       "\n",
       "    .dataframe thead th {\n",
       "        text-align: right;\n",
       "    }\n",
       "</style>\n",
       "<table border=\"1\" class=\"dataframe\">\n",
       "  <thead>\n",
       "    <tr style=\"text-align: right;\">\n",
       "      <th></th>\n",
       "      <th>0</th>\n",
       "      <th>1</th>\n",
       "      <th>2</th>\n",
       "      <th>3</th>\n",
       "      <th>4</th>\n",
       "    </tr>\n",
       "  </thead>\n",
       "  <tbody>\n",
       "    <tr>\n",
       "      <th>0</th>\n",
       "      <td>0.738944</td>\n",
       "      <td>0.480554</td>\n",
       "      <td>0.397048</td>\n",
       "      <td>0.212333</td>\n",
       "      <td>0.721049</td>\n",
       "    </tr>\n",
       "    <tr>\n",
       "      <th>1</th>\n",
       "      <td>0.202937</td>\n",
       "      <td>0.232335</td>\n",
       "      <td>0.219452</td>\n",
       "      <td>0.994531</td>\n",
       "      <td>0.510793</td>\n",
       "    </tr>\n",
       "    <tr>\n",
       "      <th>2</th>\n",
       "      <td>0.878747</td>\n",
       "      <td>0.650453</td>\n",
       "      <td>0.811901</td>\n",
       "      <td>0.959941</td>\n",
       "      <td>0.765536</td>\n",
       "    </tr>\n",
       "  </tbody>\n",
       "</table>\n",
       "</div>"
      ],
      "text/plain": [
       "          0         1         2         3         4\n",
       "0  0.738944  0.480554  0.397048  0.212333  0.721049\n",
       "1  0.202937  0.232335  0.219452  0.994531  0.510793\n",
       "2  0.878747  0.650453  0.811901  0.959941  0.765536"
      ]
     },
     "execution_count": 6,
     "metadata": {},
     "output_type": "execute_result"
    }
   ],
   "source": [
    "pd.DataFrame(a)"
   ]
  },
  {
   "cell_type": "code",
   "execution_count": null,
   "metadata": {},
   "outputs": [],
   "source": []
  }
 ],
 "metadata": {
  "kernelspec": {
   "display_name": "Python 3",
   "language": "python",
   "name": "python3"
  },
  "language_info": {
   "codemirror_mode": {
    "name": "ipython",
    "version": 3
   },
   "file_extension": ".py",
   "mimetype": "text/x-python",
   "name": "python",
   "nbconvert_exporter": "python",
   "pygments_lexer": "ipython3",
   "version": "3.8.5"
  }
 },
 "nbformat": 4,
 "nbformat_minor": 4
}
