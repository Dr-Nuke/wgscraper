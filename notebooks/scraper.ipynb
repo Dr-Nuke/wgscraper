{
 "cells": [
  {
   "cell_type": "code",
   "execution_count": 1,
   "metadata": {},
   "outputs": [],
   "source": [
    "import pandas as pd\n",
    "from bs4 import BeautifulSoup\n",
    "import requests\n",
    "import re\n",
    "from pathlib import Path\n",
    "from selenium import webdriver\n",
    "import datetime\n",
    "from loguru import logger\n",
    "import datetime\n",
    "import time\n",
    "import random\n",
    "import matplotlib.pyplot as plt\n",
    "import numpy as np\n",
    "import os\n",
    "from loguru import logger"
   ]
  },
  {
   "cell_type": "code",
   "execution_count": 54,
   "metadata": {},
   "outputs": [
    {
     "name": "stdout",
     "output_type": "stream",
     "text": [
      "mystart\n"
     ]
    }
   ],
   "source": [
    "# a logging support time difference class\n",
    "class logtimediff():\n",
    "    \n",
    "    def __init__(self,name=None):\n",
    "        self.start=datetime.datetime.now()\n",
    "        self.reference={}\n",
    "        if name is not None:\n",
    "            self.ref(name)\n",
    "#             print(name)\n",
    "\n",
    "        \n",
    "#     def diff(self):\n",
    "#         name=None\n",
    "#         if name is not None:\n",
    "#             return datetime.datetime.now() - self.ref['name']\n",
    "#         else:\n",
    "#             return datetime.datetime.now() - self.start\n",
    "        \n",
    "    \n",
    "    def ref(self,name=None):\n",
    "        if name is not None:\n",
    "            print(name)\n",
    "            self.reference[name]=datetime.datetime.now()\n",
    "        \n",
    "        \n",
    "a=logtimediff('mystart')\n",
    "# a"
   ]
  },
  {
   "cell_type": "code",
   "execution_count": 81,
   "metadata": {
    "execution": {
     "iopub.execute_input": "2020-10-18T21:10:04.026234Z",
     "iopub.status.busy": "2020-10-18T21:10:04.026234Z",
     "iopub.status.idle": "2020-10-18T21:10:40.629234Z",
     "shell.execute_reply": "2020-10-18T21:10:40.628232Z",
     "shell.execute_reply.started": "2020-10-18T21:10:04.026234Z"
    }
   },
   "outputs": [
    {
     "name": "stderr",
     "output_type": "stream",
     "text": [
      "2020-10-18 23:10:04.031 | INFO     | __main__:<module>:6 - starting scraping\n",
      "2020-10-18 23:10:14.694 | INFO     | __main__:<module>:17 - 0 1\n",
      "2020-10-18 23:10:15.477 | INFO     | __main__:<module>:20 - 0 2\n",
      "2020-10-18 23:10:18.500 | INFO     | __main__:<module>:17 - 1 1\n",
      "2020-10-18 23:10:19.195 | INFO     | __main__:<module>:20 - 1 2\n",
      "2020-10-18 23:10:23.600 | INFO     | __main__:<module>:17 - 2 1\n",
      "2020-10-18 23:10:24.284 | INFO     | __main__:<module>:20 - 2 2\n",
      "2020-10-18 23:10:27.775 | INFO     | __main__:<module>:17 - 3 1\n",
      "2020-10-18 23:10:28.528 | INFO     | __main__:<module>:20 - 3 2\n",
      "2020-10-18 23:10:33.334 | INFO     | __main__:<module>:17 - 4 1\n",
      "2020-10-18 23:10:34.073 | INFO     | __main__:<module>:20 - 4 2\n",
      "2020-10-18 23:10:39.011 | INFO     | __main__:<module>:17 - 5 1\n",
      "2020-10-18 23:10:39.911 | INFO     | __main__:<module>:20 - 5 2\n",
      "2020-10-18 23:10:40.624 | INFO     | __main__:<module>:26 - soup made\n"
     ]
    }
   ],
   "source": [
    "home_url='https://www.ronorp.net/zuerich/immobilien/wg-zuerich.1220/wunderschoenes-co-living-haus-mit-38-suiten-in-kloten.2042131?&back_url=%2Fzuerich%2Fimmobilien%2Fwg-zuerich.1220%3Fs%3D1'\n",
    "home_url='https://www.ronorp.net/zuerich/immobilien/wg-zuerich.1220'\n",
    "#          'https://www.ronorp.net/zuerich/immobilien/wg-zuerich.1220/wunderschoenes-co-living-haus-mit-38-suiten-in-kloten.2042131?&back_url=%2Fzuerich%2Fimmobilien%2Fwg-zuerich.1220%3Fs%3D1'\n",
    "#     'https://www.ronorp.net/zuerich/immobilien/wg-zuerich.1220/cozy-studio-near-schmiede-wiedikon-1405chf-month.2072688?&back_url=%2Fzuerich%2Fimmobilien%2Fwg-zuerich.1220%3Fs%3D1\n",
    "\n",
    "logger.info('starting scraping')\n",
    "driver = webdriver.Firefox(executable_path=Path(r'C:\\Users\\Bo-user\\Downloads\\geckodriver-v0.27.0-win64') / 'geckodriver.exe')\n",
    "driver.get(home_url)\n",
    "previews=[]\n",
    "maxiter = 10\n",
    "last=0\n",
    "for i in range(maxiter):\n",
    "    # iterate the scrolldown move until we found the buton to the next index page\n",
    "    last= wait_minimum(abs(random.gauss(1, 1)) + 3,last)\n",
    "   \n",
    "    driver.execute_script(\"window.scrollTo(0,document.body.scrollHeight)\")\n",
    "    logger.info(f'{i} 1')\n",
    "    content = driver.page_source # this is one big string of webpage html\n",
    "    soup = BeautifulSoup(content)\n",
    "    logger.info(f'{i} 2')\n",
    "    goal = soup.find('a',attrs={'class': 'pages_links_href pages_arrow'})\n",
    "    if goal:\n",
    "        break\n",
    "content = driver.page_source # this is one big string of webpage html\n",
    "soup = BeautifulSoup(content)\n",
    "logger.info('soup made')\n"
   ]
  },
  {
   "cell_type": "code",
   "execution_count": 64,
   "metadata": {
    "execution": {
     "iopub.execute_input": "2020-10-18T20:57:39.938118Z",
     "iopub.status.busy": "2020-10-18T20:57:39.937118Z",
     "iopub.status.idle": "2020-10-18T20:57:40.947119Z",
     "shell.execute_reply": "2020-10-18T20:57:40.945134Z",
     "shell.execute_reply.started": "2020-10-18T20:57:39.937118Z"
    }
   },
   "outputs": [
    {
     "data": {
      "text/plain": [
       "1.0000061988830566"
      ]
     },
     "execution_count": 64,
     "metadata": {},
     "output_type": "execute_result"
    }
   ],
   "source": [
    "import time\n",
    "a= time.time()\n",
    "time.sleep(1)\n",
    "b= time.time()\n",
    "b-a"
   ]
  },
  {
   "cell_type": "code",
   "execution_count": 78,
   "metadata": {
    "execution": {
     "iopub.execute_input": "2020-10-18T21:07:49.476236Z",
     "iopub.status.busy": "2020-10-18T21:07:49.475235Z",
     "iopub.status.idle": "2020-10-18T21:07:51.489270Z",
     "shell.execute_reply": "2020-10-18T21:07:51.487266Z",
     "shell.execute_reply.started": "2020-10-18T21:07:49.476236Z"
    }
   },
   "outputs": [
    {
     "name": "stdout",
     "output_type": "stream",
     "text": [
      "1603055269.479236\n"
     ]
    },
    {
     "data": {
      "text/plain": [
       "1603055271.480111"
      ]
     },
     "execution_count": 78,
     "metadata": {},
     "output_type": "execute_result"
    }
   ],
   "source": [
    "def wait_minimum(f=0,last=None,):\n",
    "    if last:\n",
    "        now = time.time()\n",
    "        sleeptime = max(f -(now-last),0)\n",
    "        time.sleep(sleeptime)\n",
    "    return  time.time()\n",
    "    \n",
    "    \n",
    "    \n",
    "last = wait_minimum()\n",
    "print(last)\n",
    "time.sleep(2)\n",
    "wait_minimum(1,last)"
   ]
  },
  {
   "cell_type": "code",
   "execution_count": 83,
   "metadata": {
    "execution": {
     "iopub.execute_input": "2020-10-18T21:30:58.736635Z",
     "iopub.status.busy": "2020-10-18T21:30:58.736635Z",
     "iopub.status.idle": "2020-10-18T21:30:58.752637Z",
     "shell.execute_reply": "2020-10-18T21:30:58.751635Z",
     "shell.execute_reply.started": "2020-10-18T21:30:58.736635Z"
    }
   },
   "outputs": [
    {
     "ename": "ValueError",
     "evalue": "year 0 is out of range",
     "output_type": "error",
     "traceback": [
      "\u001b[1;31m---------------------------------------------------------------------------\u001b[0m",
      "\u001b[1;31mValueError\u001b[0m                                Traceback (most recent call last)",
      "\u001b[1;32m<ipython-input-83-2fa21fb5bf9e>\u001b[0m in \u001b[0;36m<module>\u001b[1;34m\u001b[0m\n\u001b[1;32m----> 1\u001b[1;33m \u001b[0mdatetime\u001b[0m\u001b[1;33m.\u001b[0m\u001b[0mdatetime\u001b[0m\u001b[1;33m(\u001b[0m\u001b[1;36m0\u001b[0m\u001b[1;33m,\u001b[0m\u001b[1;36m0\u001b[0m\u001b[1;33m,\u001b[0m\u001b[1;36m0\u001b[0m\u001b[1;33m,\u001b[0m\u001b[1;36m0\u001b[0m\u001b[1;33m,\u001b[0m\u001b[1;36m0\u001b[0m\u001b[1;33m,\u001b[0m\u001b[1;36m0\u001b[0m\u001b[1;33m)\u001b[0m\u001b[1;33m\u001b[0m\u001b[1;33m\u001b[0m\u001b[0m\n\u001b[0m",
      "\u001b[1;31mValueError\u001b[0m: year 0 is out of range"
     ]
    }
   ],
   "source": [
    "datetime.datetime(0,0,0,0,0,0)"
   ]
  },
  {
   "cell_type": "code",
   "execution_count": 87,
   "metadata": {
    "execution": {
     "iopub.execute_input": "2020-10-18T21:54:37.113065Z",
     "iopub.status.busy": "2020-10-18T21:54:37.112063Z",
     "iopub.status.idle": "2020-10-18T21:54:37.184066Z",
     "shell.execute_reply": "2020-10-18T21:54:37.184066Z",
     "shell.execute_reply.started": "2020-10-18T21:54:37.113065Z"
    }
   },
   "outputs": [
    {
     "data": {
      "text/plain": [
       "[<a class=\"pages_links_href pages_arrow\" data-category=\"Pager\" data-label=\"Bottom\" data-value=\"7\" href=\"/zuerich/immobilien/wg-zuerich.1220?sort=created&amp;page=7&amp;hash=8066eefae06f4ebdde76511cbb811cdf\" onclick=\"tracked_event_handler.call(this, {type:'next'});\" rel=\"next\" title=\"Weiter\">&gt;</a>]"
      ]
     },
     "execution_count": 87,
     "metadata": {},
     "output_type": "execute_result"
    }
   ],
   "source": [
    "[element for element in soup.find_all('a',attrs={'class': 'pages_links_href pages_arrow'}) if element['title'] =='Weiter']\n"
   ]
  },
  {
   "cell_type": "code",
   "execution_count": 82,
   "metadata": {
    "execution": {
     "iopub.execute_input": "2020-10-18T21:26:03.593044Z",
     "iopub.status.busy": "2020-10-18T21:26:03.593044Z",
     "iopub.status.idle": "2020-10-18T21:26:03.657049Z",
     "shell.execute_reply": "2020-10-18T21:26:03.656044Z",
     "shell.execute_reply.started": "2020-10-18T21:26:03.593044Z"
    }
   },
   "outputs": [
    {
     "data": {
      "text/plain": [
       "'www.ronorp.net/zuerich/immobilien/wg-zuerich.1220?sort=created&page=5&hash=8066eefae06f4ebdde76511cbb811cdf'"
      ]
     },
     "execution_count": 82,
     "metadata": {},
     "output_type": "execute_result"
    }
   ],
   "source": [
    "from urllib.parse import urlparse\n",
    "urlparse(home_url).netloc+soup.find('a',attrs={'class': 'pages_links_href pages_arrow'})['href']\n"
   ]
  },
  {
   "cell_type": "code",
   "execution_count": 41,
   "metadata": {
    "execution": {
     "iopub.execute_input": "2020-10-18T17:43:33.599925Z",
     "iopub.status.busy": "2020-10-18T17:43:33.599925Z",
     "iopub.status.idle": "2020-10-18T17:43:33.604923Z",
     "shell.execute_reply": "2020-10-18T17:43:33.603924Z",
     "shell.execute_reply.started": "2020-10-18T17:43:33.599925Z"
    }
   },
   "outputs": [],
   "source": [
    "b=datetime.datetime.fromtimestamp(os.stat(a).st_mtime)\n",
    "a=datetime.datetime.now()"
   ]
  },
  {
   "cell_type": "code",
   "execution_count": 44,
   "metadata": {
    "execution": {
     "iopub.execute_input": "2020-10-18T17:44:29.469937Z",
     "iopub.status.busy": "2020-10-18T17:44:29.469937Z",
     "iopub.status.idle": "2020-10-18T17:44:29.477938Z",
     "shell.execute_reply": "2020-10-18T17:44:29.476936Z",
     "shell.execute_reply.started": "2020-10-18T17:44:29.469937Z"
    }
   },
   "outputs": [
    {
     "data": {
      "text/plain": [
       "0.0636111111111111"
      ]
     },
     "execution_count": 44,
     "metadata": {},
     "output_type": "execute_result"
    }
   ],
   "source": [
    "def time_difference(start,end):\n",
    "    diff = (end - start)\n",
    "    return diff.seconds\n",
    "\n"
   ]
  },
  {
   "cell_type": "code",
   "execution_count": 5,
   "metadata": {},
   "outputs": [
    {
     "data": {
      "text/plain": [
       "array([[0.73894443, 0.4805539 , 0.3970481 , 0.21233343, 0.72104877],\n",
       "       [0.20293738, 0.23233509, 0.21945163, 0.99453118, 0.51079273],\n",
       "       [0.87874704, 0.65045306, 0.81190077, 0.95994057, 0.76553608]])"
      ]
     },
     "execution_count": 5,
     "metadata": {},
     "output_type": "execute_result"
    }
   ],
   "source": [
    "a=np.array([np.random.random(5) for i in range(3)])\n",
    "a"
   ]
  },
  {
   "cell_type": "code",
   "execution_count": 6,
   "metadata": {},
   "outputs": [
    {
     "data": {
      "text/html": [
       "<div>\n",
       "<style scoped>\n",
       "    .dataframe tbody tr th:only-of-type {\n",
       "        vertical-align: middle;\n",
       "    }\n",
       "\n",
       "    .dataframe tbody tr th {\n",
       "        vertical-align: top;\n",
       "    }\n",
       "\n",
       "    .dataframe thead th {\n",
       "        text-align: right;\n",
       "    }\n",
       "</style>\n",
       "<table border=\"1\" class=\"dataframe\">\n",
       "  <thead>\n",
       "    <tr style=\"text-align: right;\">\n",
       "      <th></th>\n",
       "      <th>0</th>\n",
       "      <th>1</th>\n",
       "      <th>2</th>\n",
       "      <th>3</th>\n",
       "      <th>4</th>\n",
       "    </tr>\n",
       "  </thead>\n",
       "  <tbody>\n",
       "    <tr>\n",
       "      <th>0</th>\n",
       "      <td>0.738944</td>\n",
       "      <td>0.480554</td>\n",
       "      <td>0.397048</td>\n",
       "      <td>0.212333</td>\n",
       "      <td>0.721049</td>\n",
       "    </tr>\n",
       "    <tr>\n",
       "      <th>1</th>\n",
       "      <td>0.202937</td>\n",
       "      <td>0.232335</td>\n",
       "      <td>0.219452</td>\n",
       "      <td>0.994531</td>\n",
       "      <td>0.510793</td>\n",
       "    </tr>\n",
       "    <tr>\n",
       "      <th>2</th>\n",
       "      <td>0.878747</td>\n",
       "      <td>0.650453</td>\n",
       "      <td>0.811901</td>\n",
       "      <td>0.959941</td>\n",
       "      <td>0.765536</td>\n",
       "    </tr>\n",
       "  </tbody>\n",
       "</table>\n",
       "</div>"
      ],
      "text/plain": [
       "          0         1         2         3         4\n",
       "0  0.738944  0.480554  0.397048  0.212333  0.721049\n",
       "1  0.202937  0.232335  0.219452  0.994531  0.510793\n",
       "2  0.878747  0.650453  0.811901  0.959941  0.765536"
      ]
     },
     "execution_count": 6,
     "metadata": {},
     "output_type": "execute_result"
    }
   ],
   "source": [
    "pd.DataFrame(a)"
   ]
  },
  {
   "cell_type": "code",
   "execution_count": 18,
   "metadata": {},
   "outputs": [
    {
     "data": {
      "text/html": [
       "<div>\n",
       "<style scoped>\n",
       "    .dataframe tbody tr th:only-of-type {\n",
       "        vertical-align: middle;\n",
       "    }\n",
       "\n",
       "    .dataframe tbody tr th {\n",
       "        vertical-align: top;\n",
       "    }\n",
       "\n",
       "    .dataframe thead th {\n",
       "        text-align: right;\n",
       "    }\n",
       "</style>\n",
       "<table border=\"1\" class=\"dataframe\">\n",
       "  <thead>\n",
       "    <tr style=\"text-align: right;\">\n",
       "      <th></th>\n",
       "      <th>index_url</th>\n",
       "      <th>data-advert-position</th>\n",
       "      <th>class</th>\n",
       "      <th>href</th>\n",
       "      <th>data-attr-href</th>\n",
       "      <th>alt</th>\n",
       "      <th>data-trace</th>\n",
       "      <th>data-category</th>\n",
       "      <th>data-label</th>\n",
       "      <th>data-actions</th>\n",
       "      <th>...</th>\n",
       "      <th>category1</th>\n",
       "      <th>bid_ask</th>\n",
       "      <th>rent_buy</th>\n",
       "      <th>rooms</th>\n",
       "      <th>cost</th>\n",
       "      <th>address</th>\n",
       "      <th>duration</th>\n",
       "      <th>details</th>\n",
       "      <th>text</th>\n",
       "      <th>timestamp</th>\n",
       "    </tr>\n",
       "  </thead>\n",
       "  <tbody>\n",
       "    <tr>\n",
       "      <th>0</th>\n",
       "      <td>https://www.ronorp.net/zuerich/immobilien/wg-z...</td>\n",
       "      <td>2042131_1220_17339d9c5389a0a775dc1d31c96d5c9b</td>\n",
       "      <td>[]</td>\n",
       "      <td>https://www.ronorp.net/zuerich/immobilien/wg-z...</td>\n",
       "      <td>https://www.ronorp.net/zuerich/immobilien/wg-z...</td>\n",
       "      <td>Wunderschönes Co-Living Haus mit 38 Suiten in ...</td>\n",
       "      <td>NaN</td>\n",
       "      <td>ContentList</td>\n",
       "      <td>ContentTitle</td>\n",
       "      <td>click</td>\n",
       "      <td>...</td>\n",
       "      <td>Wohnung / Zimmer</td>\n",
       "      <td>Biete</td>\n",
       "      <td>Mieten</td>\n",
       "      <td>1.0</td>\n",
       "      <td>1'095.00</td>\n",
       "      <td>Marktgasse 19, 8038 Kloten</td>\n",
       "      <td>unbefristet</td>\n",
       "      <td>Biete / Suche / Tausche: Wohnung / Zimmer: Bie...</td>\n",
       "      <td>Ich glaube, dass zusammen einfach schöner ist ...</td>\n",
       "      <td>2020-02-09 10:53:00</td>\n",
       "    </tr>\n",
       "    <tr>\n",
       "      <th>1</th>\n",
       "      <td>https://www.ronorp.net/zuerich/immobilien/wg-z...</td>\n",
       "      <td>2074090_1220_bf9d198c378aaf06153dd1319589670b</td>\n",
       "      <td>[]</td>\n",
       "      <td>https://www.ronorp.net/zuerich/immobilien/wg-z...</td>\n",
       "      <td>https://www.ronorp.net/zuerich/immobilien/wg-z...</td>\n",
       "      <td>WG-Zimmer am Idaplatz bis Ende Juni 2022</td>\n",
       "      <td>NaN</td>\n",
       "      <td>ContentList</td>\n",
       "      <td>ContentTitle</td>\n",
       "      <td>click</td>\n",
       "      <td>...</td>\n",
       "      <td>Wohnung / Zimmer</td>\n",
       "      <td>Biete</td>\n",
       "      <td>Mieten</td>\n",
       "      <td>1.0</td>\n",
       "      <td>600.00</td>\n",
       "      <td>Idaplatz 2, 8003 Zürich</td>\n",
       "      <td>befristet</td>\n",
       "      <td>Biete / Suche / Tausche: Wohnung / Zimmer: Bie...</td>\n",
       "      <td>Per Februar 2021 wird in unserer 3er WG direkt...</td>\n",
       "      <td>2020-10-19 17:17:00</td>\n",
       "    </tr>\n",
       "    <tr>\n",
       "      <th>2</th>\n",
       "      <td>https://www.ronorp.net/zuerich/immobilien/wg-z...</td>\n",
       "      <td>2073817_1220_fe72ecc8e4d34be149e7261f78f629cd</td>\n",
       "      <td>[]</td>\n",
       "      <td>https://www.ronorp.net/zuerich/immobilien/wg-z...</td>\n",
       "      <td>https://www.ronorp.net/zuerich/immobilien/wg-z...</td>\n",
       "      <td>Zimmer in Wiedikon ab November</td>\n",
       "      <td>NaN</td>\n",
       "      <td>ContentList</td>\n",
       "      <td>ContentTitle</td>\n",
       "      <td>click</td>\n",
       "      <td>...</td>\n",
       "      <td>Wohnung / Zimmer</td>\n",
       "      <td>Biete</td>\n",
       "      <td>Mieten</td>\n",
       "      <td>1.0</td>\n",
       "      <td>850.00</td>\n",
       "      <td>Üetlibergstrasse 139, 8045 Zürich</td>\n",
       "      <td>unbefristet</td>\n",
       "      <td>Biete / Suche / Tausche: Wohnung / Zimmer: Bie...</td>\n",
       "      <td>Möbliertes Zimmer in ruhiger Lage, Wiedikon / ...</td>\n",
       "      <td>2020-10-19 15:01:00</td>\n",
       "    </tr>\n",
       "    <tr>\n",
       "      <th>3</th>\n",
       "      <td>https://www.ronorp.net/zuerich/immobilien/wg-z...</td>\n",
       "      <td>2073814_1220_f0659770b0977a7c8ffbb6832e9c0033</td>\n",
       "      <td>[]</td>\n",
       "      <td>https://www.ronorp.net/zuerich/immobilien/wg-z...</td>\n",
       "      <td>https://www.ronorp.net/zuerich/immobilien/wg-z...</td>\n",
       "      <td>WG50plus</td>\n",
       "      <td>NaN</td>\n",
       "      <td>ContentList</td>\n",
       "      <td>ContentTitle</td>\n",
       "      <td>click</td>\n",
       "      <td>...</td>\n",
       "      <td>Wohnung / Zimmer</td>\n",
       "      <td>Biete</td>\n",
       "      <td>Mieten</td>\n",
       "      <td>4.0</td>\n",
       "      <td>415.00</td>\n",
       "      <td>8037</td>\n",
       "      <td>unbefristet</td>\n",
       "      <td>Biete / Suche / Tausche: Wohnung / Zimmer: Bie...</td>\n",
       "      <td>WG50plus sucht 2 bis 3 Mitbewohner/innen In un...</td>\n",
       "      <td>2020-10-19 14:50:00</td>\n",
       "    </tr>\n",
       "    <tr>\n",
       "      <th>4</th>\n",
       "      <td>https://www.ronorp.net/zuerich/immobilien/wg-z...</td>\n",
       "      <td>2073812_1220_208cb283121797bd1cde1ab5b19830fc</td>\n",
       "      <td>[]</td>\n",
       "      <td>https://www.ronorp.net/zuerich/immobilien/wg-z...</td>\n",
       "      <td>https://www.ronorp.net/zuerich/immobilien/wg-z...</td>\n",
       "      <td>zentrales WG-Zimmer frei mit Aussicht &amp; Büsis ...</td>\n",
       "      <td>NaN</td>\n",
       "      <td>ContentList</td>\n",
       "      <td>ContentTitle</td>\n",
       "      <td>click</td>\n",
       "      <td>...</td>\n",
       "      <td>Wohnung / Zimmer</td>\n",
       "      <td>Biete</td>\n",
       "      <td>Mieten</td>\n",
       "      <td>1.0</td>\n",
       "      <td>550.00</td>\n",
       "      <td>Brunnmattstrasse 24, 3005 Bern</td>\n",
       "      <td>unbefristet</td>\n",
       "      <td>Biete / Suche / Tausche: Wohnung / Zimmer: Bie...</td>\n",
       "      <td>Hier hast du alles in der Nähe: Coop und Denne...</td>\n",
       "      <td>2020-10-19 14:38:00</td>\n",
       "    </tr>\n",
       "    <tr>\n",
       "      <th>...</th>\n",
       "      <td>...</td>\n",
       "      <td>...</td>\n",
       "      <td>...</td>\n",
       "      <td>...</td>\n",
       "      <td>...</td>\n",
       "      <td>...</td>\n",
       "      <td>...</td>\n",
       "      <td>...</td>\n",
       "      <td>...</td>\n",
       "      <td>...</td>\n",
       "      <td>...</td>\n",
       "      <td>...</td>\n",
       "      <td>...</td>\n",
       "      <td>...</td>\n",
       "      <td>...</td>\n",
       "      <td>...</td>\n",
       "      <td>...</td>\n",
       "      <td>...</td>\n",
       "      <td>...</td>\n",
       "      <td>...</td>\n",
       "      <td>...</td>\n",
       "    </tr>\n",
       "    <tr>\n",
       "      <th>234</th>\n",
       "      <td>https://www.ronorp.net/zuerich/immobilien/wg-z...</td>\n",
       "      <td>2074836_1220_a75621ea1023aa5417f6a0e3d719c003</td>\n",
       "      <td>[]</td>\n",
       "      <td>https://www.ronorp.net/zuerich/immobilien/wg-z...</td>\n",
       "      <td>https://www.ronorp.net/zuerich/immobilien/wg-z...</td>\n",
       "      <td>Charming shared flat in Seebach</td>\n",
       "      <td>NaN</td>\n",
       "      <td>ContentList</td>\n",
       "      <td>ContentTitle</td>\n",
       "      <td>click</td>\n",
       "      <td>...</td>\n",
       "      <td>Wohnung / Zimmer</td>\n",
       "      <td>Biete</td>\n",
       "      <td>Mieten</td>\n",
       "      <td>1.0</td>\n",
       "      <td>680.00</td>\n",
       "      <td>Schwandenwiesen 7, 8052 Zurich</td>\n",
       "      <td>unbefristet</td>\n",
       "      <td>Biete / Suche / Tausche: Wohnung / Zimmer: Bie...</td>\n",
       "      <td># from 17 Nov 2020 on.\\n15m2 room with bed, ma...</td>\n",
       "      <td>2020-10-21 08:05:00</td>\n",
       "    </tr>\n",
       "    <tr>\n",
       "      <th>235</th>\n",
       "      <td>https://www.ronorp.net/zuerich/immobilien/wg-z...</td>\n",
       "      <td>2074825_1220_b8e981af1b62adc696404ad4a87ab85d</td>\n",
       "      <td>[]</td>\n",
       "      <td>https://www.ronorp.net/zuerich/immobilien/wg-z...</td>\n",
       "      <td>https://www.ronorp.net/zuerich/immobilien/wg-z...</td>\n",
       "      <td>WG Zimmer gleich beim Idaplatz</td>\n",
       "      <td>NaN</td>\n",
       "      <td>ContentList</td>\n",
       "      <td>ContentTitle</td>\n",
       "      <td>click</td>\n",
       "      <td>...</td>\n",
       "      <td>Wohnung / Zimmer</td>\n",
       "      <td>Biete</td>\n",
       "      <td>Mieten</td>\n",
       "      <td>1.0</td>\n",
       "      <td>890.00</td>\n",
       "      <td>Gertrudstrasse, 8003 Zürich</td>\n",
       "      <td>unbefristet</td>\n",
       "      <td>Biete / Suche / Tausche: Wohnung / Zimmer: Bie...</td>\n",
       "      <td>In unsere Zweier-WG gleich beim Idaplatz wird ...</td>\n",
       "      <td>2020-10-21 00:03:00</td>\n",
       "    </tr>\n",
       "    <tr>\n",
       "      <th>236</th>\n",
       "      <td>https://www.ronorp.net/zuerich/immobilien/wg-z...</td>\n",
       "      <td>2074823_1220_353172e7cac31d32f84609b85af6f2f7</td>\n",
       "      <td>[]</td>\n",
       "      <td>https://www.ronorp.net/zuerich/immobilien/wg-z...</td>\n",
       "      <td>https://www.ronorp.net/zuerich/immobilien/wg-z...</td>\n",
       "      <td>2 neue Mitbewohner für eine 4er-WG in Oerlikon...</td>\n",
       "      <td>NaN</td>\n",
       "      <td>ContentList</td>\n",
       "      <td>ContentTitle</td>\n",
       "      <td>click</td>\n",
       "      <td>...</td>\n",
       "      <td>Wohnung / Zimmer</td>\n",
       "      <td>Biete</td>\n",
       "      <td>unknown</td>\n",
       "      <td>5.5</td>\n",
       "      <td>700.00</td>\n",
       "      <td>Binzmühlestrasse 78, 8050 Zürich</td>\n",
       "      <td>unknown</td>\n",
       "      <td>Biete / Suche / Tausche: Wohnung / Zimmer: Bie...</td>\n",
       "      <td>--- Englsih below ---\\n\\nDie Wohnung liegt ger...</td>\n",
       "      <td>2020-10-20 23:39:00</td>\n",
       "    </tr>\n",
       "    <tr>\n",
       "      <th>237</th>\n",
       "      <td>https://www.ronorp.net/zuerich/immobilien/wg-z...</td>\n",
       "      <td>2074809_1220_4f8f22f0e9fb284dbf8d29a1fa25ea6a</td>\n",
       "      <td>[]</td>\n",
       "      <td>https://www.ronorp.net/zuerich/immobilien/wg-z...</td>\n",
       "      <td>https://www.ronorp.net/zuerich/immobilien/wg-z...</td>\n",
       "      <td>Room with a view to the lake!</td>\n",
       "      <td>NaN</td>\n",
       "      <td>ContentList</td>\n",
       "      <td>ContentTitle</td>\n",
       "      <td>click</td>\n",
       "      <td>...</td>\n",
       "      <td>Wohnung / Zimmer</td>\n",
       "      <td>Biete</td>\n",
       "      <td>Mieten</td>\n",
       "      <td>1.0</td>\n",
       "      <td>1'045.00</td>\n",
       "      <td>Kilchbergsteig, 8038 Zürich</td>\n",
       "      <td>unbefristet</td>\n",
       "      <td>Biete / Suche / Tausche: Wohnung / Zimmer: Bie...</td>\n",
       "      <td>Beautiful Villa with a view to the Lake!!\\nRoo...</td>\n",
       "      <td>2020-10-20 22:46:00</td>\n",
       "    </tr>\n",
       "    <tr>\n",
       "      <th>238</th>\n",
       "      <td>https://www.ronorp.net/zuerich/immobilien/wg-z...</td>\n",
       "      <td>2074803_1220_e3b8cb5c346721941685630ab95ef38a</td>\n",
       "      <td>[]</td>\n",
       "      <td>https://www.ronorp.net/zuerich/immobilien/wg-z...</td>\n",
       "      <td>https://www.ronorp.net/zuerich/immobilien/wg-z...</td>\n",
       "      <td>2 Zimmer in einer 3 Zimmer-WG</td>\n",
       "      <td>NaN</td>\n",
       "      <td>ContentList</td>\n",
       "      <td>ContentTitle</td>\n",
       "      <td>click</td>\n",
       "      <td>...</td>\n",
       "      <td>Wohnung / Zimmer</td>\n",
       "      <td>Biete</td>\n",
       "      <td>Mieten</td>\n",
       "      <td>2.0</td>\n",
       "      <td>1'190.00</td>\n",
       "      <td>Wibichstrasse 25, 8037 Zürich</td>\n",
       "      <td>unbefristet</td>\n",
       "      <td>Biete / Suche / Tausche: Wohnung / Zimmer: Bie...</td>\n",
       "      <td>Hallo du! :)\\n\\nErstmal zu der Wohnung: Die zw...</td>\n",
       "      <td>2020-10-20 22:14:00</td>\n",
       "    </tr>\n",
       "  </tbody>\n",
       "</table>\n",
       "<p>239 rows × 24 columns</p>\n",
       "</div>"
      ],
      "text/plain": [
       "                                             index_url  \\\n",
       "0    https://www.ronorp.net/zuerich/immobilien/wg-z...   \n",
       "1    https://www.ronorp.net/zuerich/immobilien/wg-z...   \n",
       "2    https://www.ronorp.net/zuerich/immobilien/wg-z...   \n",
       "3    https://www.ronorp.net/zuerich/immobilien/wg-z...   \n",
       "4    https://www.ronorp.net/zuerich/immobilien/wg-z...   \n",
       "..                                                 ...   \n",
       "234  https://www.ronorp.net/zuerich/immobilien/wg-z...   \n",
       "235  https://www.ronorp.net/zuerich/immobilien/wg-z...   \n",
       "236  https://www.ronorp.net/zuerich/immobilien/wg-z...   \n",
       "237  https://www.ronorp.net/zuerich/immobilien/wg-z...   \n",
       "238  https://www.ronorp.net/zuerich/immobilien/wg-z...   \n",
       "\n",
       "                              data-advert-position class  \\\n",
       "0    2042131_1220_17339d9c5389a0a775dc1d31c96d5c9b    []   \n",
       "1    2074090_1220_bf9d198c378aaf06153dd1319589670b    []   \n",
       "2    2073817_1220_fe72ecc8e4d34be149e7261f78f629cd    []   \n",
       "3    2073814_1220_f0659770b0977a7c8ffbb6832e9c0033    []   \n",
       "4    2073812_1220_208cb283121797bd1cde1ab5b19830fc    []   \n",
       "..                                             ...   ...   \n",
       "234  2074836_1220_a75621ea1023aa5417f6a0e3d719c003    []   \n",
       "235  2074825_1220_b8e981af1b62adc696404ad4a87ab85d    []   \n",
       "236  2074823_1220_353172e7cac31d32f84609b85af6f2f7    []   \n",
       "237  2074809_1220_4f8f22f0e9fb284dbf8d29a1fa25ea6a    []   \n",
       "238  2074803_1220_e3b8cb5c346721941685630ab95ef38a    []   \n",
       "\n",
       "                                                  href  \\\n",
       "0    https://www.ronorp.net/zuerich/immobilien/wg-z...   \n",
       "1    https://www.ronorp.net/zuerich/immobilien/wg-z...   \n",
       "2    https://www.ronorp.net/zuerich/immobilien/wg-z...   \n",
       "3    https://www.ronorp.net/zuerich/immobilien/wg-z...   \n",
       "4    https://www.ronorp.net/zuerich/immobilien/wg-z...   \n",
       "..                                                 ...   \n",
       "234  https://www.ronorp.net/zuerich/immobilien/wg-z...   \n",
       "235  https://www.ronorp.net/zuerich/immobilien/wg-z...   \n",
       "236  https://www.ronorp.net/zuerich/immobilien/wg-z...   \n",
       "237  https://www.ronorp.net/zuerich/immobilien/wg-z...   \n",
       "238  https://www.ronorp.net/zuerich/immobilien/wg-z...   \n",
       "\n",
       "                                        data-attr-href  \\\n",
       "0    https://www.ronorp.net/zuerich/immobilien/wg-z...   \n",
       "1    https://www.ronorp.net/zuerich/immobilien/wg-z...   \n",
       "2    https://www.ronorp.net/zuerich/immobilien/wg-z...   \n",
       "3    https://www.ronorp.net/zuerich/immobilien/wg-z...   \n",
       "4    https://www.ronorp.net/zuerich/immobilien/wg-z...   \n",
       "..                                                 ...   \n",
       "234  https://www.ronorp.net/zuerich/immobilien/wg-z...   \n",
       "235  https://www.ronorp.net/zuerich/immobilien/wg-z...   \n",
       "236  https://www.ronorp.net/zuerich/immobilien/wg-z...   \n",
       "237  https://www.ronorp.net/zuerich/immobilien/wg-z...   \n",
       "238  https://www.ronorp.net/zuerich/immobilien/wg-z...   \n",
       "\n",
       "                                                   alt  data-trace  \\\n",
       "0    Wunderschönes Co-Living Haus mit 38 Suiten in ...         NaN   \n",
       "1             WG-Zimmer am Idaplatz bis Ende Juni 2022         NaN   \n",
       "2                       Zimmer in Wiedikon ab November         NaN   \n",
       "3                                             WG50plus         NaN   \n",
       "4    zentrales WG-Zimmer frei mit Aussicht & Büsis ...         NaN   \n",
       "..                                                 ...         ...   \n",
       "234                    Charming shared flat in Seebach         NaN   \n",
       "235                     WG Zimmer gleich beim Idaplatz         NaN   \n",
       "236  2 neue Mitbewohner für eine 4er-WG in Oerlikon...         NaN   \n",
       "237                      Room with a view to the lake!         NaN   \n",
       "238                      2 Zimmer in einer 3 Zimmer-WG         NaN   \n",
       "\n",
       "    data-category    data-label data-actions  ...         category1 bid_ask  \\\n",
       "0     ContentList  ContentTitle        click  ...  Wohnung / Zimmer   Biete   \n",
       "1     ContentList  ContentTitle        click  ...  Wohnung / Zimmer   Biete   \n",
       "2     ContentList  ContentTitle        click  ...  Wohnung / Zimmer   Biete   \n",
       "3     ContentList  ContentTitle        click  ...  Wohnung / Zimmer   Biete   \n",
       "4     ContentList  ContentTitle        click  ...  Wohnung / Zimmer   Biete   \n",
       "..            ...           ...          ...  ...               ...     ...   \n",
       "234   ContentList  ContentTitle        click  ...  Wohnung / Zimmer   Biete   \n",
       "235   ContentList  ContentTitle        click  ...  Wohnung / Zimmer   Biete   \n",
       "236   ContentList  ContentTitle        click  ...  Wohnung / Zimmer   Biete   \n",
       "237   ContentList  ContentTitle        click  ...  Wohnung / Zimmer   Biete   \n",
       "238   ContentList  ContentTitle        click  ...  Wohnung / Zimmer   Biete   \n",
       "\n",
       "     rent_buy rooms      cost                             address  \\\n",
       "0      Mieten   1.0  1'095.00         Marktgasse 19, 8038 Kloten    \n",
       "1      Mieten   1.0    600.00            Idaplatz 2, 8003 Zürich    \n",
       "2      Mieten   1.0    850.00  Üetlibergstrasse 139, 8045 Zürich    \n",
       "3      Mieten   4.0    415.00                               8037    \n",
       "4      Mieten   1.0    550.00     Brunnmattstrasse 24, 3005 Bern    \n",
       "..        ...   ...       ...                                 ...   \n",
       "234    Mieten   1.0    680.00     Schwandenwiesen 7, 8052 Zurich    \n",
       "235    Mieten   1.0    890.00        Gertrudstrasse, 8003 Zürich    \n",
       "236   unknown   5.5    700.00   Binzmühlestrasse 78, 8050 Zürich    \n",
       "237    Mieten   1.0  1'045.00        Kilchbergsteig, 8038 Zürich    \n",
       "238    Mieten   2.0  1'190.00      Wibichstrasse 25, 8037 Zürich    \n",
       "\n",
       "        duration                                            details  \\\n",
       "0    unbefristet  Biete / Suche / Tausche: Wohnung / Zimmer: Bie...   \n",
       "1      befristet  Biete / Suche / Tausche: Wohnung / Zimmer: Bie...   \n",
       "2    unbefristet  Biete / Suche / Tausche: Wohnung / Zimmer: Bie...   \n",
       "3    unbefristet  Biete / Suche / Tausche: Wohnung / Zimmer: Bie...   \n",
       "4    unbefristet  Biete / Suche / Tausche: Wohnung / Zimmer: Bie...   \n",
       "..           ...                                                ...   \n",
       "234  unbefristet  Biete / Suche / Tausche: Wohnung / Zimmer: Bie...   \n",
       "235  unbefristet  Biete / Suche / Tausche: Wohnung / Zimmer: Bie...   \n",
       "236      unknown  Biete / Suche / Tausche: Wohnung / Zimmer: Bie...   \n",
       "237  unbefristet  Biete / Suche / Tausche: Wohnung / Zimmer: Bie...   \n",
       "238  unbefristet  Biete / Suche / Tausche: Wohnung / Zimmer: Bie...   \n",
       "\n",
       "                                                  text            timestamp  \n",
       "0    Ich glaube, dass zusammen einfach schöner ist ...  2020-02-09 10:53:00  \n",
       "1    Per Februar 2021 wird in unserer 3er WG direkt...  2020-10-19 17:17:00  \n",
       "2    Möbliertes Zimmer in ruhiger Lage, Wiedikon / ...  2020-10-19 15:01:00  \n",
       "3    WG50plus sucht 2 bis 3 Mitbewohner/innen In un...  2020-10-19 14:50:00  \n",
       "4    Hier hast du alles in der Nähe: Coop und Denne...  2020-10-19 14:38:00  \n",
       "..                                                 ...                  ...  \n",
       "234  # from 17 Nov 2020 on.\\n15m2 room with bed, ma...  2020-10-21 08:05:00  \n",
       "235  In unsere Zweier-WG gleich beim Idaplatz wird ...  2020-10-21 00:03:00  \n",
       "236  --- Englsih below ---\\n\\nDie Wohnung liegt ger...  2020-10-20 23:39:00  \n",
       "237  Beautiful Villa with a view to the Lake!!\\nRoo...  2020-10-20 22:46:00  \n",
       "238  Hallo du! :)\\n\\nErstmal zu der Wohnung: Die zw...  2020-10-20 22:14:00  \n",
       "\n",
       "[239 rows x 24 columns]"
      ]
     },
     "execution_count": 18,
     "metadata": {},
     "output_type": "execute_result"
    }
   ],
   "source": [
    "import pandas as pd\n",
    "import os\n",
    "from pathlib import Path\n",
    "root=Path(os.getcwd()).parent\n",
    "fname = root / 'data' / 'processed_data.csv'\n",
    "df=pd.read_csv(fname)\n",
    "df"
   ]
  },
  {
   "cell_type": "code",
   "execution_count": 19,
   "metadata": {},
   "outputs": [
    {
     "data": {
      "text/plain": [
       "['address',\n",
       " 'alt',\n",
       " 'bid_ask',\n",
       " 'category1',\n",
       " 'class',\n",
       " 'cost',\n",
       " 'data-actions',\n",
       " 'data-advert-position',\n",
       " 'data-attr-href',\n",
       " 'data-category',\n",
       " 'data-label',\n",
       " 'data-trace',\n",
       " 'details',\n",
       " 'domain',\n",
       " 'duration',\n",
       " 'fname',\n",
       " 'href',\n",
       " 'index_url',\n",
       " 'processed',\n",
       " 'rent_buy',\n",
       " 'rooms',\n",
       " 'scrape_ts',\n",
       " 'text',\n",
       " 'timestamp']"
      ]
     },
     "execution_count": 19,
     "metadata": {},
     "output_type": "execute_result"
    }
   ],
   "source": [
    "sorted(df.columns)"
   ]
  },
  {
   "cell_type": "code",
   "execution_count": 16,
   "metadata": {},
   "outputs": [
    {
     "data": {
      "text/plain": [
       "['address',\n",
       " 'alt',\n",
       " 'bid_ask',\n",
       " 'category1',\n",
       " 'class',\n",
       " 'cost',\n",
       " 'data-actions',\n",
       " 'data-advert-position',\n",
       " 'data-attr-href',\n",
       " 'data-category',\n",
       " 'data-label',\n",
       " 'data-trace',\n",
       " 'details',\n",
       " 'domain',\n",
       " 'duration',\n",
       " 'fname',\n",
       " 'href',\n",
       " 'index_url',\n",
       " 'processed',\n",
       " 'rent_buy',\n",
       " 'rooms',\n",
       " 'scrape_ts',\n",
       " 'text',\n",
       " 'timestamp']"
      ]
     },
     "execution_count": 16,
     "metadata": {},
     "output_type": "execute_result"
    }
   ],
   "source": [
    "df=df.drop(columns=['Unnamed: 0',\n",
    " 'Unnamed: 0.1',\n",
    " 'Unnamed: 0.1.1',])\n",
    "sorted(df.columns)"
   ]
  },
  {
   "cell_type": "code",
   "execution_count": 17,
   "metadata": {},
   "outputs": [],
   "source": [
    "df.to_csv(fname,index=False)"
   ]
  },
  {
   "cell_type": "code",
   "execution_count": 22,
   "metadata": {},
   "outputs": [
    {
     "data": {
      "text/html": [
       "<div>\n",
       "<style scoped>\n",
       "    .dataframe tbody tr th:only-of-type {\n",
       "        vertical-align: middle;\n",
       "    }\n",
       "\n",
       "    .dataframe tbody tr th {\n",
       "        vertical-align: top;\n",
       "    }\n",
       "\n",
       "    .dataframe thead th {\n",
       "        text-align: right;\n",
       "    }\n",
       "</style>\n",
       "<table border=\"1\" class=\"dataframe\">\n",
       "  <thead>\n",
       "    <tr style=\"text-align: right;\">\n",
       "      <th></th>\n",
       "      <th>index_url</th>\n",
       "      <th>data-advert-position</th>\n",
       "      <th>class</th>\n",
       "      <th>href</th>\n",
       "      <th>data-attr-href</th>\n",
       "      <th>alt</th>\n",
       "      <th>data-trace</th>\n",
       "      <th>data-category</th>\n",
       "      <th>data-label</th>\n",
       "      <th>data-actions</th>\n",
       "      <th>...</th>\n",
       "      <th>category1</th>\n",
       "      <th>bid_ask</th>\n",
       "      <th>rent_buy</th>\n",
       "      <th>rooms</th>\n",
       "      <th>cost</th>\n",
       "      <th>address</th>\n",
       "      <th>duration</th>\n",
       "      <th>details</th>\n",
       "      <th>text</th>\n",
       "      <th>timestamp</th>\n",
       "    </tr>\n",
       "  </thead>\n",
       "  <tbody>\n",
       "  </tbody>\n",
       "</table>\n",
       "<p>0 rows × 24 columns</p>\n",
       "</div>"
      ],
      "text/plain": [
       "Empty DataFrame\n",
       "Columns: [index_url, data-advert-position, class, href, data-attr-href, alt, data-trace, data-category, data-label, data-actions, fname, scrape_ts, processed, domain, category1, bid_ask, rent_buy, rooms, cost, address, duration, details, text, timestamp]\n",
       "Index: []\n",
       "\n",
       "[0 rows x 24 columns]"
      ]
     },
     "execution_count": 22,
     "metadata": {},
     "output_type": "execute_result"
    }
   ],
   "source": [
    "df[df['index_url'] != df['href']]"
   ]
  },
  {
   "cell_type": "code",
   "execution_count": null,
   "metadata": {},
   "outputs": [],
   "source": []
  }
 ],
 "metadata": {
  "kernelspec": {
   "display_name": "Python 3",
   "language": "python",
   "name": "python3"
  },
  "language_info": {
   "codemirror_mode": {
    "name": "ipython",
    "version": 3
   },
   "file_extension": ".py",
   "mimetype": "text/x-python",
   "name": "python",
   "nbconvert_exporter": "python",
   "pygments_lexer": "ipython3",
   "version": "3.8.5"
  }
 },
 "nbformat": 4,
 "nbformat_minor": 4
}
